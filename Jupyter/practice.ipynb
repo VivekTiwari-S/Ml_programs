{
 "cells": [
  {
   "cell_type": "markdown",
   "id": "eaa58274",
   "metadata": {},
   "source": [
    "## To get unique values from the list"
   ]
  },
  {
   "cell_type": "code",
   "execution_count": 10,
   "id": "e60a083f",
   "metadata": {},
   "outputs": [
    {
     "name": "stdout",
     "output_type": "stream",
     "text": [
      "Enter a list :1 1 1 2 3 4 \n",
      "1 2 3 4 "
     ]
    }
   ],
   "source": [
    "def func1(a):\n",
    "    list = []\n",
    "    \n",
    "    for x in a:\n",
    "        if x not in list:\n",
    "            list.append(x)\n",
    "    for x in list:\n",
    "        print(x,end=\" \")\n",
    "        \n",
    "a=list(input(\"Enter a list :\").split())\n",
    "func1(a)"
   ]
  },
  {
   "cell_type": "code",
   "execution_count": 4,
   "id": "15a34df6",
   "metadata": {},
   "outputs": [
    {
     "name": "stdout",
     "output_type": "stream",
     "text": [
      "[0, 1, 2, 3, 5, 6, -1]\n"
     ]
    }
   ],
   "source": [
    "import random\n",
    "l = []\n",
    "for i in range(0,13):\n",
    "    a = random.randint(-1,7)\n",
    "    l.append(a)\n",
    "print(list(set(l)))"
   ]
  },
  {
   "cell_type": "code",
   "execution_count": 2,
   "id": "a3bb1e85",
   "metadata": {},
   "outputs": [
    {
     "name": "stdout",
     "output_type": "stream",
     "text": [
      "Enter the number:5\n",
      "120\n"
     ]
    }
   ],
   "source": [
    "def fact(n):\n",
    "    if n==0 or n==1:\n",
    "        return 1\n",
    "    else:\n",
    "        return n * fact(n-1)\n",
    "n=int(input(\"Enter the number:\"))\n",
    "print(fact(n))"
   ]
  },
  {
   "cell_type": "code",
   "execution_count": null,
   "id": "77e3dbe3",
   "metadata": {},
   "outputs": [],
   "source": []
  }
 ],
 "metadata": {
  "kernelspec": {
   "display_name": "Python 3 (ipykernel)",
   "language": "python",
   "name": "python3"
  },
  "language_info": {
   "codemirror_mode": {
    "name": "ipython",
    "version": 3
   },
   "file_extension": ".py",
   "mimetype": "text/x-python",
   "name": "python",
   "nbconvert_exporter": "python",
   "pygments_lexer": "ipython3",
   "version": "3.9.7"
  }
 },
 "nbformat": 4,
 "nbformat_minor": 5
}
