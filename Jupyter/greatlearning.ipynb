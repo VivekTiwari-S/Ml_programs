{
 "cells": [
  {
   "cell_type": "code",
   "execution_count": 2,
   "id": "0183048f",
   "metadata": {},
   "outputs": [
    {
     "name": "stdout",
     "output_type": "stream",
     "text": [
      "Enter the number : 125464521\n",
      "125464521 is palindrome !\n"
     ]
    }
   ],
   "source": [
    "# to check if entered number is palindrome or not \n",
    "\n",
    "x = input(\"Enter the number : \")\n",
    "y = x[::-1]\n",
    "\n",
    "if x == y:\n",
    "    print(\"%s is palindrome !\"%x)\n",
    "else:\n",
    "    print(x,\"is not a palindrome !\")"
   ]
  },
  {
   "cell_type": "code",
   "execution_count": 8,
   "id": "17b26e78",
   "metadata": {},
   "outputs": [
    {
     "name": "stdout",
     "output_type": "stream",
     "text": [
      "Enter the number : 125\n",
      "125 x 1 = 125\n",
      "125 x 2 = 250\n",
      "125 x 3 = 375\n",
      "125 x 4 = 500\n",
      "125 x 5 = 625\n",
      "125 x 6 = 750\n",
      "125 x 7 = 875\n",
      "125 x 8 = 1000\n",
      "125 x 9 = 1125\n",
      "125 x 10 = 1250\n"
     ]
    }
   ],
   "source": [
    "# to print the table of any number \n",
    "\n",
    "i = 1\n",
    "num = int(input(\"Enter the number : \"))\n",
    "\n",
    "while i <= 10:\n",
    "    print(num , \"x\" , i , \"=\" , num*i)\n",
    "    i += 1"
   ]
  },
  {
   "cell_type": "code",
   "execution_count": 9,
   "id": "0e52cd31",
   "metadata": {},
   "outputs": [
    {
     "name": "stdout",
     "output_type": "stream",
     "text": [
      "[1, 2, 3, 4, 5]\n",
      "[16, 17, 18, 19, 20]\n"
     ]
    }
   ],
   "source": [
    "# to increase or decrease the value of list element\n",
    "\n",
    "list1 = [1,2,3,4,5]\n",
    "i = 0\n",
    "print(list1)\n",
    "\n",
    "while i < len(list1):\n",
    "    list1[i] += 15   # adding 10 to each element of list1\n",
    "    i += 1\n",
    "print(list1)"
   ]
  },
  {
   "cell_type": "code",
   "execution_count": 10,
   "id": "7a1d6dd7",
   "metadata": {},
   "outputs": [
    {
     "name": "stdout",
     "output_type": "stream",
     "text": [
      "Enter list items : 1 5 8 6 2\n",
      "Enter the value you want to add or substract from list items : 2\n",
      "Do you want to add or substract ? sub\n",
      "List before substracting is:  [1, 5, 8, 6, 2]\n",
      "List after substracting is:  [-1, 3, 6, 4, 0]\n"
     ]
    }
   ],
   "source": [
    "# to increase or decrease the value of list elements\n",
    "\n",
    "x = list(map(int,input(\"Enter list items : \").split()))\n",
    "y = int(input(\"Enter the value you want to add or subtract from list items : \"))\n",
    "z = input(\"Do you want to add or subtract ? \")\n",
    "i = 0\n",
    "\n",
    "if z == \"add\":\n",
    "    print(\"List before adding is: \",x)\n",
    "    \n",
    "    while i < len(x):\n",
    "        x[i] += y\n",
    "        i += 1\n",
    "    print(\"List after adding is: \",x)\n",
    "    \n",
    "elif z == \"sub\":\n",
    "    print(\"List before subtracting is: \",x)\n",
    "    \n",
    "    while i < len(x):\n",
    "        x[i] -= y\n",
    "        i += 1\n",
    "    print(\"List after subtracting is: \",x)\n",
    "    \n",
    "else:\n",
    "    print(\"Enter a valid input !! \")\n",
    "    "
   ]
  },
  {
   "cell_type": "code",
   "execution_count": 11,
   "id": "ccbecee8",
   "metadata": {},
   "outputs": [
    {
     "name": "stdout",
     "output_type": "stream",
     "text": [
      "Enter a string : Hello all, good evening\n",
      "H\n",
      "ello\n",
      "Hello all, good eveningHello all, good eveningHello all, good eveningHello all, good evening\n",
      "HELLO ALL, GOOD EVENING\n",
      "Hello all, good evening\n",
      "hello all, good evening\n"
     ]
    }
   ],
   "source": [
    "# operations on a string\n",
    "\n",
    "x = input(\"Enter a string : \")\n",
    "\n",
    "print(x[0]) # to print first letter of string\n",
    "print(x[1:5]) # to print string from it's 2nd character to 4th character (5 is exclusive)\n",
    "\n",
    "print(x*4) # to print the string 4 times\n",
    "print(x.upper()) # to print string in uppercase \n",
    "\n",
    "print(x.capitalize()) # to print string with first letter capital\n",
    "print(x.lower()) # to print string in lowercase"
   ]
  },
  {
   "cell_type": "code",
   "execution_count": 12,
   "id": "e6c69aab",
   "metadata": {},
   "outputs": [
    {
     "name": "stdout",
     "output_type": "stream",
     "text": [
      "Enter the list elements : 5 8 9 6 3 2 4 \n",
      "Enter the number to search : 6\n",
      "Yes 6 is present in list\n",
      "The index at which the number is present is : 3\n"
     ]
    }
   ],
   "source": [
    "# checking the availability of given number in list\n",
    "\n",
    "x = list(map(int,input(\"Enter the list elements : \").split()))\n",
    "y = int(input(\"Enter the number to search : \"))\n",
    "\n",
    "if y in x:\n",
    "    print(\"Yes\",y,\"is present in list\")\n",
    "    print(\"The index at which the number is present is :\",x.index(y))\n",
    "    \n",
    "else:\n",
    "    print(\"No !\",y,\"is not present in list !\")"
   ]
  },
  {
   "cell_type": "code",
   "execution_count": 3,
   "id": "b100b41f",
   "metadata": {},
   "outputs": [
    {
     "name": "stdout",
     "output_type": "stream",
     "text": [
      "2022-12-21 21:24:41.084077\n"
     ]
    }
   ],
   "source": [
    "from datetime import datetime as dt\n",
    "\n",
    "x = dt.now()\n",
    "print(x)"
   ]
  },
  {
   "cell_type": "code",
   "execution_count": 14,
   "id": "2d3c4029",
   "metadata": {},
   "outputs": [
    {
     "name": "stdout",
     "output_type": "stream",
     "text": [
      "{'Mango': 30, 'Orange': 40, 'Apple': 60}\n",
      "Oh! I think mangoes are so cheaply listed but they should not !!\n",
      "Let me change this value !!\n",
      "{'Mango': 70, 'Orange': 40, 'Apple': 60}\n",
      "You can see, I have change the price of mangoes... ha ha ha ha\n"
     ]
    }
   ],
   "source": [
    "# working with dictionaries\n",
    "\n",
    "dict1 = {\"Mango\" : 30 , \"Orange\" : 40 , \"Apple\" : 60 }\n",
    "\n",
    "print(dict1)\n",
    "print(\"Oh! I think mangoes are so cheaply listed but they should not !!\")\n",
    "print(\"Let me change this value !!\")\n",
    "\n",
    "if dict1[\"Mango\"] == 30:\n",
    "    dict1[\"Mango\"] += 40\n",
    "    \n",
    "else:\n",
    "    print(\"It's fair no need to change !\")\n",
    "    \n",
    "print(dict1)\n",
    "print(\"You can see, I have change the price of mangoes... ha ha ha ha\")"
   ]
  },
  {
   "cell_type": "code",
   "execution_count": 15,
   "id": "f2f72d67",
   "metadata": {},
   "outputs": [
    {
     "name": "stdout",
     "output_type": "stream",
     "text": [
      "Inside Great learning\n",
      "Outside GL\n"
     ]
    }
   ],
   "source": [
    "# a kind of call by value \n",
    "\n",
    "def val(string):\n",
    "    string = \"Great learning\"\n",
    "    print(\"Inside\",string)\n",
    "    \n",
    "string = \"GL\"\n",
    "tech(string) # value of string is changed for this function only not for the main function\n",
    "print(\"Outside\",string)\n"
   ]
  },
  {
   "cell_type": "code",
   "execution_count": 16,
   "id": "a0414f0a",
   "metadata": {},
   "outputs": [
    {
     "name": "stdout",
     "output_type": "stream",
     "text": [
      "Set contains :  {97, 2, 4, 5, 8, 9}\n",
      "Now set contains :  {97, 2, 4, 5, 8, 9}\n"
     ]
    }
   ],
   "source": [
    "# a kind of call by reference\n",
    "\n",
    "def ref(set1):\n",
    "    set1.add(97) # value 97 is added to main set \n",
    "    print(\"Set contains : \",set1)\n",
    "    \n",
    "set1 = {2,4,5,8,9}\n",
    "ref(set1)\n",
    "print(\"Now set contains : \",set1)"
   ]
  },
  {
   "cell_type": "code",
   "execution_count": 5,
   "id": "1ba7a139",
   "metadata": {},
   "outputs": [],
   "source": [
    "import numpy as np\n",
    "import seaborn as sns\n",
    "import matplotlib as mtl\n",
    "%matplotlib inline\n"
   ]
  },
  {
   "cell_type": "code",
   "execution_count": 6,
   "id": "7deaf20e",
   "metadata": {},
   "outputs": [
    {
     "name": "stdout",
     "output_type": "stream",
     "text": [
      "[1, 2, 35, 14, 25, 2, 3, 56, 25, 36]\n"
     ]
    }
   ],
   "source": [
    "data = [1,2,35,14,25,2,3,56,25,36]\n",
    "print(data)"
   ]
  },
  {
   "cell_type": "code",
   "execution_count": 7,
   "id": "cf7e7b24",
   "metadata": {},
   "outputs": [
    {
     "name": "stderr",
     "output_type": "stream",
     "text": [
      "C:\\Users\\admin\\anaconda3\\lib\\site-packages\\seaborn\\_decorators.py:36: FutureWarning: Pass the following variable as a keyword arg: x. From version 0.12, the only valid positional argument will be `data`, and passing other arguments without an explicit keyword will result in an error or misinterpretation.\n",
      "  warnings.warn(\n"
     ]
    },
    {
     "data": {
      "text/plain": [
       "<AxesSubplot:>"
      ]
     },
     "execution_count": 7,
     "metadata": {},
     "output_type": "execute_result"
    },
    {
     "data": {
      "image/png": "[encoded data removed]",
      "text/plain": [
       "<Figure size 432x288 with 1 Axes>"
      ]
     },
     "metadata": {
      "needs_background": "light"
     },
     "output_type": "display_data"
    }
   ],
   "source": [
    "sns.boxplot(data)"
   ]
  },
  {
   "cell_type": "code",
   "execution_count": 1,
   "id": "97d9dbb7",
   "metadata": {},
   "outputs": [
    {
     "name": "stdout",
     "output_type": "stream",
     "text": [
      "How many terms do you want : 20\n",
      "Fibonacci series : 1 1 2 3 5 8 13 21 34 55 89 144 233 377 610 987 1597 2584 4181 6765 \n",
      "Even terms :  2 8 34 144 610 2584 "
     ]
    }
   ],
   "source": [
    "# to print fibonacci series upto input no of terms and the even terms of that series\n",
    "def fib(n):\n",
    "    if n < 1 or n == 1 or n == 2:\n",
    "        return 1\n",
    "    else:\n",
    "        return fib(n-1) + fib(n-2)\n",
    "n = int(input('How many terms do you want : '))\n",
    "print('Fibonacci series :', end = ' ')\n",
    "for i in range(1,n+1):\n",
    "    print(fib(i), end = ' ')\n",
    "    \n",
    "print()\n",
    "print('Even terms : ', end = ' ')\n",
    "for i in range(1,n+1):\n",
    "    if fib(i) % 2 == 0:\n",
    "        print(fib(i), end = ' ')\n",
    "    else:\n",
    "        continue"
   ]
  },
  {
   "cell_type": "code",
   "execution_count": 4,
   "id": "783b8a1c",
   "metadata": {},
   "outputs": [
    {
     "name": "stdout",
     "output_type": "stream",
     "text": [
      "Enter the num : 43\n",
      "The num is prime !\n"
     ]
    }
   ],
   "source": [
    "# to check prime number\n",
    "cnum = int(input('Enter the num : '))\n",
    "for i in range(2,cnum):\n",
    "    if cnum % i == 0:\n",
    "        print('The num is not prime !')\n",
    "        break\n",
    "else:\n",
    "    print('The num is prime !')"
   ]
  },
  {
   "cell_type": "code",
   "execution_count": 2,
   "id": "eab2850a",
   "metadata": {},
   "outputs": [
    {
     "name": "stdout",
     "output_type": "stream",
     "text": [
      "40\n",
      "Wall time: 1e+03 µs\n"
     ]
    }
   ],
   "source": []
  },
  {
   "cell_type": "code",
   "execution_count": 5,
   "id": "2eb4ebbf",
   "metadata": {},
   "outputs": [
    {
     "name": "stderr",
     "output_type": "stream",
     "text": [
      "C:\\Users\\admin\\anaconda3\\lib\\site-packages\\scipy\\__init__.py:146: UserWarning: A NumPy version >=1.16.5 and <1.23.0 is required for this version of SciPy (detected version 1.23.5\n",
      "  warnings.warn(f\"A NumPy version >={np_minversion} and <{np_maxversion}\"\n"
     ]
    }
   ],
   "source": [
    "import numpy as np\n",
    "import seaborn as sns\n",
    "import matplotlib as mtl\n",
    "%matplotlib inline"
   ]
  },
  {
   "cell_type": "code",
   "execution_count": 20,
   "id": "9fce845a",
   "metadata": {},
   "outputs": [
    {
     "data": {
      "text/plain": [
       "<seaborn.axisgrid.FacetGrid at 0x1db7424deb0>"
      ]
     },
     "execution_count": 20,
     "metadata": {},
     "output_type": "execute_result"
    },
    {
     "data": {
      "image/png": "[encoded data removed]",
      "text/plain": [
       "<Figure size 360x360 with 1 Axes>"
      ]
     },
     "metadata": {
      "needs_background": "light"
     },
     "output_type": "display_data"
    }
   ],
   "source": [
    "dt = [12,45,41,25,32,65,88,21,20,25,14,14,14,25,25,25,41,62,62,63,64,68,61]\n",
    "#sns.boxplot(dt)\n",
    "# sns.barplot(dt)\n",
    "# sns.countplot(dt)\n",
    "sns.displot(dt)"
   ]
  },
  {
   "cell_type": "code",
   "execution_count": 9,
   "id": "a8985c03",
   "metadata": {},
   "outputs": [
    {
     "data": {
      "text/plain": [
       "['FacetGrid',\n",
       " 'JointGrid',\n",
       " 'PairGrid',\n",
       " '__builtins__',\n",
       " '__cached__',\n",
       " '__doc__',\n",
       " '__file__',\n",
       " '__loader__',\n",
       " '__name__',\n",
       " '__package__',\n",
       " '__path__',\n",
       " '__spec__',\n",
       " '__version__',\n",
       " '_core',\n",
       " '_decorators',\n",
       " '_docstrings',\n",
       " '_orig_rc_params',\n",
       " '_statistics',\n",
       " 'algorithms',\n",
       " 'axes_style',\n",
       " 'axisgrid',\n",
       " 'barplot',\n",
       " 'blend_palette',\n",
       " 'boxenplot',\n",
       " 'boxplot',\n",
       " 'categorical',\n",
       " 'catplot',\n",
       " 'choose_colorbrewer_palette',\n",
       " 'choose_cubehelix_palette',\n",
       " 'choose_dark_palette',\n",
       " 'choose_diverging_palette',\n",
       " 'choose_light_palette',\n",
       " 'clustermap',\n",
       " 'cm',\n",
       " 'color_palette',\n",
       " 'colors',\n",
       " 'countplot',\n",
       " 'crayon_palette',\n",
       " 'crayons',\n",
       " 'cubehelix_palette',\n",
       " 'dark_palette',\n",
       " 'desaturate',\n",
       " 'despine',\n",
       " 'displot',\n",
       " 'distplot',\n",
       " 'distributions',\n",
       " 'diverging_palette',\n",
       " 'dogplot',\n",
       " 'ecdfplot',\n",
       " 'external',\n",
       " 'factorplot',\n",
       " 'get_data_home',\n",
       " 'get_dataset_names',\n",
       " 'heatmap',\n",
       " 'histplot',\n",
       " 'hls_palette',\n",
       " 'husl_palette',\n",
       " 'jointplot',\n",
       " 'kdeplot',\n",
       " 'light_palette',\n",
       " 'lineplot',\n",
       " 'lmplot',\n",
       " 'load_dataset',\n",
       " 'matrix',\n",
       " 'miscplot',\n",
       " 'move_legend',\n",
       " 'mpl',\n",
       " 'mpl_palette',\n",
       " 'pairplot',\n",
       " 'palettes',\n",
       " 'palplot',\n",
       " 'plotting_context',\n",
       " 'pointplot',\n",
       " 'rcmod',\n",
       " 'regplot',\n",
       " 'regression',\n",
       " 'relational',\n",
       " 'relplot',\n",
       " 'reset_defaults',\n",
       " 'reset_orig',\n",
       " 'residplot',\n",
       " 'rugplot',\n",
       " 'saturate',\n",
       " 'scatterplot',\n",
       " 'set',\n",
       " 'set_color_codes',\n",
       " 'set_context',\n",
       " 'set_hls_values',\n",
       " 'set_palette',\n",
       " 'set_style',\n",
       " 'set_theme',\n",
       " 'stripplot',\n",
       " 'swarmplot',\n",
       " 'utils',\n",
       " 'violinplot',\n",
       " 'widgets',\n",
       " 'xkcd_palette',\n",
       " 'xkcd_rgb']"
      ]
     },
     "execution_count": 9,
     "metadata": {},
     "output_type": "execute_result"
    }
   ],
   "source": [
    "dir(sns)"
   ]
  },
  {
   "cell_type": "code",
   "execution_count": null,
   "id": "7cc3fc07",
   "metadata": {},
   "outputs": [],
   "source": []
  }
 ],
 "metadata": {
  "kernelspec": {
   "display_name": "Python 3 (ipykernel)",
   "language": "python",
   "name": "python3"
  },
  "language_info": {
   "codemirror_mode": {
    "name": "ipython",
    "version": 3
   },
   "file_extension": ".py",
   "mimetype": "text/x-python",
   "name": "python",
   "nbconvert_exporter": "python",
   "pygments_lexer": "ipython3",
   "version": "3.9.7"
  }
 },
 "nbformat": 4,
 "nbformat_minor": 5
}
