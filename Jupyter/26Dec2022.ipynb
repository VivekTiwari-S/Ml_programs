{
 "cells": [
  {
   "cell_type": "markdown",
   "id": "c0bc08d8",
   "metadata": {},
   "source": [
    "## Ex : 1 - Hello World !"
   ]
  },
  {
   "cell_type": "code",
   "execution_count": 1,
   "id": "4a06464d",
   "metadata": {},
   "outputs": [
    {
     "name": "stdout",
     "output_type": "stream",
     "text": [
      "Hello, World !\n",
      "Enter your name : vivek\n",
      "Hello vivek\n"
     ]
    }
   ],
   "source": [
    "print('Hello, World !')\n",
    "name = input('Enter your name : ')\n",
    "print('Hello', name)"
   ]
  },
  {
   "cell_type": "markdown",
   "id": "ee3cb756",
   "metadata": {},
   "source": [
    "## Ex : 2 - Temperature Conversion"
   ]
  },
  {
   "cell_type": "code",
   "execution_count": 8,
   "id": "7ee0a644",
   "metadata": {},
   "outputs": [
    {
     "name": "stdout",
     "output_type": "stream",
     "text": [
      "What do you have to convert ? (fah for Fahrenheit and cel for Celsius): cel\n",
      "Enter temp in celsius : 37.6\n",
      "The temperature in Fahrenheit is : 99.68\n"
     ]
    }
   ],
   "source": [
    "def Fah(celtemp):\n",
    "    return 1.8 * celtemp + 32\n",
    "\n",
    "def Cel(fahtemp):\n",
    "    return (fahtemp - 32) / 1.8\n",
    "\n",
    "choice = input('What do you have to convert ? (fah for Fahrenheit and cel for Celsius): ')\n",
    "if choice == 'cel':\n",
    "    temp1 = float(input('Enter temp in celsius : '))\n",
    "    print('The temperature in Fahrenheit is :',Fah(temp1))\n",
    "\n",
    "elif choice == 'fah':\n",
    "    temp2 = float(input('Enter temp in Fahrenheit : '))\n",
    "    print('The temperature in Celsius is :',Cel(temp2))\n",
    "\n",
    "else:\n",
    "    print('Please enter a valid input !')"
   ]
  },
  {
   "cell_type": "markdown",
   "id": "e58ae984",
   "metadata": {},
   "source": [
    "## Ex : 3 - Odd & Even"
   ]
  },
  {
   "cell_type": "code",
   "execution_count": 1,
   "id": "269834f9",
   "metadata": {},
   "outputs": [
    {
     "name": "stdout",
     "output_type": "stream",
     "text": [
      "Enter the number to check : 12\n",
      "12 is even\n"
     ]
    }
   ],
   "source": [
    "x = int(input('Enter the number to check : '))\n",
    "\n",
    "if x % 2 == 0:\n",
    "    print(x,'is even')\n",
    "else:\n",
    "    print(x,'is odd')"
   ]
  },
  {
   "cell_type": "markdown",
   "id": "43b0bd7b",
   "metadata": {},
   "source": [
    "## Ex : 4 - Area & Volume"
   ]
  },
  {
   "cell_type": "code",
   "execution_count": 1,
   "id": "b0885cad",
   "metadata": {},
   "outputs": [
    {
     "name": "stdout",
     "output_type": "stream",
     "text": [
      "1. Area\n",
      "2. Volume\n",
      "3. Perimeter\n",
      "4. Total Area\n",
      "Enter what you want to find : 2\n",
      "Enter length : 12\n",
      "Enter width : 23\n",
      "Enter height : 26\n",
      "Volume is : 7176.0\n"
     ]
    }
   ],
   "source": [
    "def Area():\n",
    "    l = float(input('Enter length : '))\n",
    "    w = float(input('Enter width : '))\n",
    "    print('Area is :',l * w)\n",
    "\n",
    "def Volume():\n",
    "    l1 = float(input('Enter length : '))\n",
    "    w1 = float(input('Enter width : '))\n",
    "    h1 = float(input('Enter height : '))\n",
    "    print('Volume is :',l1 * w1 * h1)\n",
    "\n",
    "def Peri():\n",
    "    l2 = float(input('Enter length : '))\n",
    "    w2 = float(input('Enter width : '))\n",
    "    print('Perimeter is :',2 * (l2 + w2))\n",
    "\n",
    "def TotalArea():\n",
    "    l3 = float(input('Enter length : '))\n",
    "    w3 = float(input('Enter width : '))\n",
    "    h3 = float(input('Enter height : '))\n",
    "    print('Total Area is :',(l3 * w3 * 2) + (l3 * h3 * 2) + (w3 * h3 * 2))\n",
    "\n",
    "print('1. Area\\n2. Volume\\n3. Perimeter\\n4. Total Area')\n",
    "choice = int(input('Enter what you want to find : '))\n",
    "\n",
    "if choice == 1:\n",
    "    Area()\n",
    "elif choice == 2:\n",
    "    Volume()\n",
    "elif choice == 3:\n",
    "    Peri()\n",
    "elif choice == 4:\n",
    "    TotalArea()\n",
    "else:\n",
    "    print('Enter a valid input !')"
   ]
  },
  {
   "cell_type": "markdown",
   "id": "a4573fce",
   "metadata": {},
   "source": [
    "## Ex : 5 - Fizz Buzz"
   ]
  },
  {
   "cell_type": "code",
   "execution_count": 1,
   "id": "461767f9",
   "metadata": {},
   "outputs": [
    {
     "name": "stdout",
     "output_type": "stream",
     "text": [
      "Enter the number upto : 15\n",
      "1 2 Fizz 4 Buzz Fizz 7 8 Fizz Buzz 11 Fizz 13 14 FizzBuzz "
     ]
    }
   ],
   "source": [
    "def Fizzbuzz(num):\n",
    "    for i in range(1, num + 1):\n",
    "        if i % 3 == 0 and i % 5 == 0:\n",
    "            print('FizzBuzz', end = ' ')\n",
    "        elif i % 3 == 0:\n",
    "            print('Fizz', end = ' ')\n",
    "        elif i % 5 == 0:\n",
    "            print('Buzz', end = ' ')\n",
    "        else:\n",
    "            print(i, end = ' ')\n",
    "            \n",
    "num = int(input('Enter the number upto : '))\n",
    "Fizzbuzz(num)"
   ]
  },
  {
   "cell_type": "markdown",
   "id": "7d48a02d",
   "metadata": {},
   "source": [
    "## Ex : 6 - Ordinal suffix"
   ]
  },
  {
   "cell_type": "code",
   "execution_count": 3,
   "id": "4bac0530",
   "metadata": {},
   "outputs": [
    {
     "name": "stdout",
     "output_type": "stream",
     "text": [
      "Enter number : 1545\n",
      "1545th\n"
     ]
    }
   ],
   "source": [
    "def ordinalSuffix(num):\n",
    "    numstr = str(num)\n",
    "\n",
    "    if numstr[-2:] in ('11', '12', '13'):\n",
    "        return numstr + 'th'\n",
    "    if numstr[-1] == '1':\n",
    "        return numstr + 'st'\n",
    "    if numstr[-1] == '2':\n",
    "        return numstr + 'nd'\n",
    "    if numstr[-1] == '3':\n",
    "        return numstr + 'rd'\n",
    "    else:\n",
    "        return numstr + 'th'\n",
    "\n",
    "num = int(input('Enter number : '))\n",
    "print(ordinalSuffix(num))"
   ]
  },
  {
   "cell_type": "markdown",
   "id": "146b4a83",
   "metadata": {},
   "source": [
    "## ASCII Table"
   ]
  },
  {
   "cell_type": "code",
   "execution_count": 2,
   "id": "d27976be",
   "metadata": {},
   "outputs": [
    {
     "name": "stdout",
     "output_type": "stream",
     "text": [
      "Enter starting value :45\n",
      "Enter ending value : 50\n",
      "[45, '-']\n",
      "[46, '.']\n",
      "[47, '/']\n",
      "[48, '0']\n",
      "[49, '1']\n",
      "[50, '2']\n"
     ]
    }
   ],
   "source": [
    "x = int(input('Enter starting value :'))\n",
    "y = int(input('Enter ending value : '))\n",
    "for i in range(x,y+1):\n",
    "    print([i, chr(i)]) "
   ]
  },
  {
   "cell_type": "code",
   "execution_count": null,
   "id": "ff30f914",
   "metadata": {},
   "outputs": [],
   "source": []
  }
 ],
 "metadata": {
  "kernelspec": {
   "display_name": "Python 3 (ipykernel)",
   "language": "python",
   "name": "python3"
  },
  "language_info": {
   "codemirror_mode": {
    "name": "ipython",
    "version": 3
   },
   "file_extension": ".py",
   "mimetype": "text/x-python",
   "name": "python",
   "nbconvert_exporter": "python",
   "pygments_lexer": "ipython3",
   "version": "3.9.7"
  }
 },
 "nbformat": 4,
 "nbformat_minor": 5
}
