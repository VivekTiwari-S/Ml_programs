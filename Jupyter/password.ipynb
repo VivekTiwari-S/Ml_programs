{
 "cells": [
  {
   "cell_type": "code",
   "execution_count": 1,
   "id": "bbebda1e",
   "metadata": {},
   "outputs": [
    {
     "name": "stdout",
     "output_type": "stream",
     "text": [
      "Mail sent\n"
     ]
    }
   ],
   "source": [
    "import smtplib\n",
    "\n",
    "server = smtplib.SMTP('smtp.gmail.com', 587)\n",
    "\n",
    "server.starttls()\n",
    "\n",
    "server.login('vivekst94@gmail.com', 'ykrqaawaypwbqblu')\n",
    "\n",
    "server.sendmail('vivekst94@gmail.com','prog.vivek@gmail.com','Hi it is the first mail im sending')\n",
    "\n",
    "print('Mail sent')"
   ]
  },
  {
   "cell_type": "code",
   "execution_count": 2,
   "id": "9b5d829c",
   "metadata": {},
   "outputs": [
    {
     "name": "stdout",
     "output_type": "stream",
     "text": [
      "Enter length of password : 20\n",
      "Email sent successfully to prog.vivek@gmail.com\n"
     ]
    }
   ],
   "source": [
    "import random\n",
    "import string\n",
    "import smtplib\n",
    "\n",
    "# Generate a random password\n",
    "length = int(input('Enter length of password : '))\n",
    "password1 = ''.join(random.choice(string.ascii_letters + string.digits + string.punctuation) \n",
    "                    for i in range(length))\n",
    "\n",
    "# Your email details\n",
    "sender_email = \"vivekst94@gmail.com\"\n",
    "receiver_email = \"prog.vivek@gmail.com\"\n",
    "password = \"ykrqaawaypwbqblu\"\n",
    "\n",
    "# Email details\n",
    "subject = \"Password generated using python\"\n",
    "body = \"Your new password is: \" + password1\n",
    "\n",
    "# Send the email\n",
    "server = smtplib.SMTP('smtp.gmail.com', 587)\n",
    "server.starttls()\n",
    "server.login(sender_email, password)\n",
    "server.sendmail(sender_email, receiver_email, f'Subject: {subject}\\n\\n{body}')\n",
    "\n",
    "# Print message to confirm email was sent\n",
    "print(\"Email sent successfully to \" + receiver_email)\n"
   ]
  },
  {
   "cell_type": "code",
   "execution_count": null,
   "id": "dbd05613",
   "metadata": {},
   "outputs": [],
   "source": []
  }
 ],
 "metadata": {
  "kernelspec": {
   "display_name": "Python 3 (ipykernel)",
   "language": "python",
   "name": "python3"
  },
  "language_info": {
   "codemirror_mode": {
    "name": "ipython",
    "version": 3
   },
   "file_extension": ".py",
   "mimetype": "text/x-python",
   "name": "python",
   "nbconvert_exporter": "python",
   "pygments_lexer": "ipython3",
   "version": "3.9.7"
  }
 },
 "nbformat": 4,
 "nbformat_minor": 5
}
