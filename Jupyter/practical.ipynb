{
 "cells": [
  {
   "cell_type": "markdown",
   "id": "1eeddb80",
   "metadata": {},
   "source": [
    "## To find win percentage after every ball"
   ]
  },
  {
   "cell_type": "code",
   "execution_count": 5,
   "id": "13f565e6",
   "metadata": {},
   "outputs": [
    {
     "name": "stdout",
     "output_type": "stream",
     "text": [
      "Team 1 is batting\n",
      "Team 2 is bowling\n",
      "2\n",
      "Win 48 Loss 52\n",
      "6\n",
      "Win 56 Loss 44\n",
      "2\n",
      "Win 61 Loss 39\n",
      "3\n",
      "Win 68 Loss 32\n",
      "-1\n",
      "Win 65 Loss 35\n",
      "0\n",
      "Win 60 Loss 40\n",
      "3\n",
      "Win 65 Loss 35\n",
      "4\n",
      "Win 73 Loss 27\n",
      "6\n",
      "Win 79 Loss 21\n",
      "6\n",
      "Win 85 Loss 15\n",
      "0\n",
      "Win 80 Loss 20\n",
      "4\n",
      "Win 83 Loss 17\n"
     ]
    }
   ],
   "source": [
    "import random\n",
    "print(\"Team 1 is batting\")\n",
    "print(\"Team 2 is bowling\")\n",
    "target = 20\n",
    "win = 40\n",
    "loss = 60\n",
    "for i in range(0,12):\n",
    "    x = random.randint(-1,6)\n",
    "    if x==5:\n",
    "        continue\n",
    "    print(x)\n",
    "    if x==-1 or x==0:\n",
    "        if target >=30:\n",
    "            y=random.randint(7,12)\n",
    "            win-=y\n",
    "            loss+=y\n",
    "            print(\"Win\",win,\"Loss\",loss)\n",
    "        else:\n",
    "            z=random.randint(3,8)\n",
    "            win-=z\n",
    "            loss+=z\n",
    "            print(\"Win\",win,\"Loss\",loss)\n",
    "    elif x==1 or x==2:\n",
    "        if target >=30:\n",
    "            y=random.randint(7,12)\n",
    "            win+=y\n",
    "            loss-=y\n",
    "            print(\"Win\",win,\"Loss\",loss)\n",
    "        else:\n",
    "            z=random.randint(3,8)\n",
    "            win+=z\n",
    "            loss-=z\n",
    "            print(\"Win\",win,\"Loss\",loss)\n",
    "    elif x==3 or x==4:\n",
    "        if target >=30:\n",
    "            y=random.randint(7,12)\n",
    "            win+=y\n",
    "            loss-=y\n",
    "            print(\"Win\",win,\"Loss\",loss)\n",
    "        else:\n",
    "            z=random.randint(3,8)\n",
    "            win+=z\n",
    "            loss-=z\n",
    "            print(\"Win\",win,\"Loss\",loss)\n",
    "    else:\n",
    "        if target >=30:\n",
    "            y=random.randint(7,12)\n",
    "            win+=y\n",
    "            loss-=y\n",
    "            print(\"Win\",win,\"Loss\",loss)\n",
    "        else:\n",
    "            z=random.randint(3,8)\n",
    "            win+=z\n",
    "            loss-=z\n",
    "            print(\"Win\",win,\"Loss\",loss)"
   ]
  },
  {
   "cell_type": "markdown",
   "id": "5dcfd50b",
   "metadata": {},
   "source": [
    "## To find the year from which we have to start working to tackle expenses after 10 years"
   ]
  },
  {
   "cell_type": "code",
   "execution_count": 7,
   "id": "355a6cd3",
   "metadata": {},
   "outputs": [
    {
     "name": "stdout",
     "output_type": "stream",
     "text": [
      "Enter the salary : 16000\n",
      "Enter the expense: 18000\n",
      "Expense: 29320.103281993943\n",
      "Salary: 31179.473599999998\n",
      "2025\n"
     ]
    }
   ],
   "source": [
    "sal = int(input('Enter the salary : '))\n",
    "exp = int(input('Enter the expense: '))\n",
    "for i in range(0,10):\n",
    "    exp +=0.05*exp # expense is increasing at the rate of 5% per year\n",
    "a=0\n",
    "for j in range(0,10):\n",
    "    sal +=0.1*sal # salary is increasing at the rate of 10% per year\n",
    "    a+=1\n",
    "    if sal >= exp:        \n",
    "#         print(a)\n",
    "        break\n",
    "print('Expense:',exp)\n",
    "print('Salary:',sal)\n",
    "print(2032-a)"
   ]
  },
  {
   "cell_type": "code",
   "execution_count": 1,
   "id": "ca89e794",
   "metadata": {},
   "outputs": [
    {
     "name": "stdout",
     "output_type": "stream",
     "text": [
      "12\n",
      "0\n",
      "/\n",
      "Please enter a valid input !\n",
      "Wall time: 6.29 s\n"
     ]
    }
   ],
   "source": [
    "%%time\n",
    "a=int(input())\n",
    "b=int(input())\n",
    "c=input()\n",
    "if c==\"+\":\n",
    "    print(a+b)\n",
    "elif c==\"-\":\n",
    "    print(a-b)\n",
    "elif c==\"*\":\n",
    "    print(a*b)\n",
    "elif c==\"/\" and b!=0:\n",
    "    print(a/b)\n",
    "else:\n",
    "    print(\"Please enter a valid input !\")    "
   ]
  },
  {
   "cell_type": "code",
   "execution_count": null,
   "id": "ccf8275c",
   "metadata": {},
   "outputs": [],
   "source": []
  }
 ],
 "metadata": {
  "kernelspec": {
   "display_name": "Python 3 (ipykernel)",
   "language": "python",
   "name": "python3"
  },
  "language_info": {
   "codemirror_mode": {
    "name": "ipython",
    "version": 3
   },
   "file_extension": ".py",
   "mimetype": "text/x-python",
   "name": "python",
   "nbconvert_exporter": "python",
   "pygments_lexer": "ipython3",
   "version": "3.9.7"
  }
 },
 "nbformat": 4,
 "nbformat_minor": 5
}
