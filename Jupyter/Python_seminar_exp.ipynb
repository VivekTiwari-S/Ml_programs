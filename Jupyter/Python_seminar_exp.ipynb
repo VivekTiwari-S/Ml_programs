{
 "cells": [
  {
   "cell_type": "markdown",
   "id": "31f4b3a0",
   "metadata": {},
   "source": [
    "## How to determine datatype of variable ?"
   ]
  },
  {
   "cell_type": "code",
   "execution_count": 7,
   "id": "e750ac51",
   "metadata": {},
   "outputs": [
    {
     "name": "stdout",
     "output_type": "stream",
     "text": [
      "<class 'int'>\n",
      "<class 'float'>\n",
      "<class 'complex'>\n",
      "<class 'str'>\n",
      "<class 'bool'>\n",
      "<class 'list'>\n",
      "<class 'tuple'>\n",
      "<class 'set'>\n",
      "<class 'dict'>\n"
     ]
    }
   ],
   "source": [
    "a = 7          # int \n",
    "b = 2.39       # float\n",
    "c = 1 + 2j     # complex\n",
    "d = 'Vivek'    # string (can be declared in single or double quotes)\n",
    "e = True       # bool\n",
    "f = [1,2,3,'Virat',True,3.14]   # list\n",
    "g = (1, 2.223, False, 2 + 3j)   # tuple\n",
    "h = {2,3,5,7}                   # set  \n",
    "i = {1:'First', \n",
    "     2:'Second'}                # dictionary\n",
    "\n",
    "print(type(a))\n",
    "print(type(b))\n",
    "print(type(c))\n",
    "print(type(d))\n",
    "print(type(e))\n",
    "print(type(f))\n",
    "print(type(g))\n",
    "print(type(h))\n",
    "print(type(i))"
   ]
  },
  {
   "cell_type": "markdown",
   "id": "0b365269",
   "metadata": {},
   "source": [
    "## How to take input and print it's datatype"
   ]
  },
  {
   "cell_type": "code",
   "execution_count": 1,
   "id": "391a7763",
   "metadata": {},
   "outputs": [
    {
     "name": "stdout",
     "output_type": "stream",
     "text": [
      "Enter a num : 12\n",
      "Enter a num : 2.35\n",
      "Enter the string : vivek\n",
      "int : 12 float : 2.35 string : vivek\n",
      "<class 'int'> <class 'float'> <class 'str'>\n"
     ]
    }
   ],
   "source": [
    "num_int = int(input('Enter a num : '))         \n",
    "num_float = float(input('Enter a num : '))\n",
    "string = input('Enter the string : ')          # by default input is considered as a string\n",
    "print('int :',num_int,'float :',num_float,'string :',string)\n",
    "print(type(num_int),type(num_float),type(string))"
   ]
  },
  {
   "cell_type": "markdown",
   "id": "0e377bc7",
   "metadata": {},
   "source": [
    "## Typecasting"
   ]
  },
  {
   "cell_type": "code",
   "execution_count": 6,
   "id": "fc43a8b0",
   "metadata": {},
   "outputs": [
    {
     "name": "stdout",
     "output_type": "stream",
     "text": [
      "4555\n",
      "100\n"
     ]
    }
   ],
   "source": [
    "num1 = '45'    # string\n",
    "num2 = '55'    # string\n",
    "print(num1 + num2)\n",
    "\n",
    "# Wrong ans ?\n",
    "\n",
    "num1 = int(num1)  # str is converted to int\n",
    "num2 = int(num2)\n",
    "print(num1 + num2)\n",
    "\n",
    "# Got the ans !"
   ]
  },
  {
   "cell_type": "markdown",
   "id": "62141d0d",
   "metadata": {},
   "source": [
    "## Operators"
   ]
  },
  {
   "cell_type": "code",
   "execution_count": 12,
   "id": "2677316f",
   "metadata": {},
   "outputs": [
    {
     "name": "stdout",
     "output_type": "stream",
     "text": [
      "Above are the operators !\n"
     ]
    }
   ],
   "source": [
    "# There are 5 types of operators in any programming language\n",
    "\n",
    "'''\n",
    "1. Assignment operators\n",
    "2. Arithmetic operators\n",
    "3. Comparison operators\n",
    "4. Logical Operators\n",
    "5. Bitwise operators\n",
    "'''\n",
    "print('Above are the operators !')"
   ]
  },
  {
   "cell_type": "code",
   "execution_count": 16,
   "id": "737000e8",
   "metadata": {},
   "outputs": [
    {
     "name": "stdout",
     "output_type": "stream",
     "text": [
      "5\n",
      "25\n"
     ]
    }
   ],
   "source": [
    "# Assignment operators \n",
    "\n",
    "'''\n",
    "-=, +=, *=, /=, %=, **=\n",
    "'''\n",
    "x = 5     # '=' used to assign value  \n",
    "print(x)\n",
    "x *= 5    # it is same as x = x * 5\n",
    "print(x)"
   ]
  },
  {
   "cell_type": "code",
   "execution_count": 18,
   "id": "05187b87",
   "metadata": {},
   "outputs": [
    {
     "name": "stdout",
     "output_type": "stream",
     "text": [
      "Add: 13\n",
      "Rem: 1\n",
      "x raise to y: 1000\n",
      "Quotient: 3\n"
     ]
    }
   ],
   "source": [
    "# Arithmetic operators\n",
    "'''\n",
    "+, -, *, /, %, **, // \n",
    "'''\n",
    "x = 10\n",
    "y = 3\n",
    "\n",
    "print('Add:', x+y)\n",
    "print('Rem:', x % y)\n",
    "print('x raise to y:', x ** y)\n",
    "print('Quotient:', x // y)"
   ]
  },
  {
   "cell_type": "code",
   "execution_count": 21,
   "id": "ac9a47ef",
   "metadata": {},
   "outputs": [
    {
     "name": "stdout",
     "output_type": "stream",
     "text": [
      "Returns True and False only !\n",
      "True\n",
      "True\n",
      "False\n"
     ]
    }
   ],
   "source": [
    "# Comparison operators\n",
    "'''\n",
    ">, <, ==, >=, <=, !=\n",
    "'''\n",
    "\n",
    "print('Returns True and False only !')\n",
    "x = 10\n",
    "y = 8\n",
    "z = 10\n",
    "print(x >= z)\n",
    "print(y != z)\n",
    "print(x <= y)"
   ]
  },
  {
   "cell_type": "code",
   "execution_count": 23,
   "id": "56ecb396",
   "metadata": {},
   "outputs": [
    {
     "name": "stdout",
     "output_type": "stream",
     "text": [
      "Returns True and False !\n",
      "0\n",
      "1\n",
      "False\n",
      "Behaviour is same as logical and, or and not gates !\n"
     ]
    }
   ],
   "source": [
    "# Logical operators\n",
    "'''\n",
    "and, or, not\n",
    "'''\n",
    "print('Returns True and False !')\n",
    "\n",
    "print(1 and 0)\n",
    "print(1 or 0)\n",
    "print(not 1)\n",
    "print('Behaviour is same as logical and, or and not gates !')"
   ]
  },
  {
   "cell_type": "code",
   "execution_count": 1,
   "id": "390e914a",
   "metadata": {},
   "outputs": [
    {
     "name": "stdout",
     "output_type": "stream",
     "text": [
      "1\n",
      "7\n"
     ]
    }
   ],
   "source": [
    "# Bitwise operators\n",
    "'''\n",
    "&(and), |(or), ~(not), ^(XOR)\n",
    "'''\n",
    "print(5 & 3) # returns 1 as 5 = 101 & 3 = 011 (101 & 011 = 001)\n",
    "print(5 | 3) # returns 7 as 5 = 101 & 3 = 011 (101 | 011 = 111) and 111 = 7"
   ]
  },
  {
   "cell_type": "markdown",
   "id": "72eb511d",
   "metadata": {},
   "source": [
    "## Control Statements"
   ]
  },
  {
   "cell_type": "code",
   "execution_count": 4,
   "id": "6181bde1",
   "metadata": {},
   "outputs": [
    {
     "name": "stdout",
     "output_type": "stream",
     "text": [
      "Kuch nahi ho sakta tumhara !!\n",
      "Once a king, always a king !\n",
      "Yes\n"
     ]
    }
   ],
   "source": [
    "# Control statements controls the flow of program \n",
    "# if - else or if - else if ladder can do that \n",
    "\n",
    "# Python doesn't have a switch statement !\n",
    "\n",
    "# Simple if - else\n",
    "marks = 75\n",
    "if marks >= 80:\n",
    "    print('Shaabbaas ! Aise hi lage raho')\n",
    "else:\n",
    "    print('Kuch nahi ho sakta tumhara !!')\n",
    "    \n",
    "# if - elif ladder\n",
    "virat_score = 186\n",
    "if virat_score >= 100 and virat_score < 150:\n",
    "    print('Another day , another century !')\n",
    "elif virat_score >= 150:\n",
    "    print('Once a king, always a king !')\n",
    "else:\n",
    "    print('Koi kuch nahi kahega Kohli ke baare me !')\n",
    "    \n",
    "# Short hand if - else    \n",
    "print('Yes') if 5 > 2 else print('No')"
   ]
  },
  {
   "cell_type": "code",
   "execution_count": 7,
   "id": "8038db0d",
   "metadata": {},
   "outputs": [
    {
     "ename": "IndentationError",
     "evalue": "expected an indented block (Temp/ipykernel_9928/3914264398.py, line 2)",
     "output_type": "error",
     "traceback": [
      "\u001b[1;36m  File \u001b[1;32m\"C:\\Users\\admin\\AppData\\Local\\Temp/ipykernel_9928/3914264398.py\"\u001b[1;36m, line \u001b[1;32m2\u001b[0m\n\u001b[1;33m    print('Yes')\u001b[0m\n\u001b[1;37m    ^\u001b[0m\n\u001b[1;31mIndentationError\u001b[0m\u001b[1;31m:\u001b[0m expected an indented block\n"
     ]
    }
   ],
   "source": [
    "# Indentation Error !\n",
    "if 10 > 2:\n",
    "print('Yes')\n",
    "else:\n",
    "print('No')"
   ]
  },
  {
   "cell_type": "markdown",
   "id": "9a2390a2",
   "metadata": {},
   "source": [
    "## Loops in Python !"
   ]
  },
  {
   "cell_type": "code",
   "execution_count": 6,
   "id": "5f0081c3",
   "metadata": {},
   "outputs": [
    {
     "name": "stdout",
     "output_type": "stream",
     "text": [
      "Enter a num : 25\n",
      "1 2 3 4 5 6 7 8 9 10 11 12 13 14 15 16 17 18 19 20 21 22 23 24 25 "
     ]
    }
   ],
   "source": [
    "# Loops in Python are : for loop & while loop \n",
    "# Python doesn't have the do - while loop !\n",
    "\n",
    "# While loop\n",
    "num = int(input('Enter a num : '))\n",
    "i = 1   # iterating variable\n",
    "while i <= num:\n",
    "    print(i, end = ' ')\n",
    "    i += 1"
   ]
  },
  {
   "cell_type": "code",
   "execution_count": 7,
   "id": "1ec8c858",
   "metadata": {},
   "outputs": [
    {
     "name": "stdout",
     "output_type": "stream",
     "text": [
      "Enter the num : 15\n",
      "15 * 1 = 15\n",
      "15 * 2 = 30\n",
      "15 * 3 = 45\n",
      "15 * 4 = 60\n",
      "15 * 5 = 75\n",
      "15 * 6 = 90\n",
      "15 * 7 = 105\n",
      "15 * 8 = 120\n",
      "15 * 9 = 135\n",
      "15 * 10 = 150\n"
     ]
    }
   ],
   "source": [
    "# For loop\n",
    "x = int(input('Enter the num : '))\n",
    "for i in range(1,11):\n",
    "    print(x, '*', i, '=', (x * i))"
   ]
  },
  {
   "cell_type": "markdown",
   "id": "e3a8923d",
   "metadata": {},
   "source": [
    "## Functions !"
   ]
  },
  {
   "cell_type": "code",
   "execution_count": 9,
   "id": "b170e3ab",
   "metadata": {},
   "outputs": [
    {
     "name": "stdout",
     "output_type": "stream",
     "text": [
      "Enter the year : 2000\n",
      "No\n"
     ]
    }
   ],
   "source": [
    "# Function = It is a block of code that is executed when it is called ! It divides the work of the program.\n",
    "# Program to find a leap year \n",
    "\n",
    "def isLeap(year):\n",
    "    if year % 4 == 0 and year % 100 != 0:\n",
    "        print('Yes')\n",
    "    elif year % 100 and year % 400 == 0:\n",
    "        print('Yes')\n",
    "    else:\n",
    "        print('No')\n",
    "        \n",
    "year = int(input('Enter the year : '))\n",
    "isLeap(year)"
   ]
  },
  {
   "cell_type": "markdown",
   "id": "7bb2116c",
   "metadata": {},
   "source": [
    "## Collections in Python !"
   ]
  },
  {
   "cell_type": "code",
   "execution_count": 6,
   "id": "ce7568b3",
   "metadata": {},
   "outputs": [
    {
     "name": "stdout",
     "output_type": "stream",
     "text": [
      "Type : <class 'list'>\n",
      "Sorted : [1, 2, 3, 4, 5, 6, 7, 8, 9, 10, 11, 12]\n",
      "Max : 12\n",
      "Min : 1\n",
      "['Vivek', 5, 6, 8, 9, 12, 10, 11, 2, 4, 7, 3]\n"
     ]
    }
   ],
   "source": [
    "'''\n",
    "There are 4 collections in Python :\n",
    "1. List\n",
    "2. Tuple\n",
    "3. Set\n",
    "4. Dictionary\n",
    "'''\n",
    "list1 = [1,5,6,8,9,12,10,11,2,4,7,3]\n",
    "print('Type :', type(list1))\n",
    "print('Sorted :', sorted(list1))\n",
    "print('Max :', max(list1))\n",
    "print('Min :', min(list1))\n",
    "list1[0] = 'Vivek'    # List is mutable\n",
    "print(list1)"
   ]
  },
  {
   "cell_type": "markdown",
   "id": "5ec0bf18",
   "metadata": {},
   "source": [
    "## Programs to be done"
   ]
  },
  {
   "cell_type": "markdown",
   "id": "9fa7e7e6",
   "metadata": {},
   "source": [
    "## 1. Finding square, cube, sq root and cube root of a num"
   ]
  },
  {
   "cell_type": "code",
   "execution_count": 14,
   "id": "831d60bc",
   "metadata": {},
   "outputs": [
    {
     "name": "stdout",
     "output_type": "stream",
     "text": [
      "Enter the num : 64\n",
      "Sq root : 8.0\n",
      "cube root : 4.0\n",
      "Square is : 4096.0\n",
      "Cube is : 262144\n"
     ]
    }
   ],
   "source": [
    "import math as m\n",
    "num = int(input('Enter the num : '))\n",
    "print('Sq root :', round(m.sqrt(num),3))     # sqrt func and rounding off\n",
    "print('cube root :', round(num ** (1/3), 3)) # exponentiation and round off\n",
    "print('Square is :', m.pow(num, 2))          # pow func to raise num to 2\n",
    "print('Cube is :', int(m.pow(num, 3)))       # pow func to raise num to 3 and int casting"
   ]
  },
  {
   "cell_type": "markdown",
   "id": "20b3d919",
   "metadata": {},
   "source": [
    "## 2. To check num is odd or even"
   ]
  },
  {
   "cell_type": "code",
   "execution_count": 15,
   "id": "f494644c",
   "metadata": {},
   "outputs": [
    {
     "name": "stdout",
     "output_type": "stream",
     "text": [
      "Enter the num : 5\n",
      "Odd !\n"
     ]
    }
   ],
   "source": [
    "x = int(input('Enter the num : '))\n",
    "print('Even !') if x % 2 == 0 else print('Odd !')  # Short hand if else"
   ]
  },
  {
   "cell_type": "markdown",
   "id": "fe6b82db",
   "metadata": {},
   "source": [
    "## 3. To check the num is prime or not"
   ]
  },
  {
   "cell_type": "code",
   "execution_count": 19,
   "id": "55a3d20f",
   "metadata": {},
   "outputs": [
    {
     "name": "stdout",
     "output_type": "stream",
     "text": [
      "Enter the num : 17\n",
      "The num is prime !\n"
     ]
    }
   ],
   "source": [
    "y = int(input('Enter the num : '))\n",
    "for i in range(2,y):               # i's range is 2 to y-1\n",
    "    if y % i == 0:\n",
    "        print('The num is not prime !')\n",
    "        break\n",
    "else:\n",
    "    print('The num is prime !')"
   ]
  },
  {
   "cell_type": "markdown",
   "id": "771c2ed5",
   "metadata": {},
   "source": [
    "## 4. To find factorial of a num"
   ]
  },
  {
   "cell_type": "code",
   "execution_count": 22,
   "id": "12cd1f27",
   "metadata": {},
   "outputs": [
    {
     "name": "stdout",
     "output_type": "stream",
     "text": [
      "Enter the num : 5\n",
      "Factorial of 5 is 120\n"
     ]
    }
   ],
   "source": [
    "z = int(input('Enter the num : '))\n",
    "fact = 1\n",
    "for i in range(1,z+1):  # multiply with 1 to z (range is z for z+1)\n",
    "    fact *= i           # assigning after multiplication\n",
    "print('Factorial of', z, 'is', fact)"
   ]
  },
  {
   "cell_type": "markdown",
   "id": "eafa04b5",
   "metadata": {},
   "source": [
    "## 5. To find mean, median & mode of a data (array)"
   ]
  },
  {
   "cell_type": "code",
   "execution_count": 30,
   "id": "c65e85d2",
   "metadata": {},
   "outputs": [
    {
     "name": "stdout",
     "output_type": "stream",
     "text": [
      "Mean : 28.5\n",
      "Median : 29.0\n",
      "Mode : 21\n"
     ]
    }
   ],
   "source": [
    "import numpy as np        # numeric python module\n",
    "import statistics as st   # stats library\n",
    "data = [23,27,21,19,31,34,37,32,40,21]\n",
    "print('Mean :', np.mean(data))\n",
    "print('Median :', np.median(data))\n",
    "print('Mode :', st.mode(data))"
   ]
  },
  {
   "cell_type": "markdown",
   "id": "e7c3869d",
   "metadata": {},
   "source": [
    "## 6. To print a star pattern"
   ]
  },
  {
   "cell_type": "code",
   "execution_count": 35,
   "id": "aec393c4",
   "metadata": {},
   "outputs": [
    {
     "name": "stdout",
     "output_type": "stream",
     "text": [
      "Pattern 1: \n",
      "* * * * * \n",
      "* * * * * \n",
      "* * * * * \n",
      "* * * * * \n",
      "* * * * * \n",
      "Pattern 2: \n",
      "* \n",
      "* * \n",
      "* * * \n",
      "* * * * \n",
      "* * * * * \n"
     ]
    }
   ],
   "source": [
    "print('Pattern 1: ')\n",
    "for i in range(5):\n",
    "    for j in range(5):\n",
    "        print('*', end =' ')   # To print in same line\n",
    "    print()                    # To get next line after one iteration\n",
    "    \n",
    "print('Pattern 2: ')\n",
    "for i in range(1,6):\n",
    "    for j in range(i):\n",
    "        print('*', end = ' ')  # To print in same line\n",
    "    print()                    # To get next line after one iteration"
   ]
  },
  {
   "cell_type": "markdown",
   "id": "20d66308",
   "metadata": {},
   "source": [
    "## 7. Random statement generator"
   ]
  },
  {
   "cell_type": "code",
   "execution_count": 50,
   "id": "54d06071",
   "metadata": {},
   "outputs": [
    {
     "name": "stdout",
     "output_type": "stream",
     "text": [
      "Statement is : Mera naam Vivek hai\n"
     ]
    }
   ],
   "source": [
    "import random as rd\n",
    "statements = ['I am Vivek Tiwari',\n",
    "              'Maru naam Vivek che',\n",
    "              'Mera naam Vivek hai',\n",
    "              'Mein Name ist Vivek Tiwari'] # List having the statements\n",
    "x = rd.randint(0,3) # index starts from 0 and n-1 is the last index (n = no. of list items)\n",
    "print('Statement is :', statements[x])  # printing statements of random index"
   ]
  },
  {
   "cell_type": "markdown",
   "id": "1184d138",
   "metadata": {},
   "source": [
    "## 8. Lottery System"
   ]
  },
  {
   "cell_type": "code",
   "execution_count": 52,
   "id": "9fdc205f",
   "metadata": {},
   "outputs": [
    {
     "name": "stdout",
     "output_type": "stream",
     "text": [
      "Enter your ticket number : 2\n",
      "Lottery ticket num is : 3\n",
      "Try again !\n",
      "Enter your ticket number : 2\n",
      "Lottery ticket num is : 2\n",
      "Hurray !\n",
      "You have won the lottery !\n"
     ]
    }
   ],
   "source": [
    "import random as rd\n",
    "while True:\n",
    "    x = rd.randint(1,9)\n",
    "    y = int(input('Enter your ticket number : '))\n",
    "    print('Lottery ticket num is :', x)\n",
    "    if x == y:\n",
    "        print('Hurray !\\nYou have won the lottery !')\n",
    "        break\n",
    "    else:\n",
    "        print('Try again !')"
   ]
  }
 ],
 "metadata": {
  "kernelspec": {
   "display_name": "Python 3 (ipykernel)",
   "language": "python",
   "name": "python3"
  },
  "language_info": {
   "codemirror_mode": {
    "name": "ipython",
    "version": 3
   },
   "file_extension": ".py",
   "mimetype": "text/x-python",
   "name": "python",
   "nbconvert_exporter": "python",
   "pygments_lexer": "ipython3",
   "version": "3.9.7"
  }
 },
 "nbformat": 4,
 "nbformat_minor": 5
}
