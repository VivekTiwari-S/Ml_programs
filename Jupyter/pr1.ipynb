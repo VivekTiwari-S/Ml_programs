{
 "cells": [
  {
   "cell_type": "markdown",
   "id": "934e7507",
   "metadata": {},
   "source": [
    "## Voting and Driving eligibility"
   ]
  },
  {
   "cell_type": "code",
   "execution_count": 2,
   "id": "f0bce511",
   "metadata": {},
   "outputs": [
    {
     "name": "stdout",
     "output_type": "stream",
     "text": [
      "Enter your age :19\n",
      "Do you have driving license : 1)yes or 2)no ??1\n",
      "You are eligible to vote and drive !! \n"
     ]
    }
   ],
   "source": [
    "a=int(input(\"Enter your age :\"))\n",
    "b=int(input(\"Do you have driving license : 1)yes or 2)no ??\"))\n",
    "if a>=18 and b==1:\n",
    "    print(\"You are eligible to vote and drive !! \")\n",
    "elif a>=18 and b==2:\n",
    "    print(\"You are eligible to vote but not to drive !\")\n",
    "else:\n",
    "    print(\"You are neither eligible to vote nor to drive !!\")"
   ]
  },
  {
   "cell_type": "code",
   "execution_count": null,
   "id": "5bc0f0bc",
   "metadata": {},
   "outputs": [],
   "source": []
  }
 ],
 "metadata": {
  "kernelspec": {
   "display_name": "Python 3 (ipykernel)",
   "language": "python",
   "name": "python3"
  },
  "language_info": {
   "codemirror_mode": {
    "name": "ipython",
    "version": 3
   },
   "file_extension": ".py",
   "mimetype": "text/x-python",
   "name": "python",
   "nbconvert_exporter": "python",
   "pygments_lexer": "ipython3",
   "version": "3.9.7"
  }
 },
 "nbformat": 4,
 "nbformat_minor": 5
}
