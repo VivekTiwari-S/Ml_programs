{
 "cells": [
  {
   "cell_type": "markdown",
   "id": "d88e8685",
   "metadata": {},
   "source": [
    "## Patterns "
   ]
  },
  {
   "cell_type": "code",
   "execution_count": 1,
   "id": "156af133",
   "metadata": {},
   "outputs": [
    {
     "name": "stdout",
     "output_type": "stream",
     "text": [
      "* * * * *  \n",
      "* * * * *  \n",
      "* * * * *  \n",
      "* * * * *  \n",
      "* * * * *  \n"
     ]
    }
   ],
   "source": [
    "# to print a block of star pattern\n",
    "for i in range (0,5):# no. of stars in y direction\n",
    "    for j in range (0,5):# no. of stars in x directions\n",
    "        print(\"* \",end=\"\")\n",
    "    print(\" \")"
   ]
  },
  {
   "cell_type": "code",
   "execution_count": 8,
   "id": "45a60c65",
   "metadata": {},
   "outputs": [
    {
     "name": "stdout",
     "output_type": "stream",
     "text": [
      " * * * * *\n",
      " *       *\n",
      " * * * * *\n",
      " *       *\n",
      " * * * * *\n"
     ]
    }
   ],
   "source": [
    "# to print B in digital way\n",
    "for i in range (0,5):\n",
    "    for j in range (0,5):\n",
    "        if i==0 or i==4 or i==2 or j==0 or j==4 :# to print stars in these rows \n",
    "            print(\" *\",end=\"\")\n",
    "        else:\n",
    "            print(\"  \",end=\"\")\n",
    "    print(\"\")"
   ]
  },
  {
   "cell_type": "code",
   "execution_count": 14,
   "id": "851b0617",
   "metadata": {},
   "outputs": [
    {
     "name": "stdout",
     "output_type": "stream",
     "text": [
      " * * * * *\n",
      " *\n",
      " *\n",
      " *\n",
      " * * * * *\n"
     ]
    }
   ],
   "source": [
    "# to print C in digital way\n",
    "for i in range (0,5):\n",
    "    for j in range (0,5):\n",
    "        if i==0 or i==4 or j==0 :\n",
    "            print(\" *\",end=\"\")\n",
    "    print(\"\")"
   ]
  },
  {
   "cell_type": "code",
   "execution_count": 30,
   "id": "d56135db",
   "metadata": {},
   "outputs": [
    {
     "name": "stdout",
     "output_type": "stream",
     "text": [
      " * * * * *\n",
      " *\n",
      " * * * * *\n",
      " *\n",
      " * * * * *\n"
     ]
    }
   ],
   "source": [
    "# to print E in digital way\n",
    "for i in range (0,5):\n",
    "    for j in range (0,5):\n",
    "        if i==0 or i==4 or i==2 or j==0 :\n",
    "            print(\" *\",end=\"\")\n",
    "    print(\"\")"
   ]
  },
  {
   "cell_type": "code",
   "execution_count": 28,
   "id": "fc4345ce",
   "metadata": {},
   "outputs": [
    {
     "name": "stdout",
     "output_type": "stream",
     "text": [
      " * * * * *\n",
      " *\n",
      " * * * * *\n",
      " *\n",
      " *\n"
     ]
    }
   ],
   "source": [
    "# to print F in digital way\n",
    "for i in range (0,5):\n",
    "    for j in range (0,5):\n",
    "        if i==0 or i==2 or j==0 :\n",
    "            print(\" *\",end=\"\")\n",
    "    print(\"\")"
   ]
  },
  {
   "cell_type": "code",
   "execution_count": 60,
   "id": "890ed805",
   "metadata": {},
   "outputs": [
    {
     "name": "stdout",
     "output_type": "stream",
     "text": [
      " * * * * *\n",
      " *        \n",
      " *   * * *\n",
      " *       *\n",
      " * * * * *\n"
     ]
    }
   ],
   "source": [
    "# to print G in digital way\n",
    "for i in range(0,5):\n",
    "    for j in range(0,5):\n",
    "        if i==0 or i==4 or j==0:\n",
    "            print(\" *\",end=\"\")\n",
    "        elif i==3 and j>1 and j<4:\n",
    "            print(\"  \",end=\"\")\n",
    "        elif i>1 and j>1:\n",
    "            print(\" *\",end=\"\")\n",
    "        else:\n",
    "            print(\"  \",end=\"\")\n",
    "    print(\"\")"
   ]
  },
  {
   "cell_type": "code",
   "execution_count": 69,
   "id": "3688c925",
   "metadata": {},
   "outputs": [
    {
     "name": "stdout",
     "output_type": "stream",
     "text": [
      " *       *\n",
      " *       *\n",
      " * * * * *\n",
      " *       *\n",
      " *       *\n"
     ]
    }
   ],
   "source": [
    "# to print H in digital way\n",
    "for i in range(0,5):\n",
    "    for j in range(0,5):\n",
    "        if i==2:\n",
    "            print(\" *\",end=\"\")\n",
    "        elif j==0 or j==4:\n",
    "            print(\" *\",end=\"\")\n",
    "        else:\n",
    "            print(\"  \",end=\"\")\n",
    "    print(\"\")"
   ]
  },
  {
   "cell_type": "code",
   "execution_count": 70,
   "id": "f59e5c83",
   "metadata": {},
   "outputs": [
    {
     "name": "stdout",
     "output_type": "stream",
     "text": [
      " * * * * *\n",
      "     *    \n",
      "     *    \n",
      "     *    \n",
      " * * * * *\n"
     ]
    }
   ],
   "source": [
    "# to print I in digital way\n",
    "for i in range(0,5):\n",
    "    for j in range(0,5):\n",
    "        if i==0 or i==4:\n",
    "            print(\" *\",end=\"\")\n",
    "        elif j==2:\n",
    "            print(\" *\",end=\"\")\n",
    "        else:\n",
    "            print(\"  \",end=\"\")\n",
    "    print(\"\")"
   ]
  },
  {
   "cell_type": "code",
   "execution_count": 77,
   "id": "3e17d36c",
   "metadata": {},
   "outputs": [
    {
     "name": "stdout",
     "output_type": "stream",
     "text": [
      " * * * * *\n",
      "     *    \n",
      "     *    \n",
      "     *    \n",
      " * * *    \n"
     ]
    }
   ],
   "source": [
    "# to print J in digital way\n",
    "for i in range(0,5):\n",
    "    for j in range(0,5):\n",
    "        if i==0 :\n",
    "            print(\" *\",end=\"\")\n",
    "        elif j==2:\n",
    "            print(\" *\",end=\"\")\n",
    "        elif i==4 and j<2:\n",
    "            print(\" *\",end=\"\")\n",
    "        else:\n",
    "            print(\"  \",end=\"\")\n",
    "    print(\"\")"
   ]
  },
  {
   "cell_type": "code",
   "execution_count": 29,
   "id": "2a49de49",
   "metadata": {},
   "outputs": [
    {
     "name": "stdout",
     "output_type": "stream",
     "text": [
      " *\n",
      " *\n",
      " *\n",
      " *\n",
      " * * * * *\n"
     ]
    }
   ],
   "source": [
    "# to print L in digital way\n",
    "for i in range (0,5):\n",
    "    for j in range (0,5):\n",
    "        if i==4 or j==0 :\n",
    "            print(\" *\",end=\"\")\n",
    "    print(\"\")"
   ]
  },
  {
   "cell_type": "code",
   "execution_count": 6,
   "id": "38f57e89",
   "metadata": {},
   "outputs": [
    {
     "name": "stdout",
     "output_type": "stream",
     "text": [
      " * * * * *\n",
      " *       *\n",
      " *       *\n",
      " *       *\n",
      " * * * * *\n"
     ]
    }
   ],
   "source": [
    "# to print O in digital way\n",
    "for i in range(0,5):\n",
    "    for j in range(0,5):\n",
    "        if i==0 or i==4:\n",
    "            print(\" *\",end=\"\")\n",
    "        elif j==0 or j==4:\n",
    "            print(\" *\",end=\"\")\n",
    "        else:\n",
    "            print(\"  \",end=\"\")\n",
    "    print(\"\")"
   ]
  },
  {
   "cell_type": "code",
   "execution_count": 68,
   "id": "8c1102c3",
   "metadata": {},
   "outputs": [
    {
     "name": "stdout",
     "output_type": "stream",
     "text": [
      " * * * * * \n",
      "     *     \n",
      "     *     \n",
      "     *     \n",
      "     *     \n"
     ]
    }
   ],
   "source": [
    "# to print T in digital way\n",
    "for i in range(0,5):\n",
    "    for j in range(0,5):\n",
    "        if i==0 or j==2 :\n",
    "            print(\" *\",end=\"\")\n",
    "        else:\n",
    "            print(\"  \",end=\"\")\n",
    "    print(\" \")"
   ]
  },
  {
   "cell_type": "code",
   "execution_count": 31,
   "id": "c4a78b71",
   "metadata": {},
   "outputs": [
    {
     "name": "stdout",
     "output_type": "stream",
     "text": [
      "*       * \n",
      "*       * \n",
      "*       * \n",
      "*       * \n",
      "* * * * * \n"
     ]
    }
   ],
   "source": [
    "# to print U in digital way\n",
    "for i in range (0,5):\n",
    "    for j in range (0,5):\n",
    "        if i==4:\n",
    "            print(\"* \",end=\"\") \n",
    "        elif j==0 or j==4:\n",
    "            print(\"* \",end=\"\")\n",
    "        else:\n",
    "            print(\" \",end=\" \")\n",
    "    print(\"\")"
   ]
  },
  {
   "cell_type": "code",
   "execution_count": 64,
   "id": "54799dce",
   "metadata": {},
   "outputs": [
    {
     "name": "stdout",
     "output_type": "stream",
     "text": [
      " * * * * * \n",
      "       *   \n",
      "     *     \n",
      "   *       \n",
      " * * * * * \n"
     ]
    }
   ],
   "source": [
    "# to print Z in digital way\n",
    "for i in range(0,5):\n",
    "    for j in range(0,5):\n",
    "        if i==0 or i==4:\n",
    "            print(\" *\",end=\"\")\n",
    "        elif i+j==4:\n",
    "            print(\" *\",end=\"\")\n",
    "        else:\n",
    "            print(\"  \",end=\"\")\n",
    "    print(\" \")"
   ]
  },
  {
   "cell_type": "code",
   "execution_count": 9,
   "id": "cdba7708",
   "metadata": {},
   "outputs": [
    {
     "name": "stdout",
     "output_type": "stream",
     "text": [
      "Enter the number of rows you want :26\n",
      "                            \n",
      "                           * \n",
      "                          * * \n",
      "                         * * * \n",
      "                        * * * * \n",
      "                       * * * * * \n",
      "                      * * * * * * \n",
      "                     * * * * * * * \n",
      "                    * * * * * * * * \n",
      "                   * * * * * * * * * \n",
      "                  * * * * * * * * * * \n",
      "                 * * * * * * * * * * * \n",
      "                * * * * * * * * * * * * \n",
      "               * * * * * * * * * * * * * \n",
      "              * * * * * * * * * * * * * * \n",
      "             * * * * * * * * * * * * * * * \n",
      "            * * * * * * * * * * * * * * * * \n",
      "           * * * * * * * * * * * * * * * * * \n",
      "          * * * * * * * * * * * * * * * * * * \n",
      "         * * * * * * * * * * * * * * * * * * * \n",
      "        * * * * * * * * * * * * * * * * * * * * \n",
      "       * * * * * * * * * * * * * * * * * * * * * \n",
      "      * * * * * * * * * * * * * * * * * * * * * * \n",
      "     * * * * * * * * * * * * * * * * * * * * * * * \n",
      "    * * * * * * * * * * * * * * * * * * * * * * * * \n",
      "   * * * * * * * * * * * * * * * * * * * * * * * * * \n",
      "  * * * * * * * * * * * * * * * * * * * * * * * * * * \n"
     ]
    }
   ],
   "source": [
    "# to print triangle\n",
    "x=int(input(\"Enter the number of rows you want :\"))# to take user input \n",
    "\n",
    "for i in range(0,x+1):# to print exactly the same number of rows entered\n",
    "    for k in range(x+1,i,-1):# for inverted blank triangle\n",
    "        print(\" \",end=\"\")\n",
    "    for j in range(0,i):\n",
    "        print(\" *\",end=\"\")\n",
    "    print(\" \")"
   ]
  },
  {
   "cell_type": "code",
   "execution_count": 12,
   "id": "46bf2c32",
   "metadata": {},
   "outputs": [
    {
     "name": "stdout",
     "output_type": "stream",
     "text": [
      "                          A  \n",
      "                         B B  \n",
      "                        C C C  \n",
      "                       D D D D  \n",
      "                      E E E E E  \n",
      "                     F F F F F F  \n",
      "                    G G G G G G G  \n",
      "                   H H H H H H H H  \n",
      "                  I I I I I I I I I  \n",
      "                 J J J J J J J J J J  \n",
      "                K K K K K K K K K K K  \n",
      "               L L L L L L L L L L L L  \n",
      "              M M M M M M M M M M M M M  \n",
      "             N N N N N N N N N N N N N N  \n",
      "            O O O O O O O O O O O O O O O  \n",
      "           P P P P P P P P P P P P P P P P  \n",
      "          Q Q Q Q Q Q Q Q Q Q Q Q Q Q Q Q Q  \n",
      "         R R R R R R R R R R R R R R R R R R  \n",
      "        S S S S S S S S S S S S S S S S S S S  \n",
      "       T T T T T T T T T T T T T T T T T T T T  \n",
      "      U U U U U U U U U U U U U U U U U U U U U  \n",
      "     V V V V V V V V V V V V V V V V V V V V V V  \n",
      "    W W W W W W W W W W W W W W W W W W W W W W W  \n",
      "   X X X X X X X X X X X X X X X X X X X X X X X X  \n",
      "  Y Y Y Y Y Y Y Y Y Y Y Y Y Y Y Y Y Y Y Y Y Y Y Y Y  \n",
      " Z Z Z Z Z Z Z Z Z Z Z Z Z Z Z Z Z Z Z Z Z Z Z Z Z Z  \n"
     ]
    }
   ],
   "source": [
    "# to print triangle of capital letters\n",
    "for i in range(65,91): # 65 is the asci value for alphabet in uppercase\n",
    "    for k in range(91,i,-1):# for inverted blank triangle\n",
    "        print(\" \",end=\"\")\n",
    "    for j in range(64,i):# we have to print from starting\n",
    "        print(chr(i),end=\" \") # typecasting for printing char instead of number\n",
    "    print(\" \")"
   ]
  },
  {
   "cell_type": "code",
   "execution_count": 1,
   "id": "2f37643b",
   "metadata": {},
   "outputs": [
    {
     "name": "stdout",
     "output_type": "stream",
     "text": [
      "5\n",
      "A \n",
      "B B \n",
      "C C C \n",
      "D D D D \n",
      "E E E E E \n"
     ]
    }
   ],
   "source": [
    "n = int(input())\n",
    "for i in range(65,65+n):\n",
    "    for j in range(i-64):\n",
    "        print(chr(i),end=' ')\n",
    "    print()"
   ]
  },
  {
   "cell_type": "code",
   "execution_count": null,
   "id": "f2221be4",
   "metadata": {},
   "outputs": [],
   "source": []
  }
 ],
 "metadata": {
  "kernelspec": {
   "display_name": "Python 3 (ipykernel)",
   "language": "python",
   "name": "python3"
  },
  "language_info": {
   "codemirror_mode": {
    "name": "ipython",
    "version": 3
   },
   "file_extension": ".py",
   "mimetype": "text/x-python",
   "name": "python",
   "nbconvert_exporter": "python",
   "pygments_lexer": "ipython3",
   "version": "3.9.7"
  }
 },
 "nbformat": 4,
 "nbformat_minor": 5
}
