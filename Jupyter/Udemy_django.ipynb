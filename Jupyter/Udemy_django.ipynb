{
 "cells": [
  {
   "cell_type": "code",
   "execution_count": 2,
   "id": "a521d50d",
   "metadata": {},
   "outputs": [
    {
     "name": "stdin",
     "output_type": "stream",
     "text": [
      "How many digit otp you want :  4\n"
     ]
    },
    {
     "name": "stdout",
     "output_type": "stream",
     "text": [
      "7795\n"
     ]
    },
    {
     "name": "stdin",
     "output_type": "stream",
     "text": [
      "How many digit otp you want :  4\n"
     ]
    },
    {
     "name": "stdout",
     "output_type": "stream",
     "text": [
      "9071\n"
     ]
    },
    {
     "name": "stdin",
     "output_type": "stream",
     "text": [
      "How many digit otp you want :  4\n"
     ]
    },
    {
     "name": "stdout",
     "output_type": "stream",
     "text": [
      "1027\n"
     ]
    },
    {
     "name": "stdin",
     "output_type": "stream",
     "text": [
      "How many digit otp you want :  4\n"
     ]
    },
    {
     "name": "stdout",
     "output_type": "stream",
     "text": [
      "4526\n"
     ]
    },
    {
     "name": "stdin",
     "output_type": "stream",
     "text": [
      "How many digit otp you want :  3\n"
     ]
    },
    {
     "name": "stdout",
     "output_type": "stream",
     "text": [
      "718\n"
     ]
    },
    {
     "name": "stdin",
     "output_type": "stream",
     "text": [
      "How many digit otp you want :  2\n"
     ]
    },
    {
     "name": "stdout",
     "output_type": "stream",
     "text": [
      "Otp must be of length 3,4 or 6 !\n"
     ]
    }
   ],
   "source": [
    "# 6 digit otp\n",
    "import random as rd\n",
    "while True: \n",
    "    d1 = str(rd.randint(0,9))\n",
    "    d2 = str(rd.randint(0,9))\n",
    "    d3 = str(rd.randint(0,9))\n",
    "    d4 = str(rd.randint(0,9))\n",
    "    d5 = str(rd.randint(0,9))\n",
    "    d6 = str(rd.randint(0,9))\n",
    "    ask = int(input('How many digit otp you want : '))\n",
    "    if ask == 3:\n",
    "        print(d1+d2+d3)\n",
    "    elif ask == 4:\n",
    "        print(d1+d2+d3+d4)\n",
    "    elif ask == 6:\n",
    "        print(d1+d2+d3+d4+d5+d6) \n",
    "    else:\n",
    "        print('Otp must be of length 3,4 or 6 !')\n",
    "        break"
   ]
  },
  {
   "cell_type": "code",
   "execution_count": 5,
   "id": "14b2e532",
   "metadata": {},
   "outputs": [
    {
     "name": "stdout",
     "output_type": "stream",
     "text": [
      "Enter num1: 52\n",
      "Enter num2: 3\n",
      "17.333333333333332\n"
     ]
    }
   ],
   "source": [
    "num1 = int(input('Enter num1: '))\n",
    "num2 = int(input('Enter num2: '))\n",
    "if num2 != 0:\n",
    "    print(num1/num2)\n",
    "else:\n",
    "    raise Exception(\"Zero se divide nahi hota hai murkh insaan !\")"
   ]
  },
  {
   "cell_type": "code",
   "execution_count": 4,
   "id": "44e1e29c",
   "metadata": {},
   "outputs": [],
   "source": [
    "# name suggestions\n",
    "# output i want - \n",
    "# in which language do you want the names ? - sanskrit/ english\n",
    "# for boy or girl ? - boy/ girl\n",
    "# from which letter ? - a..z\n",
    "# here are some names you can try ..."
   ]
  },
  {
   "cell_type": "code",
   "execution_count": null,
   "id": "6334b146",
   "metadata": {},
   "outputs": [],
   "source": []
  }
 ],
 "metadata": {
  "kernelspec": {
   "display_name": "Python 3 (ipykernel)",
   "language": "python",
   "name": "python3"
  },
  "language_info": {
   "codemirror_mode": {
    "name": "ipython",
    "version": 3
   },
   "file_extension": ".py",
   "mimetype": "text/x-python",
   "name": "python",
   "nbconvert_exporter": "python",
   "pygments_lexer": "ipython3",
   "version": "3.9.7"
  }
 },
 "nbformat": 4,
 "nbformat_minor": 5
}
