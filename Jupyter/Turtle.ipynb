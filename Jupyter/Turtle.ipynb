{
 "cells": [
  {
   "cell_type": "code",
   "execution_count": 1,
   "id": "d5efac13",
   "metadata": {},
   "outputs": [],
   "source": [
    "import turtle as tl\n",
    "\n",
    "oc = tl.Turtle()\n",
    "oc.fillcolor('skyblue')\n",
    "oc.begin_fill()\n",
    "for i in range(8):\n",
    "    oc.left(45)\n",
    "    oc.forward(70)\n",
    "oc.hideturtle()\n",
    "oc.end_fill()\n",
    "tl.done()"
   ]
  },
  {
   "cell_type": "code",
   "execution_count": 1,
   "id": "f10633ab",
   "metadata": {},
   "outputs": [],
   "source": [
    "import turtle as tl\n",
    "\n",
    "kite = tl.Turtle()\n",
    "\n",
    "kite.left(45)\n",
    "for i in range(3):\n",
    "    kite.forward(100)\n",
    "    kite.left(90)\n",
    "\n",
    "kite.forward(150)\n",
    "kite.right(135)\n",
    "kite.forward(70.7)\n",
    "kite.right(135)\n",
    "kite.forward(50)\n",
    "\n",
    "kite.left(45)\n",
    "kite.forward(141.4)\n",
    "\n",
    "kite.left(135)\n",
    "kite.forward(100)\n",
    "kite.left(135)\n",
    "kite.forward(141.4)\n",
    "\n",
    "kite.hideturtle()\n",
    "tl.done()"
   ]
  },
  {
   "cell_type": "code",
   "execution_count": null,
   "id": "03d73bbf",
   "metadata": {},
   "outputs": [],
   "source": []
  }
 ],
 "metadata": {
  "kernelspec": {
   "display_name": "Python 3 (ipykernel)",
   "language": "python",
   "name": "python3"
  },
  "language_info": {
   "codemirror_mode": {
    "name": "ipython",
    "version": 3
   },
   "file_extension": ".py",
   "mimetype": "text/x-python",
   "name": "python",
   "nbconvert_exporter": "python",
   "pygments_lexer": "ipython3",
   "version": "3.9.7"
  }
 },
 "nbformat": 4,
 "nbformat_minor": 5
}
