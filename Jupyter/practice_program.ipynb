{
 "cells": [
  {
   "cell_type": "markdown",
   "id": "e0bd706c",
   "metadata": {},
   "source": [
    "## Addition of two list items"
   ]
  },
  {
   "cell_type": "code",
   "execution_count": 13,
   "id": "36786374",
   "metadata": {},
   "outputs": [
    {
     "name": "stdout",
     "output_type": "stream",
     "text": [
      "[4, 7, 10, 12, 14]\n"
     ]
    }
   ],
   "source": [
    "list1 = [1,2,4,5,6]\n",
    "list2 = [3,5,6,7,8]\n",
    "list3=[list1[i] + list2[i] for i in range(len(list1))]\n",
    "print(list3)"
   ]
  },
  {
   "cell_type": "markdown",
   "id": "24232a63",
   "metadata": {},
   "source": [
    "## Addition of list and set"
   ]
  },
  {
   "cell_type": "code",
   "execution_count": 14,
   "id": "1aaa9755",
   "metadata": {},
   "outputs": [
    {
     "name": "stdout",
     "output_type": "stream",
     "text": [
      "{1, 2, 3, 4, 5, 6, 7, 8}\n"
     ]
    }
   ],
   "source": [
    "list = [1,2,4,6,7,8]\n",
    "set = {3,4,5,6,7,8}\n",
    "set.update(list)\n",
    "print(set)"
   ]
  },
  {
   "cell_type": "markdown",
   "id": "87151827",
   "metadata": {},
   "source": [
    "## Reversing a string"
   ]
  },
  {
   "cell_type": "code",
   "execution_count": 18,
   "id": "353de118",
   "metadata": {},
   "outputs": [
    {
     "name": "stdout",
     "output_type": "stream",
     "text": [
      "Enter a string:vivek\n",
      "The reversed string is :keviv\n"
     ]
    }
   ],
   "source": [
    "a=str(input(\"Enter a string:\"))\n",
    "print(\"The reversed string is :\"+ a[::-1])"
   ]
  },
  {
   "cell_type": "markdown",
   "id": "fa251eac",
   "metadata": {},
   "source": [
    "## Reversing a number"
   ]
  },
  {
   "cell_type": "code",
   "execution_count": 20,
   "id": "ce1b7c35",
   "metadata": {},
   "outputs": [
    {
     "name": "stdout",
     "output_type": "stream",
     "text": [
      "Enter a number :256845698325\n",
      "The reversed number is :523896548652\n"
     ]
    }
   ],
   "source": [
    "a=str(input(\"Enter a number :\"))\n",
    "print(\"The reversed number is :\" + a[::-1])"
   ]
  },
  {
   "cell_type": "markdown",
   "id": "266ebf32",
   "metadata": {},
   "source": [
    "## Voting system"
   ]
  },
  {
   "cell_type": "code",
   "execution_count": 3,
   "id": "e9e4db67",
   "metadata": {},
   "outputs": [
    {
     "name": "stdout",
     "output_type": "stream",
     "text": [
      "Hello and welcome to the automated voting system !!\n",
      "Choose the candidate from the below list:\n",
      "1) Vivek Tiwari - VTS\n",
      "2)Karan Tiwari - KTS\n",
      "3)Raj Thawani - RTD\n",
      "1\n",
      "Thank you to vote for VTS !!\n",
      "VTS : 1\n",
      "KTS : 0\n",
      "RTD : 0\n",
      "Choose the candidate from the below list:\n",
      "1) Vivek Tiwari - VTS\n",
      "2)Karan Tiwari - KTS\n",
      "3)Raj Thawani - RTD\n",
      "1\n",
      "Thank you to vote for VTS !!\n",
      "VTS : 2\n",
      "KTS : 0\n",
      "RTD : 0\n",
      "Choose the candidate from the below list:\n",
      "1) Vivek Tiwari - VTS\n",
      "2)Karan Tiwari - KTS\n",
      "3)Raj Thawani - RTD\n",
      "5\n",
      "Please enter a valid choice !!\n"
     ]
    }
   ],
   "source": [
    "print(\"Hello and welcome to the automated voting system !!\")\n",
    "b=c=d=0\n",
    "while True:\n",
    "    a=int(input(\"Choose the candidate from the below list:\\n1) Vivek Tiwari - VTS\\n2)Karan Tiwari - KTS\\n3)Raj Thawani - RTD\\n\"))\n",
    "    if a==1:\n",
    "        print(\"Thank you to vote for VTS !!\")\n",
    "        b += 1\n",
    "    elif a==2:\n",
    "        print(\"Thank you to vote for KTS !!\")\n",
    "        c += 1\n",
    "    elif a==3:\n",
    "        print(\"Thank you to vote for RTD !!\")\n",
    "        d += 1\n",
    "    else :\n",
    "        print(\"Please enter a valid choice !!\")\n",
    "        break\n",
    "\n",
    "    print(\"VTS :\",b)\n",
    "    print(\"KTS :\",c)\n",
    "    print(\"RTD :\",d)"
   ]
  },
  {
   "cell_type": "code",
   "execution_count": null,
   "id": "8e8fe576",
   "metadata": {},
   "outputs": [],
   "source": []
  }
 ],
 "metadata": {
  "kernelspec": {
   "display_name": "Python 3 (ipykernel)",
   "language": "python",
   "name": "python3"
  },
  "language_info": {
   "codemirror_mode": {
    "name": "ipython",
    "version": 3
   },
   "file_extension": ".py",
   "mimetype": "text/x-python",
   "name": "python",
   "nbconvert_exporter": "python",
   "pygments_lexer": "ipython3",
   "version": "3.9.7"
  }
 },
 "nbformat": 4,
 "nbformat_minor": 5
}
