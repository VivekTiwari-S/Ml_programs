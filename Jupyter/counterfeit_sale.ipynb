{
 "cells": [
  {
   "cell_type": "code",
   "execution_count": 14,
   "id": "eb5b1c6d",
   "metadata": {},
   "outputs": [],
   "source": [
    "import numpy as np\n",
    "from matplotlib import pyplot as plt\n",
    "import pandas as pd\n",
    "from sklearn import linear_model\n",
    "import seaborn as sns"
   ]
  },
  {
   "cell_type": "code",
   "execution_count": 2,
   "id": "1263f752",
   "metadata": {},
   "outputs": [],
   "source": [
    "df = pd.read_csv('counterfeit_train.csv')"
   ]
  },
  {
   "cell_type": "code",
   "execution_count": 3,
   "id": "a483bcc4",
   "metadata": {},
   "outputs": [
    {
     "name": "stdout",
     "output_type": "stream",
     "text": [
      "<class 'pandas.core.frame.DataFrame'>\n",
      "RangeIndex: 6818 entries, 0 to 6817\n",
      "Data columns (total 12 columns):\n",
      " #   Column               Non-Null Count  Dtype  \n",
      "---  ------               --------------  -----  \n",
      " 0   Medicine_ID          6818 non-null   object \n",
      " 1   Counterfeit_Weight   5652 non-null   float64\n",
      " 2   DistArea_ID          6818 non-null   object \n",
      " 3   Active_Since         6818 non-null   int64  \n",
      " 4   Medicine_MRP         6818 non-null   float64\n",
      " 5   Medicine_Type        6818 non-null   object \n",
      " 6   SidEffect_Level      6818 non-null   object \n",
      " 7   Availability_rating  6818 non-null   float64\n",
      " 8   Area_Type            6818 non-null   object \n",
      " 9   Area_City_Type       6818 non-null   object \n",
      " 10  Area_dist_level      6818 non-null   object \n",
      " 11  Counterfeit_Sales    6818 non-null   float64\n",
      "dtypes: float64(4), int64(1), object(7)\n",
      "memory usage: 639.3+ KB\n"
     ]
    }
   ],
   "source": [
    "df.info()"
   ]
  },
  {
   "cell_type": "code",
   "execution_count": 6,
   "id": "e092d368",
   "metadata": {},
   "outputs": [
    {
     "data": {
      "text/plain": [
       "1166"
      ]
     },
     "execution_count": 6,
     "metadata": {},
     "output_type": "execute_result"
    }
   ],
   "source": [
    "df['Counterfeit_Weight'].isnull().sum()"
   ]
  },
  {
   "cell_type": "code",
   "execution_count": 7,
   "id": "4b7ccd26",
   "metadata": {},
   "outputs": [
    {
     "data": {
      "text/html": [
       "<div>\n",
       "<style scoped>\n",
       "    .dataframe tbody tr th:only-of-type {\n",
       "        vertical-align: middle;\n",
       "    }\n",
       "\n",
       "    .dataframe tbody tr th {\n",
       "        vertical-align: top;\n",
       "    }\n",
       "\n",
       "    .dataframe thead th {\n",
       "        text-align: right;\n",
       "    }\n",
       "</style>\n",
       "<table border=\"1\" class=\"dataframe\">\n",
       "  <thead>\n",
       "    <tr style=\"text-align: right;\">\n",
       "      <th></th>\n",
       "      <th>Counterfeit_Weight</th>\n",
       "      <th>Active_Since</th>\n",
       "      <th>Medicine_MRP</th>\n",
       "      <th>Availability_rating</th>\n",
       "      <th>Counterfeit_Sales</th>\n",
       "    </tr>\n",
       "  </thead>\n",
       "  <tbody>\n",
       "    <tr>\n",
       "      <th>count</th>\n",
       "      <td>5652.000000</td>\n",
       "      <td>6818.000000</td>\n",
       "      <td>6818.000000</td>\n",
       "      <td>6818.000000</td>\n",
       "      <td>6818.000000</td>\n",
       "    </tr>\n",
       "    <tr>\n",
       "      <th>mean</th>\n",
       "      <td>14.115057</td>\n",
       "      <td>1995.836316</td>\n",
       "      <td>151.401518</td>\n",
       "      <td>0.079174</td>\n",
       "      <td>2280.583480</td>\n",
       "    </tr>\n",
       "    <tr>\n",
       "      <th>std</th>\n",
       "      <td>4.649668</td>\n",
       "      <td>8.368979</td>\n",
       "      <td>62.203961</td>\n",
       "      <td>0.051481</td>\n",
       "      <td>1693.354404</td>\n",
       "    </tr>\n",
       "    <tr>\n",
       "      <th>min</th>\n",
       "      <td>5.855000</td>\n",
       "      <td>1983.000000</td>\n",
       "      <td>41.790000</td>\n",
       "      <td>0.013000</td>\n",
       "      <td>146.290000</td>\n",
       "    </tr>\n",
       "    <tr>\n",
       "      <th>25%</th>\n",
       "      <td>9.995000</td>\n",
       "      <td>1985.000000</td>\n",
       "      <td>104.509400</td>\n",
       "      <td>0.040058</td>\n",
       "      <td>933.265600</td>\n",
       "    </tr>\n",
       "    <tr>\n",
       "      <th>50%</th>\n",
       "      <td>13.800000</td>\n",
       "      <td>1997.000000</td>\n",
       "      <td>153.195700</td>\n",
       "      <td>0.066955</td>\n",
       "      <td>1902.670400</td>\n",
       "    </tr>\n",
       "    <tr>\n",
       "      <th>75%</th>\n",
       "      <td>18.050000</td>\n",
       "      <td>2002.000000</td>\n",
       "      <td>196.148350</td>\n",
       "      <td>0.107697</td>\n",
       "      <td>3207.638400</td>\n",
       "    </tr>\n",
       "    <tr>\n",
       "      <th>max</th>\n",
       "      <td>22.650000</td>\n",
       "      <td>2007.000000</td>\n",
       "      <td>277.188400</td>\n",
       "      <td>0.341391</td>\n",
       "      <td>13199.964800</td>\n",
       "    </tr>\n",
       "  </tbody>\n",
       "</table>\n",
       "</div>"
      ],
      "text/plain": [
       "       Counterfeit_Weight  Active_Since  Medicine_MRP  Availability_rating  \\\n",
       "count         5652.000000   6818.000000   6818.000000          6818.000000   \n",
       "mean            14.115057   1995.836316    151.401518             0.079174   \n",
       "std              4.649668      8.368979     62.203961             0.051481   \n",
       "min              5.855000   1983.000000     41.790000             0.013000   \n",
       "25%              9.995000   1985.000000    104.509400             0.040058   \n",
       "50%             13.800000   1997.000000    153.195700             0.066955   \n",
       "75%             18.050000   2002.000000    196.148350             0.107697   \n",
       "max             22.650000   2007.000000    277.188400             0.341391   \n",
       "\n",
       "       Counterfeit_Sales  \n",
       "count        6818.000000  \n",
       "mean         2280.583480  \n",
       "std          1693.354404  \n",
       "min           146.290000  \n",
       "25%           933.265600  \n",
       "50%          1902.670400  \n",
       "75%          3207.638400  \n",
       "max         13199.964800  "
      ]
     },
     "execution_count": 7,
     "metadata": {},
     "output_type": "execute_result"
    }
   ],
   "source": [
    "df.describe()"
   ]
  },
  {
   "cell_type": "code",
   "execution_count": 20,
   "id": "d8518246",
   "metadata": {},
   "outputs": [
    {
     "data": {
      "text/plain": [
       "16"
      ]
     },
     "execution_count": 20,
     "metadata": {},
     "output_type": "execute_result"
    }
   ],
   "source": [
    "df['Medicine_Type'].nunique()"
   ]
  },
  {
   "cell_type": "code",
   "execution_count": 21,
   "id": "55c715bf",
   "metadata": {},
   "outputs": [
    {
     "data": {
      "text/plain": [
       "0    DownTown\n",
       "Name: Area_Type, dtype: object"
      ]
     },
     "execution_count": 21,
     "metadata": {},
     "output_type": "execute_result"
    }
   ],
   "source": [
    "df['Area_Type'].mode()"
   ]
  },
  {
   "cell_type": "code",
   "execution_count": 29,
   "id": "ae8cb3f3",
   "metadata": {},
   "outputs": [
    {
     "data": {
      "text/plain": [
       "<Axes: >"
      ]
     },
     "execution_count": 29,
     "metadata": {},
     "output_type": "execute_result"
    },
    {
     "data": {
      "image/png": "[encoded data removed]",
      "text/plain": [
       "<Figure size 640x480 with 1 Axes>"
      ]
     },
     "metadata": {},
     "output_type": "display_data"
    }
   ],
   "source": [
    "sns.boxplot(df['Medicine_MRP'])"
   ]
  },
  {
   "cell_type": "code",
   "execution_count": 8,
   "id": "072de8dd",
   "metadata": {},
   "outputs": [
    {
     "data": {
      "text/plain": [
       "0       13.100\n",
       "1          NaN\n",
       "2        9.025\n",
       "3       11.800\n",
       "4          NaN\n",
       "         ...  \n",
       "6813     8.535\n",
       "6814    20.650\n",
       "6815    20.000\n",
       "6816    10.180\n",
       "6817     7.930\n",
       "Name: Counterfeit_Weight, Length: 6818, dtype: float64"
      ]
     },
     "execution_count": 8,
     "metadata": {},
     "output_type": "execute_result"
    }
   ],
   "source": [
    "df['Counterfeit_Weight']"
   ]
  },
  {
   "cell_type": "code",
   "execution_count": 10,
   "id": "f87936e2",
   "metadata": {},
   "outputs": [],
   "source": [
    "df['Counterfeit_Weight'] = df['Counterfeit_Weight'].fillna(0)"
   ]
  },
  {
   "cell_type": "code",
   "execution_count": 11,
   "id": "ce8f128a",
   "metadata": {},
   "outputs": [
    {
     "data": {
      "text/plain": [
       "0       13\n",
       "1        0\n",
       "2        9\n",
       "3       11\n",
       "4        0\n",
       "        ..\n",
       "6813     8\n",
       "6814    20\n",
       "6815    20\n",
       "6816    10\n",
       "6817     7\n",
       "Name: Counterfeit_Weight, Length: 6818, dtype: int64"
      ]
     },
     "execution_count": 11,
     "metadata": {},
     "output_type": "execute_result"
    }
   ],
   "source": [
    "df['Counterfeit_Weight'].astype(int)"
   ]
  },
  {
   "cell_type": "code",
   "execution_count": 12,
   "id": "c37d117b",
   "metadata": {},
   "outputs": [
    {
     "name": "stdout",
     "output_type": "stream",
     "text": [
      "<class 'pandas.core.frame.DataFrame'>\n",
      "RangeIndex: 6818 entries, 0 to 6817\n",
      "Data columns (total 12 columns):\n",
      " #   Column               Non-Null Count  Dtype  \n",
      "---  ------               --------------  -----  \n",
      " 0   Medicine_ID          6818 non-null   object \n",
      " 1   Counterfeit_Weight   6818 non-null   float64\n",
      " 2   DistArea_ID          6818 non-null   object \n",
      " 3   Active_Since         6818 non-null   int64  \n",
      " 4   Medicine_MRP         6818 non-null   float64\n",
      " 5   Medicine_Type        6818 non-null   object \n",
      " 6   SidEffect_Level      6818 non-null   object \n",
      " 7   Availability_rating  6818 non-null   float64\n",
      " 8   Area_Type            6818 non-null   object \n",
      " 9   Area_City_Type       6818 non-null   object \n",
      " 10  Area_dist_level      6818 non-null   object \n",
      " 11  Counterfeit_Sales    6818 non-null   float64\n",
      "dtypes: float64(4), int64(1), object(7)\n",
      "memory usage: 639.3+ KB\n"
     ]
    }
   ],
   "source": [
    "df.info()"
   ]
  },
  {
   "cell_type": "code",
   "execution_count": 18,
   "id": "44a67fba",
   "metadata": {},
   "outputs": [],
   "source": [
    "df['Counterfeit_Weight'] = df['Counterfeit_Weight'].astype(int)\n",
    "df['Medicine_MRP'] = df['Medicine_MRP'].astype(int)\n",
    "df['Availability_rating'] = df['Availability_rating'].astype(int)\n",
    "df['Counterfeit_Sales'] = df['Counterfeit_Sales'].astype(int)"
   ]
  },
  {
   "cell_type": "code",
   "execution_count": 19,
   "id": "54d5ed83",
   "metadata": {},
   "outputs": [
    {
     "name": "stderr",
     "output_type": "stream",
     "text": [
      "/var/folders/w_/0xlf42r93ggfvmr7vj4dc4pr0000gn/T/ipykernel_35728/2557068177.py:1: FutureWarning: The default value of numeric_only in DataFrame.corr is deprecated. In a future version, it will default to False. Select only valid columns or specify the value of numeric_only to silence this warning.\n",
      "  corrmat = df.corr()\n"
     ]
    },
    {
     "data": {
      "image/png": "[encoded data removed]",
      "text/plain": [
       "<Figure size 1200x900 with 2 Axes>"
      ]
     },
     "metadata": {},
     "output_type": "display_data"
    }
   ],
   "source": [
    "corrmat = df.corr()\n",
    "f, ax = plt.subplots(figsize=(12, 9))\n",
    "sns.heatmap(corrmat, vmax=.8, square=True);\n",
    "plt.title(\"Checking Correlation matrix \")\n",
    "plt.show()"
   ]
  },
  {
   "cell_type": "code",
   "execution_count": null,
   "id": "9f358f8f",
   "metadata": {},
   "outputs": [],
   "source": []
  }
 ],
 "metadata": {
  "kernelspec": {
   "display_name": "Python 3 (ipykernel)",
   "language": "python",
   "name": "python3"
  },
  "language_info": {
   "codemirror_mode": {
    "name": "ipython",
    "version": 3
   },
   "file_extension": ".py",
   "mimetype": "text/x-python",
   "name": "python",
   "nbconvert_exporter": "python",
   "pygments_lexer": "ipython3",
   "version": "3.9.7"
  }
 },
 "nbformat": 4,
 "nbformat_minor": 5
}
