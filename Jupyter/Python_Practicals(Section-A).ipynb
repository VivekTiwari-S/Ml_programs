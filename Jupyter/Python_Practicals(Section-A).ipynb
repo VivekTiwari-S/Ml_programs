{
 "cells": [
  {
   "cell_type": "markdown",
   "id": "d869df83",
   "metadata": {},
   "source": [
    "## Menu driven program to convert temperature from Fahrenheit to Celsius and vice versa"
   ]
  },
  {
   "cell_type": "code",
   "execution_count": 8,
   "id": "c70e2456",
   "metadata": {
    "scrolled": true
   },
   "outputs": [
    {
     "name": "stdout",
     "output_type": "stream",
     "text": [
      "1. Fahrenheit\n",
      "2. Celsius\n",
      "Enter your choice : 2\n",
      "Enter temp in celsius : 36.2\n",
      "The temperature in Fahrenheit is : 97.16000000000001\n"
     ]
    }
   ],
   "source": [
    "def Fah(celtemp):\n",
    "    return 1.8 * celtemp + 32\n",
    "\n",
    "def Cel(fahtemp):\n",
    "    return (fahtemp - 32) / 1.8\n",
    "\n",
    "print('1. Fahrenheit\\n2. Celsius')\n",
    "choice = int(input('Enter your choice : '))\n",
    "\n",
    "if choice == 1:\n",
    "    temp2 = float(input('Enter temp in Fahrenheit : '))\n",
    "    print('The temperature in Celsius is :',Cel(temp2))\n",
    "    \n",
    "elif choice == 2:\n",
    "    temp1 = float(input('Enter temp in celsius : '))\n",
    "    print('The temperature in Fahrenheit is :',Fah(temp1))\n",
    "    \n",
    "else:\n",
    "    print('Please enter a valid input !')"
   ]
  },
  {
   "cell_type": "markdown",
   "id": "b280c865",
   "metadata": {},
   "source": [
    "## To calculate total marks, percentage and grade for input marks of three subjects"
   ]
  },
  {
   "cell_type": "code",
   "execution_count": 9,
   "id": "c7008f87",
   "metadata": {},
   "outputs": [
    {
     "name": "stdout",
     "output_type": "stream",
     "text": [
      "Enter the marks for three subjects : \n",
      "Enter marks of OOP : 92\n",
      "Enter marks of DSA : 90\n",
      "Enter marks of FOE : 85\n",
      "\n",
      "Total marks :  267 out of 300\n",
      "Percentage is : 89.0\n",
      "Grade A\n"
     ]
    }
   ],
   "source": [
    "def Grade(percent):\n",
    "    if percent >= 80:\n",
    "        print('Grade A')\n",
    "    elif percent >= 70 and percent < 80:\n",
    "        print('Grade B')\n",
    "    elif percent >= 60 and percent < 70:\n",
    "        print('Grade C')\n",
    "    elif percent >= 40 and percent < 60:\n",
    "        print('Grade D')\n",
    "    elif percent < 40:\n",
    "        print('Grade E')\n",
    "        \n",
    "print('Enter the marks for three subjects : ')\n",
    "\n",
    "m1 = int(input('Enter marks of OOP : '))\n",
    "m2 = int(input('Enter marks of DSA : '))\n",
    "m3 = int(input('Enter marks of FOE : '))\n",
    "\n",
    "print()\n",
    "print('Total marks : ',(m1 + m2 + m3),\"out of 300\")\n",
    "\n",
    "per = (m1 + m2 + m3) / 3    \n",
    "print('Percentage is :',per) \n",
    "Grade(int(per))"
   ]
  },
  {
   "cell_type": "markdown",
   "id": "b6693e5b",
   "metadata": {},
   "source": [
    "## Write a menu-driven program, using user-defined functions to find the area of rectangle, square, circle and triangle by accepting suitable input parameters from user."
   ]
  },
  {
   "cell_type": "code",
   "execution_count": 10,
   "id": "4022379a",
   "metadata": {},
   "outputs": [
    {
     "name": "stdout",
     "output_type": "stream",
     "text": [
      "1. Rectangle\n",
      "2. Square\n",
      "3. Circle\n",
      "4. Triangle\n",
      "Enter your choice : 3\n",
      "Enter the radius of circle : 5.8\n",
      "Area of circle : 105.68308759999998\n"
     ]
    }
   ],
   "source": [
    "pi = 3.14159\n",
    "def Rect():\n",
    "    l = float(input('Enter the length of rectangle : '))\n",
    "    b = float(input('Enter the breadth of rectangle : '))\n",
    "    print('Area of rectangle :', l * b)\n",
    "\n",
    "def Sq():\n",
    "    l = float(input('Enter length of square : '))\n",
    "    print('Area of square :', l * l)\n",
    "    \n",
    "def Circle():\n",
    "    rad = float(input('Enter the radius of circle : '))\n",
    "    print('Area of circle :', pi * rad * rad)\n",
    "\n",
    "def Tri():\n",
    "    a = float(input('Enter the length of altitude : '))\n",
    "    b = float(input('Enter the length of base : '))\n",
    "    print('Area of triangle :', 0.5 * a * b)\n",
    "    \n",
    "print('1. Rectangle\\n2. Square\\n3. Circle\\n4. Triangle')\n",
    "choice = int(input('Enter your choice : '))\n",
    "\n",
    "if choice == 1:\n",
    "    Rect()\n",
    "elif choice == 2:\n",
    "    Sq()\n",
    "elif choice == 3:\n",
    "    Circle()\n",
    "elif choice == 4:\n",
    "    Tri()\n",
    "else:\n",
    "    print('Please enter a valid choice !')"
   ]
  },
  {
   "cell_type": "markdown",
   "id": "597398a9",
   "metadata": {},
   "source": [
    "## Write a program to display the first n terms of Fibonacci series."
   ]
  },
  {
   "cell_type": "code",
   "execution_count": 11,
   "id": "5aa749cc",
   "metadata": {},
   "outputs": [
    {
     "name": "stdout",
     "output_type": "stream",
     "text": [
      "Enter number of terms : 5\n",
      "Fibonacci series upto 5 : 0 1 1 2 3 "
     ]
    }
   ],
   "source": [
    "terms = int(input('Enter number of terms : '))\n",
    "\n",
    "t1, t2 = 0, 1\n",
    "count = 0\n",
    "\n",
    "if terms <= 0:\n",
    "    print(\"Series must contain atleast one term !\")\n",
    "elif terms == 1:\n",
    "    print(\"Fibonacci series upto\", terms, \":\", t1)\n",
    "else:\n",
    "    print(\"Fibonacci series upto\", terms, \":\", end = ' ')\n",
    "    while count < terms:\n",
    "        print(t1, end = ' ')\n",
    "        t = t1 + t2\n",
    "        t1 = t2\n",
    "        t2 = t\n",
    "        count += 1"
   ]
  },
  {
   "cell_type": "markdown",
   "id": "450f84ae",
   "metadata": {},
   "source": [
    "## Write a program to find factorial of the given number."
   ]
  },
  {
   "cell_type": "code",
   "execution_count": 12,
   "id": "810f87b9",
   "metadata": {},
   "outputs": [
    {
     "name": "stdout",
     "output_type": "stream",
     "text": [
      "Enter the number : 6\n",
      "Factorial of 6 is 720\n"
     ]
    }
   ],
   "source": [
    "def fact(num):\n",
    "    if num == 0 or num == 1:\n",
    "        return 1\n",
    "    else:\n",
    "        return num * fact(num - 1)\n",
    "    \n",
    "num = int(input('Enter the number : '))\n",
    "print('Factorial of', num, \"is\", fact(num))"
   ]
  }
 ],
 "metadata": {
  "kernelspec": {
   "display_name": "Python 3 (ipykernel)",
   "language": "python",
   "name": "python3"
  },
  "language_info": {
   "codemirror_mode": {
    "name": "ipython",
    "version": 3
   },
   "file_extension": ".py",
   "mimetype": "text/x-python",
   "name": "python",
   "nbconvert_exporter": "python",
   "pygments_lexer": "ipython3",
   "version": "3.9.7"
  }
 },
 "nbformat": 4,
 "nbformat_minor": 5
}
