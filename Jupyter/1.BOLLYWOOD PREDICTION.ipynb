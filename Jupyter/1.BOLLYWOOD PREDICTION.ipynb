{
 "cells": [
  {
   "cell_type": "markdown",
   "id": "5dcf8f80",
   "metadata": {},
   "source": [
    "# Importing libraries"
   ]
  },
  {
   "cell_type": "code",
   "execution_count": 136,
   "id": "3acb37ad",
   "metadata": {},
   "outputs": [],
   "source": [
    "import pandas as pd\n",
    "import seaborn as sb\n",
    "import matplotlib.pyplot as plt\n",
    "import numpy as np\n",
    "from sklearn.metrics import accuracy_score\n",
    "from sklearn.metrics import mean_squared_error"
   ]
  },
  {
   "cell_type": "code",
   "execution_count": 137,
   "id": "0c3aa68b",
   "metadata": {},
   "outputs": [],
   "source": [
    "data = pd.read_csv('bollywood.csv')"
   ]
  },
  {
   "cell_type": "code",
   "execution_count": 138,
   "id": "408902f3",
   "metadata": {},
   "outputs": [
    {
     "data": {
      "text/html": [
       "<div>\n",
       "<style scoped>\n",
       "    .dataframe tbody tr th:only-of-type {\n",
       "        vertical-align: middle;\n",
       "    }\n",
       "\n",
       "    .dataframe tbody tr th {\n",
       "        vertical-align: top;\n",
       "    }\n",
       "\n",
       "    .dataframe thead th {\n",
       "        text-align: right;\n",
       "    }\n",
       "</style>\n",
       "<table border=\"1\" class=\"dataframe\">\n",
       "  <thead>\n",
       "    <tr style=\"text-align: right;\">\n",
       "      <th></th>\n",
       "      <th>SlNo</th>\n",
       "      <th>ReleaseDate</th>\n",
       "      <th>MovieName</th>\n",
       "      <th>ReleaseTime</th>\n",
       "      <th>Genre</th>\n",
       "      <th>Budget</th>\n",
       "      <th>BoxOfficeCollection</th>\n",
       "      <th>YoutubeViews</th>\n",
       "      <th>YoutubeLikes</th>\n",
       "      <th>YoutubeDislikes</th>\n",
       "    </tr>\n",
       "  </thead>\n",
       "  <tbody>\n",
       "    <tr>\n",
       "      <th>0</th>\n",
       "      <td>1</td>\n",
       "      <td>18-Apr-14</td>\n",
       "      <td>2States</td>\n",
       "      <td>LW</td>\n",
       "      <td>Romance</td>\n",
       "      <td>36</td>\n",
       "      <td>104.00</td>\n",
       "      <td>8576361</td>\n",
       "      <td>26622</td>\n",
       "      <td>2527</td>\n",
       "    </tr>\n",
       "    <tr>\n",
       "      <th>1</th>\n",
       "      <td>2</td>\n",
       "      <td>4-Jan-13</td>\n",
       "      <td>TableNo.21</td>\n",
       "      <td>N</td>\n",
       "      <td>Thriller</td>\n",
       "      <td>10</td>\n",
       "      <td>12.00</td>\n",
       "      <td>1087320</td>\n",
       "      <td>1129</td>\n",
       "      <td>137</td>\n",
       "    </tr>\n",
       "    <tr>\n",
       "      <th>2</th>\n",
       "      <td>3</td>\n",
       "      <td>18-Jul-14</td>\n",
       "      <td>AmitSahniKiList</td>\n",
       "      <td>N</td>\n",
       "      <td>Comedy</td>\n",
       "      <td>10</td>\n",
       "      <td>4.00</td>\n",
       "      <td>572336</td>\n",
       "      <td>586</td>\n",
       "      <td>54</td>\n",
       "    </tr>\n",
       "    <tr>\n",
       "      <th>3</th>\n",
       "      <td>4</td>\n",
       "      <td>4-Jan-13</td>\n",
       "      <td>RajdhaniExpress</td>\n",
       "      <td>N</td>\n",
       "      <td>Drama</td>\n",
       "      <td>7</td>\n",
       "      <td>0.35</td>\n",
       "      <td>42626</td>\n",
       "      <td>86</td>\n",
       "      <td>19</td>\n",
       "    </tr>\n",
       "    <tr>\n",
       "      <th>4</th>\n",
       "      <td>5</td>\n",
       "      <td>4-Jul-14</td>\n",
       "      <td>BobbyJasoos</td>\n",
       "      <td>N</td>\n",
       "      <td>Comedy</td>\n",
       "      <td>18</td>\n",
       "      <td>10.80</td>\n",
       "      <td>3113427</td>\n",
       "      <td>4512</td>\n",
       "      <td>1224</td>\n",
       "    </tr>\n",
       "  </tbody>\n",
       "</table>\n",
       "</div>"
      ],
      "text/plain": [
       "   SlNo ReleaseDate        MovieName ReleaseTime     Genre  Budget  \\\n",
       "0     1   18-Apr-14          2States          LW   Romance      36   \n",
       "1     2    4-Jan-13       TableNo.21           N  Thriller      10   \n",
       "2     3   18-Jul-14  AmitSahniKiList           N    Comedy      10   \n",
       "3     4    4-Jan-13  RajdhaniExpress           N     Drama       7   \n",
       "4     5    4-Jul-14      BobbyJasoos           N    Comedy      18   \n",
       "\n",
       "   BoxOfficeCollection  YoutubeViews  YoutubeLikes  YoutubeDislikes  \n",
       "0               104.00       8576361         26622             2527  \n",
       "1                12.00       1087320          1129              137  \n",
       "2                 4.00        572336           586               54  \n",
       "3                 0.35         42626            86               19  \n",
       "4                10.80       3113427          4512             1224  "
      ]
     },
     "execution_count": 138,
     "metadata": {},
     "output_type": "execute_result"
    }
   ],
   "source": [
    "data.head()"
   ]
  },
  {
   "cell_type": "code",
   "execution_count": 139,
   "id": "ee79e4f0",
   "metadata": {},
   "outputs": [
    {
     "name": "stdout",
     "output_type": "stream",
     "text": [
      "<class 'pandas.core.frame.DataFrame'>\n",
      "RangeIndex: 149 entries, 0 to 148\n",
      "Data columns (total 10 columns):\n",
      " #   Column               Non-Null Count  Dtype  \n",
      "---  ------               --------------  -----  \n",
      " 0   SlNo                 149 non-null    int64  \n",
      " 1   ReleaseDate          149 non-null    object \n",
      " 2   MovieName            149 non-null    object \n",
      " 3   ReleaseTime          149 non-null    object \n",
      " 4   Genre                149 non-null    object \n",
      " 5   Budget               149 non-null    int64  \n",
      " 6   BoxOfficeCollection  149 non-null    float64\n",
      " 7   YoutubeViews         149 non-null    int64  \n",
      " 8   YoutubeLikes         149 non-null    int64  \n",
      " 9   YoutubeDislikes      149 non-null    int64  \n",
      "dtypes: float64(1), int64(5), object(4)\n",
      "memory usage: 11.8+ KB\n"
     ]
    }
   ],
   "source": [
    "data.info()"
   ]
  },
  {
   "cell_type": "code",
   "execution_count": 140,
   "id": "24ad1e43",
   "metadata": {},
   "outputs": [
    {
     "data": {
      "text/html": [
       "<div>\n",
       "<style scoped>\n",
       "    .dataframe tbody tr th:only-of-type {\n",
       "        vertical-align: middle;\n",
       "    }\n",
       "\n",
       "    .dataframe tbody tr th {\n",
       "        vertical-align: top;\n",
       "    }\n",
       "\n",
       "    .dataframe thead th {\n",
       "        text-align: right;\n",
       "    }\n",
       "</style>\n",
       "<table border=\"1\" class=\"dataframe\">\n",
       "  <thead>\n",
       "    <tr style=\"text-align: right;\">\n",
       "      <th></th>\n",
       "      <th>SlNo</th>\n",
       "      <th>Budget</th>\n",
       "      <th>BoxOfficeCollection</th>\n",
       "      <th>YoutubeViews</th>\n",
       "      <th>YoutubeLikes</th>\n",
       "      <th>YoutubeDislikes</th>\n",
       "    </tr>\n",
       "  </thead>\n",
       "  <tbody>\n",
       "    <tr>\n",
       "      <th>count</th>\n",
       "      <td>149.000000</td>\n",
       "      <td>149.000000</td>\n",
       "      <td>149.000000</td>\n",
       "      <td>1.490000e+02</td>\n",
       "      <td>149.000000</td>\n",
       "      <td>149.000000</td>\n",
       "    </tr>\n",
       "    <tr>\n",
       "      <th>mean</th>\n",
       "      <td>75.000000</td>\n",
       "      <td>29.442953</td>\n",
       "      <td>55.667248</td>\n",
       "      <td>3.337920e+06</td>\n",
       "      <td>7877.536913</td>\n",
       "      <td>1207.818792</td>\n",
       "    </tr>\n",
       "    <tr>\n",
       "      <th>std</th>\n",
       "      <td>43.156691</td>\n",
       "      <td>28.237981</td>\n",
       "      <td>94.494531</td>\n",
       "      <td>3.504407e+06</td>\n",
       "      <td>12748.047191</td>\n",
       "      <td>1852.692938</td>\n",
       "    </tr>\n",
       "    <tr>\n",
       "      <th>min</th>\n",
       "      <td>1.000000</td>\n",
       "      <td>2.000000</td>\n",
       "      <td>0.010000</td>\n",
       "      <td>4.354000e+03</td>\n",
       "      <td>1.000000</td>\n",
       "      <td>1.000000</td>\n",
       "    </tr>\n",
       "    <tr>\n",
       "      <th>25%</th>\n",
       "      <td>38.000000</td>\n",
       "      <td>11.000000</td>\n",
       "      <td>8.780000</td>\n",
       "      <td>1.076591e+06</td>\n",
       "      <td>1377.000000</td>\n",
       "      <td>189.000000</td>\n",
       "    </tr>\n",
       "    <tr>\n",
       "      <th>50%</th>\n",
       "      <td>75.000000</td>\n",
       "      <td>21.000000</td>\n",
       "      <td>28.000000</td>\n",
       "      <td>2.375050e+06</td>\n",
       "      <td>4111.000000</td>\n",
       "      <td>614.000000</td>\n",
       "    </tr>\n",
       "    <tr>\n",
       "      <th>75%</th>\n",
       "      <td>112.000000</td>\n",
       "      <td>35.000000</td>\n",
       "      <td>57.450000</td>\n",
       "      <td>4.550051e+06</td>\n",
       "      <td>9100.000000</td>\n",
       "      <td>1419.000000</td>\n",
       "    </tr>\n",
       "    <tr>\n",
       "      <th>max</th>\n",
       "      <td>149.000000</td>\n",
       "      <td>150.000000</td>\n",
       "      <td>735.000000</td>\n",
       "      <td>2.317107e+07</td>\n",
       "      <td>101275.000000</td>\n",
       "      <td>11888.000000</td>\n",
       "    </tr>\n",
       "  </tbody>\n",
       "</table>\n",
       "</div>"
      ],
      "text/plain": [
       "             SlNo      Budget  BoxOfficeCollection  YoutubeViews  \\\n",
       "count  149.000000  149.000000           149.000000  1.490000e+02   \n",
       "mean    75.000000   29.442953            55.667248  3.337920e+06   \n",
       "std     43.156691   28.237981            94.494531  3.504407e+06   \n",
       "min      1.000000    2.000000             0.010000  4.354000e+03   \n",
       "25%     38.000000   11.000000             8.780000  1.076591e+06   \n",
       "50%     75.000000   21.000000            28.000000  2.375050e+06   \n",
       "75%    112.000000   35.000000            57.450000  4.550051e+06   \n",
       "max    149.000000  150.000000           735.000000  2.317107e+07   \n",
       "\n",
       "        YoutubeLikes  YoutubeDislikes  \n",
       "count     149.000000       149.000000  \n",
       "mean     7877.536913      1207.818792  \n",
       "std     12748.047191      1852.692938  \n",
       "min         1.000000         1.000000  \n",
       "25%      1377.000000       189.000000  \n",
       "50%      4111.000000       614.000000  \n",
       "75%      9100.000000      1419.000000  \n",
       "max    101275.000000     11888.000000  "
      ]
     },
     "execution_count": 140,
     "metadata": {},
     "output_type": "execute_result"
    }
   ],
   "source": [
    "data.describe()"
   ]
  },
  {
   "cell_type": "markdown",
   "id": "0c07f843",
   "metadata": {},
   "source": [
    "# EDA "
   ]
  },
  {
   "cell_type": "markdown",
   "id": "c2c3d2e6",
   "metadata": {},
   "source": [
    "# Analysing the target variable "
   ]
  },
  {
   "cell_type": "code",
   "execution_count": 141,
   "id": "6e4b4530",
   "metadata": {},
   "outputs": [],
   "source": [
    "y = data['BoxOfficeCollection']"
   ]
  },
  {
   "cell_type": "code",
   "execution_count": 142,
   "id": "1c241224",
   "metadata": {},
   "outputs": [
    {
     "data": {
      "text/plain": [
       "array([1.040e+02, 1.200e+01, 4.000e+00, 3.500e-01, 1.080e+01, 3.500e+01,\n",
       "       2.460e+01, 4.000e+01, 2.700e+01, 1.000e-02, 6.000e+00, 1.025e+01,\n",
       "       1.055e+02, 1.800e+00, 1.630e+02, 9.000e-02, 1.620e+02, 5.890e+01,\n",
       "       1.260e+01, 3.650e+00, 1.430e+01, 7.670e+01, 6.900e+01, 2.150e+01,\n",
       "       1.030e+02, 3.830e+02, 4.400e+01, 2.716e+01, 1.000e+01, 1.500e+00,\n",
       "       2.500e+01, 6.500e+01, 6.220e+01, 2.725e+01, 1.600e+01, 1.290e+02,\n",
       "       1.300e+02, 3.200e+01, 6.370e+01, 2.200e+01, 1.110e+02, 3.940e+01,\n",
       "       3.770e+02, 5.820e+00, 3.600e+01, 1.100e+01, 3.270e+01, 2.000e+00,\n",
       "       5.000e-01, 2.500e+00, 8.780e+00, 5.500e+01, 2.400e-01, 1.000e+02,\n",
       "       1.750e+00, 4.200e+01, 3.000e+00, 2.100e+01, 4.500e+01, 7.000e-01,\n",
       "       1.100e+02, 3.750e+00, 1.100e+00, 7.500e+01, 6.100e+01, 5.000e+01,\n",
       "       2.820e+01, 2.960e+01, 3.780e+01, 2.300e+01, 2.000e+02, 3.250e+01,\n",
       "       2.130e+00, 1.380e+01, 3.110e+02, 6.750e+00, 3.620e+01, 1.405e+01,\n",
       "       7.350e+02, 5.745e+01, 3.400e+02, 2.580e+00, 2.000e+01, 3.800e+01,\n",
       "       2.800e+01, 4.350e+00, 2.900e+01, 1.680e+01, 1.640e+02, 5.900e+00,\n",
       "       3.000e+01, 1.400e+01, 2.400e+01, 4.500e+00, 5.000e+00, 3.550e+01,\n",
       "       8.000e+00, 5.300e+01, 3.950e+02, 8.000e+01, 4.270e+01, 6.000e+01,\n",
       "       3.000e+02, 1.265e+01, 7.500e+00, 1.820e+01, 2.980e+02, 3.400e+01,\n",
       "       8.500e+01, 5.600e+01, 1.250e+02, 3.025e+01, 1.402e+01, 5.800e+01,\n",
       "       7.700e+01, 3.210e+01, 1.189e+01, 1.200e+02])"
      ]
     },
     "execution_count": 142,
     "metadata": {},
     "output_type": "execute_result"
    }
   ],
   "source": [
    "y.unique()"
   ]
  },
  {
   "cell_type": "code",
   "execution_count": 143,
   "id": "8a7c4657",
   "metadata": {},
   "outputs": [
    {
     "name": "stdout",
     "output_type": "stream",
     "text": [
      "<class 'pandas.core.series.Series'>\n",
      "RangeIndex: 149 entries, 0 to 148\n",
      "Series name: BoxOfficeCollection\n",
      "Non-Null Count  Dtype  \n",
      "--------------  -----  \n",
      "149 non-null    float64\n",
      "dtypes: float64(1)\n",
      "memory usage: 1.3 KB\n"
     ]
    }
   ],
   "source": [
    "y.info()"
   ]
  },
  {
   "cell_type": "code",
   "execution_count": 144,
   "id": "a642dd5f",
   "metadata": {},
   "outputs": [
    {
     "data": {
      "text/plain": [
       "0"
      ]
     },
     "execution_count": 144,
     "metadata": {},
     "output_type": "execute_result"
    }
   ],
   "source": [
    "y.isna().sum()"
   ]
  },
  {
   "cell_type": "markdown",
   "id": "d7eab3a6",
   "metadata": {},
   "source": [
    "0 null value in target variable"
   ]
  },
  {
   "cell_type": "code",
   "execution_count": 145,
   "id": "a344fc08",
   "metadata": {},
   "outputs": [
    {
     "data": {
      "text/plain": [
       "40.0     4\n",
       "2.0      4\n",
       "10.0     3\n",
       "6.0      3\n",
       "4.0      3\n",
       "        ..\n",
       "111.0    1\n",
       "63.7     1\n",
       "32.0     1\n",
       "130.0    1\n",
       "120.0    1\n",
       "Name: BoxOfficeCollection, Length: 118, dtype: int64"
      ]
     },
     "execution_count": 145,
     "metadata": {},
     "output_type": "execute_result"
    }
   ],
   "source": [
    "y.value_counts()"
   ]
  },
  {
   "cell_type": "code",
   "execution_count": 146,
   "id": "82a9c5a6",
   "metadata": {},
   "outputs": [
    {
     "name": "stderr",
     "output_type": "stream",
     "text": [
      "C:\\ProgramData\\Anaconda3\\lib\\site-packages\\seaborn\\_decorators.py:36: FutureWarning: Pass the following variable as a keyword arg: x. From version 0.12, the only valid positional argument will be `data`, and passing other arguments without an explicit keyword will result in an error or misinterpretation.\n",
      "  warnings.warn(\n"
     ]
    },
    {
     "data": {
      "text/plain": [
       "<AxesSubplot:xlabel='BoxOfficeCollection', ylabel='count'>"
      ]
     },
     "execution_count": 146,
     "metadata": {},
     "output_type": "execute_result"
    },
    {
     "data": {
      "image/png": "[encoded data removed]",
      "text/plain": [
       "<Figure size 640x480 with 1 Axes>"
      ]
     },
     "metadata": {},
     "output_type": "display_data"
    }
   ],
   "source": [
    "sb.countplot(y)"
   ]
  },
  {
   "cell_type": "code",
   "execution_count": 147,
   "id": "d4d57984",
   "metadata": {},
   "outputs": [
    {
     "name": "stderr",
     "output_type": "stream",
     "text": [
      "C:\\ProgramData\\Anaconda3\\lib\\site-packages\\seaborn\\distributions.py:2619: FutureWarning: `distplot` is a deprecated function and will be removed in a future version. Please adapt your code to use either `displot` (a figure-level function with similar flexibility) or `histplot` (an axes-level function for histograms).\n",
      "  warnings.warn(msg, FutureWarning)\n"
     ]
    },
    {
     "data": {
      "text/plain": [
       "<AxesSubplot:xlabel='BoxOfficeCollection', ylabel='Density'>"
      ]
     },
     "execution_count": 147,
     "metadata": {},
     "output_type": "execute_result"
    },
    {
     "data": {
      "image/png": "[encoded data removed]",
      "text/plain": [
       "<Figure size 640x480 with 1 Axes>"
      ]
     },
     "metadata": {},
     "output_type": "display_data"
    }
   ],
   "source": [
    "sb.distplot(y)"
   ]
  },
  {
   "cell_type": "code",
   "execution_count": 148,
   "id": "740275c0",
   "metadata": {},
   "outputs": [
    {
     "name": "stderr",
     "output_type": "stream",
     "text": [
      "C:\\ProgramData\\Anaconda3\\lib\\site-packages\\seaborn\\_decorators.py:36: FutureWarning: Pass the following variable as a keyword arg: x. From version 0.12, the only valid positional argument will be `data`, and passing other arguments without an explicit keyword will result in an error or misinterpretation.\n",
      "  warnings.warn(\n"
     ]
    },
    {
     "data": {
      "text/plain": [
       "<AxesSubplot:xlabel='BoxOfficeCollection'>"
      ]
     },
     "execution_count": 148,
     "metadata": {},
     "output_type": "execute_result"
    },
    {
     "data": {
      "image/png": "[encoded data removed]",
      "text/plain": [
       "<Figure size 640x480 with 1 Axes>"
      ]
     },
     "metadata": {},
     "output_type": "display_data"
    }
   ],
   "source": [
    "sb.boxplot(y)"
   ]
  },
  {
   "cell_type": "code",
   "execution_count": 149,
   "id": "c9c25bdf",
   "metadata": {},
   "outputs": [
    {
     "data": {
      "text/plain": [
       "<AxesSubplot:xlabel='BoxOfficeCollection', ylabel='Count'>"
      ]
     },
     "execution_count": 149,
     "metadata": {},
     "output_type": "execute_result"
    },
    {
     "data": {
      "image/png": "[encoded data removed]",
      "text/plain": [
       "<Figure size 640x480 with 1 Axes>"
      ]
     },
     "metadata": {},
     "output_type": "display_data"
    }
   ],
   "source": [
    "sb.histplot(y )"
   ]
  },
  {
   "cell_type": "markdown",
   "id": "7f2009c2",
   "metadata": {},
   "source": [
    "# Checking the Correlation of target variable with different variables "
   ]
  },
  {
   "cell_type": "code",
   "execution_count": 150,
   "id": "f5eb49f8",
   "metadata": {},
   "outputs": [
    {
     "name": "stdout",
     "output_type": "stream",
     "text": [
      "BoxOfficeCollection    1.000000\n",
      "YoutubeLikes           0.682517\n",
      "Budget                 0.650401\n",
      "YoutubeDislikes        0.623941\n",
      "YoutubeViews           0.588632\n",
      "SlNo                   0.036908\n",
      "Name: BoxOfficeCollection, dtype: float64\n"
     ]
    }
   ],
   "source": [
    "print(data.corr()[\"BoxOfficeCollection\"].abs().sort_values(ascending=False))"
   ]
  },
  {
   "cell_type": "code",
   "execution_count": 151,
   "id": "e78cac4b",
   "metadata": {},
   "outputs": [
    {
     "data": {
      "image/png": "[encoded data removed]",
      "text/plain": [
       "<Figure size 640x480 with 2 Axes>"
      ]
     },
     "metadata": {},
     "output_type": "display_data"
    }
   ],
   "source": [
    "list1 = ['BoxOfficeCollection' , 'YoutubeLikes', 'Budget' ,'YoutubeDislikes' ,'YoutubeViews']\n",
    "sb.heatmap(data[list1].corr() , annot = True);"
   ]
  },
  {
   "cell_type": "markdown",
   "id": "37a718e4",
   "metadata": {},
   "source": [
    "# Analysing the feature \"YoutubeLikes\""
   ]
  },
  {
   "cell_type": "code",
   "execution_count": 152,
   "id": "307f6ea3",
   "metadata": {},
   "outputs": [
    {
     "name": "stdout",
     "output_type": "stream",
     "text": [
      "<class 'pandas.core.series.Series'>\n",
      "RangeIndex: 149 entries, 0 to 148\n",
      "Series name: YoutubeLikes\n",
      "Non-Null Count  Dtype\n",
      "--------------  -----\n",
      "149 non-null    int64\n",
      "dtypes: int64(1)\n",
      "memory usage: 1.3 KB\n"
     ]
    }
   ],
   "source": [
    "data['YoutubeLikes'].info()"
   ]
  },
  {
   "cell_type": "code",
   "execution_count": 153,
   "id": "ac458689",
   "metadata": {},
   "outputs": [
    {
     "data": {
      "text/plain": [
       "count       149.000000\n",
       "mean       7877.536913\n",
       "std       12748.047191\n",
       "min           1.000000\n",
       "25%        1377.000000\n",
       "50%        4111.000000\n",
       "75%        9100.000000\n",
       "max      101275.000000\n",
       "Name: YoutubeLikes, dtype: float64"
      ]
     },
     "execution_count": 153,
     "metadata": {},
     "output_type": "execute_result"
    }
   ],
   "source": [
    "data['YoutubeLikes'].describe()"
   ]
  },
  {
   "cell_type": "code",
   "execution_count": 154,
   "id": "63707e0b",
   "metadata": {},
   "outputs": [
    {
     "data": {
      "text/plain": [
       "array([ 26622,   1129,    586,     86,   4512,   1806,   8315,   4326,\n",
       "         2436,      1,   3308,    897,  13558,    192,  20472,      8,\n",
       "        12617,   1608,  13013,   2963,   1542,  13219,   8383,  23590,\n",
       "         6928,   6248,  37585,  10609,  15708,   1377,   5797,   1879,\n",
       "         8189,   5686,   9100,   1753,  14182,  14535,   1911,   1037,\n",
       "         2783,  12548, 101275,   1385,   4358,   1226,   3024,    347,\n",
       "         2018,   2307,    997,  12657,     61,    991,  14408,   2897,\n",
       "        26560,   1442,   3927,   7519,   3296,    328,   4944,   3004,\n",
       "         1081,    822,    784,   5339,   2766,   6807,  10126,   8197,\n",
       "         3013,   9021,   3394,   2110,  20011,   8395,    463,   6907,\n",
       "        13826,   4853,   5457,    758,   1082,    222,   6750,  43767,\n",
       "        12413,  19240,  61805,    913,   5844,   5108,  10253,   4416,\n",
       "         1116,   3512,   1674,   4622,   2807,    532,    842,   4111,\n",
       "         4764,   1804,    255,     76,   6390,    513,    139,    288,\n",
       "        10759,   7954,   9200,   2974,   2736,  72070,   3656,     89,\n",
       "         1606,   8559,   8084,     33,      9,  22977,   3155,    574,\n",
       "         5634,   3015,   1640,  10672,   4054,  11241,  18907,  29246,\n",
       "         8619,   4599,   5599,  18974,  10602,   8185,  15464,   4289,\n",
       "         3706,  13466], dtype=int64)"
      ]
     },
     "execution_count": 154,
     "metadata": {},
     "output_type": "execute_result"
    }
   ],
   "source": [
    "data['YoutubeLikes'].unique()"
   ]
  },
  {
   "cell_type": "code",
   "execution_count": 155,
   "id": "236fb933",
   "metadata": {},
   "outputs": [
    {
     "data": {
      "text/plain": [
       "1        4\n",
       "532      1\n",
       "10253    1\n",
       "4416     1\n",
       "1116     1\n",
       "        ..\n",
       "997      1\n",
       "12657    1\n",
       "61       1\n",
       "991      1\n",
       "13466    1\n",
       "Name: YoutubeLikes, Length: 146, dtype: int64"
      ]
     },
     "execution_count": 155,
     "metadata": {},
     "output_type": "execute_result"
    }
   ],
   "source": [
    "data['YoutubeLikes'].value_counts()"
   ]
  },
  {
   "cell_type": "code",
   "execution_count": 156,
   "id": "bb52bc54",
   "metadata": {},
   "outputs": [
    {
     "name": "stderr",
     "output_type": "stream",
     "text": [
      "C:\\ProgramData\\Anaconda3\\lib\\site-packages\\seaborn\\_decorators.py:36: FutureWarning: Pass the following variable as a keyword arg: x. From version 0.12, the only valid positional argument will be `data`, and passing other arguments without an explicit keyword will result in an error or misinterpretation.\n",
      "  warnings.warn(\n"
     ]
    },
    {
     "data": {
      "text/plain": [
       "<AxesSubplot:xlabel='YoutubeLikes', ylabel='count'>"
      ]
     },
     "execution_count": 156,
     "metadata": {},
     "output_type": "execute_result"
    },
    {
     "data": {
      "image/png": "[encoded data removed]",
      "text/plain": [
       "<Figure size 640x480 with 1 Axes>"
      ]
     },
     "metadata": {},
     "output_type": "display_data"
    }
   ],
   "source": [
    "sb.countplot(data['YoutubeLikes'])"
   ]
  },
  {
   "cell_type": "code",
   "execution_count": 157,
   "id": "202ba203",
   "metadata": {},
   "outputs": [
    {
     "name": "stderr",
     "output_type": "stream",
     "text": [
      "C:\\ProgramData\\Anaconda3\\lib\\site-packages\\seaborn\\_decorators.py:36: FutureWarning: Pass the following variables as keyword args: x, y. From version 0.12, the only valid positional argument will be `data`, and passing other arguments without an explicit keyword will result in an error or misinterpretation.\n",
      "  warnings.warn(\n"
     ]
    },
    {
     "data": {
      "text/plain": [
       "<AxesSubplot:xlabel='YoutubeLikes', ylabel='BoxOfficeCollection'>"
      ]
     },
     "execution_count": 157,
     "metadata": {},
     "output_type": "execute_result"
    },
    {
     "data": {
      "image/png": "[encoded data removed]",
      "text/plain": [
       "<Figure size 640x480 with 1 Axes>"
      ]
     },
     "metadata": {},
     "output_type": "display_data"
    }
   ],
   "source": [
    "sb.barplot(data['YoutubeLikes'],y)"
   ]
  },
  {
   "cell_type": "code",
   "execution_count": 158,
   "id": "d46c581d",
   "metadata": {},
   "outputs": [
    {
     "name": "stderr",
     "output_type": "stream",
     "text": [
      "C:\\ProgramData\\Anaconda3\\lib\\site-packages\\seaborn\\distributions.py:2619: FutureWarning: `distplot` is a deprecated function and will be removed in a future version. Please adapt your code to use either `displot` (a figure-level function with similar flexibility) or `histplot` (an axes-level function for histograms).\n",
      "  warnings.warn(msg, FutureWarning)\n"
     ]
    },
    {
     "data": {
      "text/plain": [
       "<AxesSubplot:xlabel='YoutubeLikes', ylabel='Density'>"
      ]
     },
     "execution_count": 158,
     "metadata": {},
     "output_type": "execute_result"
    },
    {
     "data": {
      "image/png": "[encoded data removed]",
      "text/plain": [
       "<Figure size 640x480 with 1 Axes>"
      ]
     },
     "metadata": {},
     "output_type": "display_data"
    }
   ],
   "source": [
    "sb.distplot(data['YoutubeLikes'])"
   ]
  },
  {
   "cell_type": "code",
   "execution_count": 159,
   "id": "5029b3b4",
   "metadata": {},
   "outputs": [
    {
     "data": {
      "text/plain": [
       "<AxesSubplot:xlabel='YoutubeLikes', ylabel='Count'>"
      ]
     },
     "execution_count": 159,
     "metadata": {},
     "output_type": "execute_result"
    },
    {
     "data": {
      "image/png": "[encoded data removed]",
      "text/plain": [
       "<Figure size 640x480 with 1 Axes>"
      ]
     },
     "metadata": {},
     "output_type": "display_data"
    }
   ],
   "source": [
    "sb.histplot(data['YoutubeLikes'])"
   ]
  },
  {
   "cell_type": "code",
   "execution_count": 160,
   "id": "aefa783d",
   "metadata": {},
   "outputs": [
    {
     "name": "stderr",
     "output_type": "stream",
     "text": [
      "C:\\ProgramData\\Anaconda3\\lib\\site-packages\\seaborn\\_decorators.py:36: FutureWarning: Pass the following variable as a keyword arg: x. From version 0.12, the only valid positional argument will be `data`, and passing other arguments without an explicit keyword will result in an error or misinterpretation.\n",
      "  warnings.warn(\n"
     ]
    },
    {
     "data": {
      "text/plain": [
       "<AxesSubplot:xlabel='YoutubeLikes'>"
      ]
     },
     "execution_count": 160,
     "metadata": {},
     "output_type": "execute_result"
    },
    {
     "data": {
      "image/png": "[encoded data removed]",
      "text/plain": [
       "<Figure size 640x480 with 1 Axes>"
      ]
     },
     "metadata": {},
     "output_type": "display_data"
    }
   ],
   "source": [
    "sb.boxplot(data['YoutubeLikes'])"
   ]
  },
  {
   "cell_type": "code",
   "execution_count": 161,
   "id": "1ddf35f9",
   "metadata": {},
   "outputs": [
    {
     "data": {
      "text/plain": [
       "<matplotlib.collections.PathCollection at 0x1e15aa8cc10>"
      ]
     },
     "execution_count": 161,
     "metadata": {},
     "output_type": "execute_result"
    },
    {
     "data": {
      "image/png": "[encoded data removed]",
      "text/plain": [
       "<Figure size 640x480 with 1 Axes>"
      ]
     },
     "metadata": {},
     "output_type": "display_data"
    }
   ],
   "source": [
    "plt.scatter(data['YoutubeLikes'] , y)"
   ]
  },
  {
   "cell_type": "markdown",
   "id": "dd34826c",
   "metadata": {},
   "source": [
    "# Analysing feature \"YouTubeViews\""
   ]
  },
  {
   "cell_type": "code",
   "execution_count": 162,
   "id": "91167b5e",
   "metadata": {},
   "outputs": [
    {
     "data": {
      "text/plain": [
       "count    1.490000e+02\n",
       "mean     3.337920e+06\n",
       "std      3.504407e+06\n",
       "min      4.354000e+03\n",
       "25%      1.076591e+06\n",
       "50%      2.375050e+06\n",
       "75%      4.550051e+06\n",
       "max      2.317107e+07\n",
       "Name: YoutubeViews, dtype: float64"
      ]
     },
     "execution_count": 162,
     "metadata": {},
     "output_type": "execute_result"
    }
   ],
   "source": [
    "data['YoutubeViews'].describe()"
   ]
  },
  {
   "cell_type": "code",
   "execution_count": 163,
   "id": "2026b1da",
   "metadata": {},
   "outputs": [
    {
     "name": "stdout",
     "output_type": "stream",
     "text": [
      "<class 'pandas.core.series.Series'>\n",
      "RangeIndex: 149 entries, 0 to 148\n",
      "Series name: YoutubeViews\n",
      "Non-Null Count  Dtype\n",
      "--------------  -----\n",
      "149 non-null    int64\n",
      "dtypes: int64(1)\n",
      "memory usage: 1.3 KB\n"
     ]
    }
   ],
   "source": [
    "data['YoutubeViews'].info()"
   ]
  },
  {
   "cell_type": "code",
   "execution_count": 164,
   "id": "209a11f1",
   "metadata": {},
   "outputs": [
    {
     "data": {
      "text/plain": [
       "0"
      ]
     },
     "execution_count": 164,
     "metadata": {},
     "output_type": "execute_result"
    }
   ],
   "source": [
    "data['YoutubeViews'].isna().sum()"
   ]
  },
  {
   "cell_type": "code",
   "execution_count": 165,
   "id": "de21de05",
   "metadata": {},
   "outputs": [
    {
     "data": {
      "text/plain": [
       "array([ 8576361,  1087320,   572336,    42626,  3113427,  1076591,\n",
       "        3905050,  2435283,  2333067,     4354,  2397647,  1077723,\n",
       "        4518748,   235767,  6336058,    28391,  7641333,   989096,\n",
       "        6144142,  2343109,   839270,  4687259,  3503887,  7048104,\n",
       "        5192338,  1829417,  6395202,  4042091, 13798789,   764725,\n",
       "        4823892,  2249055,  4005695,  1888754,  3043012,  1551786,\n",
       "        6841635,  6604595,  1041892,  6280868,  1176596,   868743,\n",
       "        5454349, 18986221,  1200152,  2375050,   569711,  1741424,\n",
       "         591838,   492344,  3998331,   841891,  4903941,    79430,\n",
       "        2501277,   370106,  4376650,   166066,  6086811,  1208841,\n",
       "        3557585,  3162465,  1837437,   808439,  2926673,  1511318,\n",
       "        1016858,  1537063,   769365,  2981381,  1528538,  5416213,\n",
       "        4321162,  4050407,  1744602,  4590539,  1901503,  1001670,\n",
       "        8287587,  3395361,   630506,  2763615,  5123217,  3331082,\n",
       "        2775792,  1257416,   603710,   227912,  6698987, 13270623,\n",
       "        5470632, 13279636, 15889811,  1131573,  2876498,  2248046,\n",
       "        5319606,  2581449,   838943,  3707889,  1754266,  2635390,\n",
       "        2360968,   371133,  2240961,  3788488,  2850376,  1939868,\n",
       "        1679872,    68511,  2543707,   462722,   268289,   613448,\n",
       "        3049275,  1882346,  3077135,  1709945,  1422568, 23171067,\n",
       "        1719399,   110315,  1718619,  3799253,  4015674,    40450,\n",
       "          23186,  6464704,  1148516,   335807,  2539431,     5142,\n",
       "        1795640,   577569,  5176897,  1064854,  6132407,  8788913,\n",
       "        7968156,  2368404,  3094001,  2105508,  7687797,  4550051,\n",
       "        3250917,  5592977,  2316047,  4674795,  4740727], dtype=int64)"
      ]
     },
     "execution_count": 165,
     "metadata": {},
     "output_type": "execute_result"
    }
   ],
   "source": [
    "data['YoutubeViews'].unique()"
   ]
  },
  {
   "cell_type": "code",
   "execution_count": 166,
   "id": "fc4a3682",
   "metadata": {},
   "outputs": [
    {
     "name": "stderr",
     "output_type": "stream",
     "text": [
      "C:\\ProgramData\\Anaconda3\\lib\\site-packages\\seaborn\\_decorators.py:36: FutureWarning: Pass the following variable as a keyword arg: x. From version 0.12, the only valid positional argument will be `data`, and passing other arguments without an explicit keyword will result in an error or misinterpretation.\n",
      "  warnings.warn(\n"
     ]
    },
    {
     "data": {
      "text/plain": [
       "<AxesSubplot:xlabel='YoutubeViews', ylabel='count'>"
      ]
     },
     "execution_count": 166,
     "metadata": {},
     "output_type": "execute_result"
    },
    {
     "data": {
      "image/png": "[encoded data removed]",
      "text/plain": [
       "<Figure size 640x480 with 1 Axes>"
      ]
     },
     "metadata": {},
     "output_type": "display_data"
    }
   ],
   "source": [
    "sb.countplot(data['YoutubeViews'])"
   ]
  },
  {
   "cell_type": "code",
   "execution_count": 167,
   "id": "2755c267",
   "metadata": {},
   "outputs": [
    {
     "name": "stderr",
     "output_type": "stream",
     "text": [
      "C:\\ProgramData\\Anaconda3\\lib\\site-packages\\seaborn\\_decorators.py:36: FutureWarning: Pass the following variables as keyword args: x, y. From version 0.12, the only valid positional argument will be `data`, and passing other arguments without an explicit keyword will result in an error or misinterpretation.\n",
      "  warnings.warn(\n"
     ]
    },
    {
     "data": {
      "text/plain": [
       "<AxesSubplot:xlabel='YoutubeViews', ylabel='BoxOfficeCollection'>"
      ]
     },
     "execution_count": 167,
     "metadata": {},
     "output_type": "execute_result"
    },
    {
     "data": {
      "image/png": "[encoded data removed]",
      "text/plain": [
       "<Figure size 640x480 with 1 Axes>"
      ]
     },
     "metadata": {},
     "output_type": "display_data"
    }
   ],
   "source": [
    "sb.barplot(data['YoutubeViews'],y)"
   ]
  },
  {
   "cell_type": "code",
   "execution_count": 168,
   "id": "809ed21b",
   "metadata": {},
   "outputs": [
    {
     "name": "stderr",
     "output_type": "stream",
     "text": [
      "C:\\ProgramData\\Anaconda3\\lib\\site-packages\\seaborn\\_decorators.py:36: FutureWarning: Pass the following variable as a keyword arg: x. From version 0.12, the only valid positional argument will be `data`, and passing other arguments without an explicit keyword will result in an error or misinterpretation.\n",
      "  warnings.warn(\n"
     ]
    },
    {
     "data": {
      "text/plain": [
       "<AxesSubplot:xlabel='YoutubeViews'>"
      ]
     },
     "execution_count": 168,
     "metadata": {},
     "output_type": "execute_result"
    },
    {
     "data": {
      "image/png": "[encoded data removed]",
      "text/plain": [
       "<Figure size 640x480 with 1 Axes>"
      ]
     },
     "metadata": {},
     "output_type": "display_data"
    }
   ],
   "source": [
    "sb.boxplot(data['YoutubeViews'])"
   ]
  },
  {
   "cell_type": "code",
   "execution_count": 169,
   "id": "3f92d975",
   "metadata": {},
   "outputs": [
    {
     "name": "stderr",
     "output_type": "stream",
     "text": [
      "C:\\ProgramData\\Anaconda3\\lib\\site-packages\\seaborn\\distributions.py:2619: FutureWarning: `distplot` is a deprecated function and will be removed in a future version. Please adapt your code to use either `displot` (a figure-level function with similar flexibility) or `histplot` (an axes-level function for histograms).\n",
      "  warnings.warn(msg, FutureWarning)\n"
     ]
    },
    {
     "data": {
      "text/plain": [
       "<AxesSubplot:xlabel='YoutubeViews', ylabel='Density'>"
      ]
     },
     "execution_count": 169,
     "metadata": {},
     "output_type": "execute_result"
    },
    {
     "data": {
      "image/png": "[encoded data removed]",
      "text/plain": [
       "<Figure size 640x480 with 1 Axes>"
      ]
     },
     "metadata": {},
     "output_type": "display_data"
    }
   ],
   "source": [
    "sb.distplot(data['YoutubeViews'])"
   ]
  },
  {
   "cell_type": "code",
   "execution_count": 170,
   "id": "fa6e963a",
   "metadata": {},
   "outputs": [
    {
     "data": {
      "text/plain": [
       "<AxesSubplot:xlabel='YoutubeViews', ylabel='Count'>"
      ]
     },
     "execution_count": 170,
     "metadata": {},
     "output_type": "execute_result"
    },
    {
     "data": {
      "image/png": "[encoded data removed]",
      "text/plain": [
       "<Figure size 640x480 with 1 Axes>"
      ]
     },
     "metadata": {},
     "output_type": "display_data"
    }
   ],
   "source": [
    "sb.histplot(data['YoutubeViews'])"
   ]
  },
  {
   "cell_type": "code",
   "execution_count": 171,
   "id": "d17bb31c",
   "metadata": {},
   "outputs": [
    {
     "data": {
      "image/png": "[encoded data removed]",
      "text/plain": [
       "<Figure size 640x480 with 1 Axes>"
      ]
     },
     "metadata": {},
     "output_type": "display_data"
    }
   ],
   "source": [
    "plt.scatter(data['YoutubeViews'],y);"
   ]
  },
  {
   "cell_type": "markdown",
   "id": "2ce4f3b3",
   "metadata": {},
   "source": [
    "# Analysing Feature \"YouTube Dislike\""
   ]
  },
  {
   "cell_type": "code",
   "execution_count": 172,
   "id": "f59cbbc1",
   "metadata": {},
   "outputs": [
    {
     "name": "stdout",
     "output_type": "stream",
     "text": [
      "<class 'pandas.core.series.Series'>\n",
      "RangeIndex: 149 entries, 0 to 148\n",
      "Series name: YoutubeDislikes\n",
      "Non-Null Count  Dtype\n",
      "--------------  -----\n",
      "149 non-null    int64\n",
      "dtypes: int64(1)\n",
      "memory usage: 1.3 KB\n"
     ]
    }
   ],
   "source": [
    "data['YoutubeDislikes'].info()"
   ]
  },
  {
   "cell_type": "code",
   "execution_count": 173,
   "id": "2c030532",
   "metadata": {},
   "outputs": [
    {
     "data": {
      "text/plain": [
       "count      149.000000\n",
       "mean      1207.818792\n",
       "std       1852.692938\n",
       "min          1.000000\n",
       "25%        189.000000\n",
       "50%        614.000000\n",
       "75%       1419.000000\n",
       "max      11888.000000\n",
       "Name: YoutubeDislikes, dtype: float64"
      ]
     },
     "execution_count": 173,
     "metadata": {},
     "output_type": "execute_result"
    }
   ],
   "source": [
    "data['YoutubeDislikes'].describe()"
   ]
  },
  {
   "cell_type": "code",
   "execution_count": 174,
   "id": "9416c614",
   "metadata": {},
   "outputs": [
    {
     "data": {
      "text/plain": [
       "array([ 2527,   137,    54,    19,  1224,    84,  1373,   647,   591,\n",
       "           1,   465,   114,  1094,   164,  2843,    14,  2138,   173,\n",
       "        2746,   556,    95,  1605,  1419,  2443,  1120,   568, 10269,\n",
       "         788,  5226,    94,   227,   747,  1814,   512,   971,   619,\n",
       "        1997,  2208,   344,   189,   404,  2038, 10066,   345,   555,\n",
       "         133,   181,    31,    64,   497,   306,  2139,   112,    35,\n",
       "        1035,   283,  1647,   342,  1364,   562,   613,   628,   278,\n",
       "         212,   229,   126,   443,   328,  2717,   964,  1155,   392,\n",
       "        1465,   754,   268,  2899,  1204,    83,   489,  1640,   767,\n",
       "         681,   923,   177,    39,  2234,  5693,  1018,  3859,  6283,\n",
       "         255,  1537,   614,  8165,   819,   153,  1292,   420,   456,\n",
       "         595,   180,   348,   687,  1068,   224,    51,    16,   975,\n",
       "          77,    40,   188,   657,  1593,  2821,   594,   394, 11888,\n",
       "         548,    26,  1083,  1871,  2129,     7,     4,  3396,   396,\n",
       "         129,   922,   721,   156,  1392,   285,  1729,  2940,  2426,\n",
       "         539,   997,   677,  3229,   893,   615,  1513,   807,   762,\n",
       "        2649], dtype=int64)"
      ]
     },
     "execution_count": 174,
     "metadata": {},
     "output_type": "execute_result"
    }
   ],
   "source": [
    "data['YoutubeDislikes'].unique()"
   ]
  },
  {
   "cell_type": "code",
   "execution_count": 175,
   "id": "b6601a45",
   "metadata": {},
   "outputs": [
    {
     "data": {
      "text/plain": [
       "(149,)"
      ]
     },
     "execution_count": 175,
     "metadata": {},
     "output_type": "execute_result"
    }
   ],
   "source": [
    "data['YoutubeDislikes'].shape"
   ]
  },
  {
   "cell_type": "code",
   "execution_count": 176,
   "id": "aeeff66a",
   "metadata": {},
   "outputs": [
    {
     "data": {
      "text/plain": [
       "1       4\n",
       "95      2\n",
       "975     1\n",
       "595     1\n",
       "8165    1\n",
       "       ..\n",
       "306     1\n",
       "2139    1\n",
       "112     1\n",
       "35      1\n",
       "2649    1\n",
       "Name: YoutubeDislikes, Length: 145, dtype: int64"
      ]
     },
     "execution_count": 176,
     "metadata": {},
     "output_type": "execute_result"
    }
   ],
   "source": [
    "data['YoutubeDislikes'].value_counts()"
   ]
  },
  {
   "cell_type": "code",
   "execution_count": 177,
   "id": "c31386c7",
   "metadata": {},
   "outputs": [
    {
     "name": "stderr",
     "output_type": "stream",
     "text": [
      "C:\\ProgramData\\Anaconda3\\lib\\site-packages\\seaborn\\_decorators.py:36: FutureWarning: Pass the following variable as a keyword arg: x. From version 0.12, the only valid positional argument will be `data`, and passing other arguments without an explicit keyword will result in an error or misinterpretation.\n",
      "  warnings.warn(\n"
     ]
    },
    {
     "data": {
      "text/plain": [
       "<AxesSubplot:xlabel='YoutubeDislikes', ylabel='count'>"
      ]
     },
     "execution_count": 177,
     "metadata": {},
     "output_type": "execute_result"
    },
    {
     "data": {
      "image/png": "[encoded data removed]",
      "text/plain": [
       "<Figure size 640x480 with 1 Axes>"
      ]
     },
     "metadata": {},
     "output_type": "display_data"
    }
   ],
   "source": [
    "sb.countplot(data['YoutubeDislikes'])"
   ]
  },
  {
   "cell_type": "code",
   "execution_count": 178,
   "id": "b03817bd",
   "metadata": {},
   "outputs": [
    {
     "name": "stderr",
     "output_type": "stream",
     "text": [
      "C:\\ProgramData\\Anaconda3\\lib\\site-packages\\seaborn\\_decorators.py:36: FutureWarning: Pass the following variables as keyword args: x, y. From version 0.12, the only valid positional argument will be `data`, and passing other arguments without an explicit keyword will result in an error or misinterpretation.\n",
      "  warnings.warn(\n"
     ]
    },
    {
     "data": {
      "text/plain": [
       "<AxesSubplot:xlabel='YoutubeDislikes', ylabel='BoxOfficeCollection'>"
      ]
     },
     "execution_count": 178,
     "metadata": {},
     "output_type": "execute_result"
    },
    {
     "data": {
      "image/png": "[encoded data removed]",
      "text/plain": [
       "<Figure size 640x480 with 1 Axes>"
      ]
     },
     "metadata": {},
     "output_type": "display_data"
    }
   ],
   "source": [
    "sb.barplot(data['YoutubeDislikes'],y)"
   ]
  },
  {
   "cell_type": "code",
   "execution_count": 179,
   "id": "2a4b9f85",
   "metadata": {},
   "outputs": [
    {
     "name": "stderr",
     "output_type": "stream",
     "text": [
      "C:\\ProgramData\\Anaconda3\\lib\\site-packages\\seaborn\\_decorators.py:36: FutureWarning: Pass the following variable as a keyword arg: x. From version 0.12, the only valid positional argument will be `data`, and passing other arguments without an explicit keyword will result in an error or misinterpretation.\n",
      "  warnings.warn(\n"
     ]
    },
    {
     "data": {
      "text/plain": [
       "<AxesSubplot:xlabel='YoutubeDislikes'>"
      ]
     },
     "execution_count": 179,
     "metadata": {},
     "output_type": "execute_result"
    },
    {
     "data": {
      "image/png": "[encoded data removed]",
      "text/plain": [
       "<Figure size 640x480 with 1 Axes>"
      ]
     },
     "metadata": {},
     "output_type": "display_data"
    }
   ],
   "source": [
    "sb.boxplot(data['YoutubeDislikes'])"
   ]
  },
  {
   "cell_type": "code",
   "execution_count": 180,
   "id": "9d794fb1",
   "metadata": {},
   "outputs": [
    {
     "name": "stderr",
     "output_type": "stream",
     "text": [
      "C:\\ProgramData\\Anaconda3\\lib\\site-packages\\seaborn\\distributions.py:2619: FutureWarning: `distplot` is a deprecated function and will be removed in a future version. Please adapt your code to use either `displot` (a figure-level function with similar flexibility) or `histplot` (an axes-level function for histograms).\n",
      "  warnings.warn(msg, FutureWarning)\n"
     ]
    },
    {
     "data": {
      "text/plain": [
       "<AxesSubplot:xlabel='YoutubeDislikes', ylabel='Density'>"
      ]
     },
     "execution_count": 180,
     "metadata": {},
     "output_type": "execute_result"
    },
    {
     "data": {
      "image/png": "[encoded data removed]",
      "text/plain": [
       "<Figure size 640x480 with 1 Axes>"
      ]
     },
     "metadata": {},
     "output_type": "display_data"
    }
   ],
   "source": [
    "sb.distplot(data['YoutubeDislikes'])"
   ]
  },
  {
   "cell_type": "code",
   "execution_count": 181,
   "id": "be860623",
   "metadata": {},
   "outputs": [
    {
     "data": {
      "text/plain": [
       "<AxesSubplot:xlabel='YoutubeDislikes', ylabel='Count'>"
      ]
     },
     "execution_count": 181,
     "metadata": {},
     "output_type": "execute_result"
    },
    {
     "data": {
      "image/png": "[encoded data removed]",
      "text/plain": [
       "<Figure size 640x480 with 1 Axes>"
      ]
     },
     "metadata": {},
     "output_type": "display_data"
    }
   ],
   "source": [
    "sb.histplot(data['YoutubeDislikes'])"
   ]
  },
  {
   "cell_type": "markdown",
   "id": "f185e200",
   "metadata": {},
   "source": [
    "# Analysing the feature \"Genre\""
   ]
  },
  {
   "cell_type": "code",
   "execution_count": 183,
   "id": "a0dabe41",
   "metadata": {},
   "outputs": [
    {
     "data": {
      "text/plain": [
       "array(['Romance', 'Thriller', 'Comedy', 'Drama', 'Action'], dtype=object)"
      ]
     },
     "execution_count": 183,
     "metadata": {},
     "output_type": "execute_result"
    }
   ],
   "source": [
    "data['Genre'].unique()"
   ]
  },
  {
   "cell_type": "code",
   "execution_count": 184,
   "id": "f928c78e",
   "metadata": {},
   "outputs": [
    {
     "data": {
      "text/plain": [
       "Comedy      36\n",
       "Drama       35\n",
       "Thriller    29\n",
       "Romance     25\n",
       "Action      24\n",
       "Name: Genre, dtype: int64"
      ]
     },
     "execution_count": 184,
     "metadata": {},
     "output_type": "execute_result"
    }
   ],
   "source": [
    "data['Genre'].value_counts()"
   ]
  },
  {
   "cell_type": "code",
   "execution_count": 185,
   "id": "310f49d3",
   "metadata": {},
   "outputs": [
    {
     "name": "stdout",
     "output_type": "stream",
     "text": [
      "<class 'pandas.core.series.Series'>\n",
      "RangeIndex: 149 entries, 0 to 148\n",
      "Series name: Genre\n",
      "Non-Null Count  Dtype \n",
      "--------------  ----- \n",
      "149 non-null    object\n",
      "dtypes: object(1)\n",
      "memory usage: 1.3+ KB\n"
     ]
    }
   ],
   "source": [
    "data['Genre'].info()"
   ]
  },
  {
   "cell_type": "code",
   "execution_count": 186,
   "id": "bc44bc03",
   "metadata": {},
   "outputs": [
    {
     "data": {
      "text/plain": [
       "0"
      ]
     },
     "execution_count": 186,
     "metadata": {},
     "output_type": "execute_result"
    }
   ],
   "source": [
    "data['Genre'].isna().sum()"
   ]
  },
  {
   "cell_type": "code",
   "execution_count": 188,
   "id": "421c61d7",
   "metadata": {},
   "outputs": [
    {
     "data": {
      "text/plain": [
       "count        149\n",
       "unique         5\n",
       "top       Comedy\n",
       "freq          36\n",
       "Name: Genre, dtype: object"
      ]
     },
     "execution_count": 188,
     "metadata": {},
     "output_type": "execute_result"
    }
   ],
   "source": [
    "data['Genre'].describe()"
   ]
  },
  {
   "cell_type": "code",
   "execution_count": 189,
   "id": "ba601bc4",
   "metadata": {},
   "outputs": [
    {
     "name": "stderr",
     "output_type": "stream",
     "text": [
      "C:\\ProgramData\\Anaconda3\\lib\\site-packages\\seaborn\\_decorators.py:36: FutureWarning: Pass the following variable as a keyword arg: x. From version 0.12, the only valid positional argument will be `data`, and passing other arguments without an explicit keyword will result in an error or misinterpretation.\n",
      "  warnings.warn(\n"
     ]
    },
    {
     "data": {
      "text/plain": [
       "<AxesSubplot:xlabel='Genre', ylabel='count'>"
      ]
     },
     "execution_count": 189,
     "metadata": {},
     "output_type": "execute_result"
    },
    {
     "data": {
      "image/png": "[encoded data removed]",
      "text/plain": [
       "<Figure size 640x480 with 1 Axes>"
      ]
     },
     "metadata": {},
     "output_type": "display_data"
    }
   ],
   "source": [
    "sb.countplot(data['Genre'])"
   ]
  },
  {
   "cell_type": "code",
   "execution_count": 190,
   "id": "a88aaca1",
   "metadata": {},
   "outputs": [
    {
     "name": "stderr",
     "output_type": "stream",
     "text": [
      "C:\\ProgramData\\Anaconda3\\lib\\site-packages\\seaborn\\_decorators.py:36: FutureWarning: Pass the following variables as keyword args: x, y. From version 0.12, the only valid positional argument will be `data`, and passing other arguments without an explicit keyword will result in an error or misinterpretation.\n",
      "  warnings.warn(\n"
     ]
    },
    {
     "data": {
      "text/plain": [
       "<AxesSubplot:xlabel='Genre', ylabel='BoxOfficeCollection'>"
      ]
     },
     "execution_count": 190,
     "metadata": {},
     "output_type": "execute_result"
    },
    {
     "data": {
      "image/png": "[encoded data removed]",
      "text/plain": [
       "<Figure size 640x480 with 1 Axes>"
      ]
     },
     "metadata": {},
     "output_type": "display_data"
    }
   ],
   "source": [
    "sb.barplot(data['Genre'],y)"
   ]
  },
  {
   "cell_type": "code",
   "execution_count": 200,
   "id": "2ccdc0d7",
   "metadata": {},
   "outputs": [
    {
     "data": {
      "text/plain": [
       "<AxesSubplot:xlabel='Genre', ylabel='Count'>"
      ]
     },
     "execution_count": 200,
     "metadata": {},
     "output_type": "execute_result"
    },
    {
     "data": {
      "image/png": "[encoded data removed]",
      "text/plain": [
       "<Figure size 640x480 with 1 Axes>"
      ]
     },
     "metadata": {},
     "output_type": "display_data"
    }
   ],
   "source": [
    "sb.histplot(data['Genre'])"
   ]
  },
  {
   "cell_type": "code",
   "execution_count": 205,
   "id": "dc186321",
   "metadata": {},
   "outputs": [],
   "source": [
    "one_hot_genre = pd.get_dummies(data['Genre'])"
   ]
  },
  {
   "cell_type": "code",
   "execution_count": 207,
   "id": "73869cfa",
   "metadata": {},
   "outputs": [
    {
     "data": {
      "text/html": [
       "<div>\n",
       "<style scoped>\n",
       "    .dataframe tbody tr th:only-of-type {\n",
       "        vertical-align: middle;\n",
       "    }\n",
       "\n",
       "    .dataframe tbody tr th {\n",
       "        vertical-align: top;\n",
       "    }\n",
       "\n",
       "    .dataframe thead th {\n",
       "        text-align: right;\n",
       "    }\n",
       "</style>\n",
       "<table border=\"1\" class=\"dataframe\">\n",
       "  <thead>\n",
       "    <tr style=\"text-align: right;\">\n",
       "      <th></th>\n",
       "      <th>Action</th>\n",
       "      <th>Comedy</th>\n",
       "      <th>Drama</th>\n",
       "      <th>Romance</th>\n",
       "      <th>Thriller</th>\n",
       "    </tr>\n",
       "  </thead>\n",
       "  <tbody>\n",
       "    <tr>\n",
       "      <th>0</th>\n",
       "      <td>0</td>\n",
       "      <td>0</td>\n",
       "      <td>0</td>\n",
       "      <td>1</td>\n",
       "      <td>0</td>\n",
       "    </tr>\n",
       "    <tr>\n",
       "      <th>1</th>\n",
       "      <td>0</td>\n",
       "      <td>0</td>\n",
       "      <td>0</td>\n",
       "      <td>0</td>\n",
       "      <td>1</td>\n",
       "    </tr>\n",
       "    <tr>\n",
       "      <th>2</th>\n",
       "      <td>0</td>\n",
       "      <td>1</td>\n",
       "      <td>0</td>\n",
       "      <td>0</td>\n",
       "      <td>0</td>\n",
       "    </tr>\n",
       "    <tr>\n",
       "      <th>3</th>\n",
       "      <td>0</td>\n",
       "      <td>0</td>\n",
       "      <td>1</td>\n",
       "      <td>0</td>\n",
       "      <td>0</td>\n",
       "    </tr>\n",
       "    <tr>\n",
       "      <th>4</th>\n",
       "      <td>0</td>\n",
       "      <td>1</td>\n",
       "      <td>0</td>\n",
       "      <td>0</td>\n",
       "      <td>0</td>\n",
       "    </tr>\n",
       "  </tbody>\n",
       "</table>\n",
       "</div>"
      ],
      "text/plain": [
       "   Action  Comedy  Drama  Romance  Thriller\n",
       "0       0       0      0        1         0\n",
       "1       0       0      0        0         1\n",
       "2       0       1      0        0         0\n",
       "3       0       0      1        0         0\n",
       "4       0       1      0        0         0"
      ]
     },
     "execution_count": 207,
     "metadata": {},
     "output_type": "execute_result"
    }
   ],
   "source": [
    "one_hot_genre.head()"
   ]
  },
  {
   "cell_type": "code",
   "execution_count": 208,
   "id": "a0963529",
   "metadata": {},
   "outputs": [],
   "source": [
    "data = data.join(one_hot_genre).drop(['Genre'] , axis=1)"
   ]
  },
  {
   "cell_type": "code",
   "execution_count": 210,
   "id": "91c370f9",
   "metadata": {},
   "outputs": [
    {
     "data": {
      "text/html": [
       "<div>\n",
       "<style scoped>\n",
       "    .dataframe tbody tr th:only-of-type {\n",
       "        vertical-align: middle;\n",
       "    }\n",
       "\n",
       "    .dataframe tbody tr th {\n",
       "        vertical-align: top;\n",
       "    }\n",
       "\n",
       "    .dataframe thead th {\n",
       "        text-align: right;\n",
       "    }\n",
       "</style>\n",
       "<table border=\"1\" class=\"dataframe\">\n",
       "  <thead>\n",
       "    <tr style=\"text-align: right;\">\n",
       "      <th></th>\n",
       "      <th>SlNo</th>\n",
       "      <th>ReleaseDate</th>\n",
       "      <th>MovieName</th>\n",
       "      <th>ReleaseTime</th>\n",
       "      <th>Budget</th>\n",
       "      <th>BoxOfficeCollection</th>\n",
       "      <th>YoutubeViews</th>\n",
       "      <th>YoutubeLikes</th>\n",
       "      <th>YoutubeDislikes</th>\n",
       "      <th>Action</th>\n",
       "      <th>Comedy</th>\n",
       "      <th>Drama</th>\n",
       "      <th>Romance</th>\n",
       "      <th>Thriller</th>\n",
       "    </tr>\n",
       "  </thead>\n",
       "  <tbody>\n",
       "    <tr>\n",
       "      <th>0</th>\n",
       "      <td>1</td>\n",
       "      <td>18-Apr-14</td>\n",
       "      <td>2States</td>\n",
       "      <td>LW</td>\n",
       "      <td>36</td>\n",
       "      <td>104.00</td>\n",
       "      <td>8576361</td>\n",
       "      <td>26622</td>\n",
       "      <td>2527</td>\n",
       "      <td>0</td>\n",
       "      <td>0</td>\n",
       "      <td>0</td>\n",
       "      <td>1</td>\n",
       "      <td>0</td>\n",
       "    </tr>\n",
       "    <tr>\n",
       "      <th>1</th>\n",
       "      <td>2</td>\n",
       "      <td>4-Jan-13</td>\n",
       "      <td>TableNo.21</td>\n",
       "      <td>N</td>\n",
       "      <td>10</td>\n",
       "      <td>12.00</td>\n",
       "      <td>1087320</td>\n",
       "      <td>1129</td>\n",
       "      <td>137</td>\n",
       "      <td>0</td>\n",
       "      <td>0</td>\n",
       "      <td>0</td>\n",
       "      <td>0</td>\n",
       "      <td>1</td>\n",
       "    </tr>\n",
       "    <tr>\n",
       "      <th>2</th>\n",
       "      <td>3</td>\n",
       "      <td>18-Jul-14</td>\n",
       "      <td>AmitSahniKiList</td>\n",
       "      <td>N</td>\n",
       "      <td>10</td>\n",
       "      <td>4.00</td>\n",
       "      <td>572336</td>\n",
       "      <td>586</td>\n",
       "      <td>54</td>\n",
       "      <td>0</td>\n",
       "      <td>1</td>\n",
       "      <td>0</td>\n",
       "      <td>0</td>\n",
       "      <td>0</td>\n",
       "    </tr>\n",
       "    <tr>\n",
       "      <th>3</th>\n",
       "      <td>4</td>\n",
       "      <td>4-Jan-13</td>\n",
       "      <td>RajdhaniExpress</td>\n",
       "      <td>N</td>\n",
       "      <td>7</td>\n",
       "      <td>0.35</td>\n",
       "      <td>42626</td>\n",
       "      <td>86</td>\n",
       "      <td>19</td>\n",
       "      <td>0</td>\n",
       "      <td>0</td>\n",
       "      <td>1</td>\n",
       "      <td>0</td>\n",
       "      <td>0</td>\n",
       "    </tr>\n",
       "    <tr>\n",
       "      <th>4</th>\n",
       "      <td>5</td>\n",
       "      <td>4-Jul-14</td>\n",
       "      <td>BobbyJasoos</td>\n",
       "      <td>N</td>\n",
       "      <td>18</td>\n",
       "      <td>10.80</td>\n",
       "      <td>3113427</td>\n",
       "      <td>4512</td>\n",
       "      <td>1224</td>\n",
       "      <td>0</td>\n",
       "      <td>1</td>\n",
       "      <td>0</td>\n",
       "      <td>0</td>\n",
       "      <td>0</td>\n",
       "    </tr>\n",
       "  </tbody>\n",
       "</table>\n",
       "</div>"
      ],
      "text/plain": [
       "   SlNo ReleaseDate        MovieName ReleaseTime  Budget  BoxOfficeCollection  \\\n",
       "0     1   18-Apr-14          2States          LW      36               104.00   \n",
       "1     2    4-Jan-13       TableNo.21           N      10                12.00   \n",
       "2     3   18-Jul-14  AmitSahniKiList           N      10                 4.00   \n",
       "3     4    4-Jan-13  RajdhaniExpress           N       7                 0.35   \n",
       "4     5    4-Jul-14      BobbyJasoos           N      18                10.80   \n",
       "\n",
       "   YoutubeViews  YoutubeLikes  YoutubeDislikes  Action  Comedy  Drama  \\\n",
       "0       8576361         26622             2527       0       0      0   \n",
       "1       1087320          1129              137       0       0      0   \n",
       "2        572336           586               54       0       1      0   \n",
       "3         42626            86               19       0       0      1   \n",
       "4       3113427          4512             1224       0       1      0   \n",
       "\n",
       "   Romance  Thriller  \n",
       "0        1         0  \n",
       "1        0         1  \n",
       "2        0         0  \n",
       "3        0         0  \n",
       "4        0         0  "
      ]
     },
     "execution_count": 210,
     "metadata": {},
     "output_type": "execute_result"
    }
   ],
   "source": [
    "data.head()"
   ]
  },
  {
   "cell_type": "markdown",
   "id": "10f1d714",
   "metadata": {},
   "source": [
    "# Analysing the feature \"Budget\""
   ]
  },
  {
   "cell_type": "code",
   "execution_count": 211,
   "id": "6b12a99f",
   "metadata": {},
   "outputs": [
    {
     "name": "stdout",
     "output_type": "stream",
     "text": [
      "<class 'pandas.core.series.Series'>\n",
      "RangeIndex: 149 entries, 0 to 148\n",
      "Series name: Budget\n",
      "Non-Null Count  Dtype\n",
      "--------------  -----\n",
      "149 non-null    int64\n",
      "dtypes: int64(1)\n",
      "memory usage: 1.3 KB\n"
     ]
    }
   ],
   "source": [
    "data['Budget'].info()"
   ]
  },
  {
   "cell_type": "code",
   "execution_count": 212,
   "id": "9871c947",
   "metadata": {},
   "outputs": [
    {
     "data": {
      "text/plain": [
       "count    149.000000\n",
       "mean      29.442953\n",
       "std       28.237981\n",
       "min        2.000000\n",
       "25%       11.000000\n",
       "50%       21.000000\n",
       "75%       35.000000\n",
       "max      150.000000\n",
       "Name: Budget, dtype: float64"
      ]
     },
     "execution_count": 212,
     "metadata": {},
     "output_type": "execute_result"
    }
   ],
   "source": [
    "data['Budget'].describe()"
   ]
  },
  {
   "cell_type": "code",
   "execution_count": 213,
   "id": "6ca5fb22",
   "metadata": {},
   "outputs": [
    {
     "data": {
      "text/plain": [
       "array([ 36,  10,   7,  18,  30,  33,  31,   2,  28,   5,  35,   4,  60,\n",
       "        15,  27,  50,  24,  48,  42, 125,  12,  11,  21,  20,  75, 120,\n",
       "       100,   8,  16,  40,   3,   9,  22,  45,  25,   6,  90,  70,  19,\n",
       "        26,  85, 140,  29, 115,  14,  23,  13,  32, 150], dtype=int64)"
      ]
     },
     "execution_count": 213,
     "metadata": {},
     "output_type": "execute_result"
    }
   ],
   "source": [
    "data['Budget'].unique()"
   ]
  },
  {
   "cell_type": "code",
   "execution_count": 214,
   "id": "6ffb52a4",
   "metadata": {},
   "outputs": [
    {
     "data": {
      "text/plain": [
       "10     12\n",
       "15     10\n",
       "30      9\n",
       "12      9\n",
       "5       9\n",
       "35      8\n",
       "50      7\n",
       "40      5\n",
       "24      5\n",
       "18      4\n",
       "20      4\n",
       "4       4\n",
       "25      4\n",
       "16      3\n",
       "11      3\n",
       "75      3\n",
       "27      3\n",
       "60      3\n",
       "2       3\n",
       "7       3\n",
       "100     2\n",
       "22      2\n",
       "6       2\n",
       "90      2\n",
       "85      2\n",
       "8       2\n",
       "36      2\n",
       "31      2\n",
       "21      2\n",
       "120     1\n",
       "26      1\n",
       "32      1\n",
       "13      1\n",
       "23      1\n",
       "14      1\n",
       "115     1\n",
       "29      1\n",
       "140     1\n",
       "33      1\n",
       "19      1\n",
       "70      1\n",
       "28      1\n",
       "48      1\n",
       "45      1\n",
       "42      1\n",
       "9       1\n",
       "3       1\n",
       "125     1\n",
       "150     1\n",
       "Name: Budget, dtype: int64"
      ]
     },
     "execution_count": 214,
     "metadata": {},
     "output_type": "execute_result"
    }
   ],
   "source": [
    "data['Budget'].value_counts()"
   ]
  },
  {
   "cell_type": "code",
   "execution_count": 215,
   "id": "6ba8d5b5",
   "metadata": {},
   "outputs": [
    {
     "name": "stderr",
     "output_type": "stream",
     "text": [
      "C:\\ProgramData\\Anaconda3\\lib\\site-packages\\seaborn\\_decorators.py:36: FutureWarning: Pass the following variable as a keyword arg: x. From version 0.12, the only valid positional argument will be `data`, and passing other arguments without an explicit keyword will result in an error or misinterpretation.\n",
      "  warnings.warn(\n"
     ]
    },
    {
     "data": {
      "text/plain": [
       "<AxesSubplot:xlabel='Budget', ylabel='count'>"
      ]
     },
     "execution_count": 215,
     "metadata": {},
     "output_type": "execute_result"
    },
    {
     "data": {
      "image/png": "[encoded data removed]",
      "text/plain": [
       "<Figure size 640x480 with 1 Axes>"
      ]
     },
     "metadata": {},
     "output_type": "display_data"
    }
   ],
   "source": [
    "sb.countplot(data['Budget'])"
   ]
  },
  {
   "cell_type": "code",
   "execution_count": 216,
   "id": "07171ba8",
   "metadata": {},
   "outputs": [
    {
     "name": "stderr",
     "output_type": "stream",
     "text": [
      "C:\\ProgramData\\Anaconda3\\lib\\site-packages\\seaborn\\_decorators.py:36: FutureWarning: Pass the following variables as keyword args: x, y. From version 0.12, the only valid positional argument will be `data`, and passing other arguments without an explicit keyword will result in an error or misinterpretation.\n",
      "  warnings.warn(\n"
     ]
    },
    {
     "data": {
      "text/plain": [
       "<AxesSubplot:xlabel='Budget', ylabel='BoxOfficeCollection'>"
      ]
     },
     "execution_count": 216,
     "metadata": {},
     "output_type": "execute_result"
    },
    {
     "data": {
      "image/png": "[encoded data removed]",
      "text/plain": [
       "<Figure size 640x480 with 1 Axes>"
      ]
     },
     "metadata": {},
     "output_type": "display_data"
    }
   ],
   "source": [
    "sb.barplot(data['Budget'],y)"
   ]
  },
  {
   "cell_type": "code",
   "execution_count": 217,
   "id": "88bfdc68",
   "metadata": {},
   "outputs": [
    {
     "name": "stderr",
     "output_type": "stream",
     "text": [
      "C:\\ProgramData\\Anaconda3\\lib\\site-packages\\seaborn\\_decorators.py:36: FutureWarning: Pass the following variable as a keyword arg: x. From version 0.12, the only valid positional argument will be `data`, and passing other arguments without an explicit keyword will result in an error or misinterpretation.\n",
      "  warnings.warn(\n"
     ]
    },
    {
     "data": {
      "text/plain": [
       "<AxesSubplot:xlabel='Budget'>"
      ]
     },
     "execution_count": 217,
     "metadata": {},
     "output_type": "execute_result"
    },
    {
     "data": {
      "image/png": "[encoded data removed]",
      "text/plain": [
       "<Figure size 640x480 with 1 Axes>"
      ]
     },
     "metadata": {},
     "output_type": "display_data"
    }
   ],
   "source": [
    "sb.boxplot(data['Budget'])"
   ]
  },
  {
   "cell_type": "code",
   "execution_count": 218,
   "id": "d74e3c02",
   "metadata": {},
   "outputs": [
    {
     "name": "stderr",
     "output_type": "stream",
     "text": [
      "C:\\ProgramData\\Anaconda3\\lib\\site-packages\\seaborn\\distributions.py:2619: FutureWarning: `distplot` is a deprecated function and will be removed in a future version. Please adapt your code to use either `displot` (a figure-level function with similar flexibility) or `histplot` (an axes-level function for histograms).\n",
      "  warnings.warn(msg, FutureWarning)\n"
     ]
    },
    {
     "data": {
      "text/plain": [
       "<AxesSubplot:xlabel='Budget', ylabel='Density'>"
      ]
     },
     "execution_count": 218,
     "metadata": {},
     "output_type": "execute_result"
    },
    {
     "data": {
      "image/png": "[encoded data removed]",
      "text/plain": [
       "<Figure size 640x480 with 1 Axes>"
      ]
     },
     "metadata": {},
     "output_type": "display_data"
    }
   ],
   "source": [
    "sb.distplot(data['Budget'])"
   ]
  },
  {
   "cell_type": "code",
   "execution_count": 219,
   "id": "a6986aa0",
   "metadata": {},
   "outputs": [
    {
     "data": {
      "text/plain": [
       "<AxesSubplot:xlabel='Budget', ylabel='Count'>"
      ]
     },
     "execution_count": 219,
     "metadata": {},
     "output_type": "execute_result"
    },
    {
     "data": {
      "image/png": "[encoded data removed]",
      "text/plain": [
       "<Figure size 640x480 with 1 Axes>"
      ]
     },
     "metadata": {},
     "output_type": "display_data"
    }
   ],
   "source": [
    "sb.histplot(data['Budget'])"
   ]
  },
  {
   "cell_type": "markdown",
   "id": "9b5744c6",
   "metadata": {},
   "source": [
    "# Analysing the feature \"ReleaseTime\""
   ]
  },
  {
   "cell_type": "code",
   "execution_count": 222,
   "id": "82155f41",
   "metadata": {},
   "outputs": [
    {
     "name": "stdout",
     "output_type": "stream",
     "text": [
      "<class 'pandas.core.series.Series'>\n",
      "RangeIndex: 149 entries, 0 to 148\n",
      "Series name: ReleaseTime\n",
      "Non-Null Count  Dtype \n",
      "--------------  ----- \n",
      "149 non-null    object\n",
      "dtypes: object(1)\n",
      "memory usage: 1.3+ KB\n"
     ]
    }
   ],
   "source": [
    "data['ReleaseTime'].info()"
   ]
  },
  {
   "cell_type": "code",
   "execution_count": 233,
   "id": "2e394490",
   "metadata": {},
   "outputs": [
    {
     "data": {
      "text/plain": [
       "count     149\n",
       "unique      4\n",
       "top         N\n",
       "freq       99\n",
       "Name: ReleaseTime, dtype: object"
      ]
     },
     "execution_count": 233,
     "metadata": {},
     "output_type": "execute_result"
    }
   ],
   "source": [
    "data['ReleaseTime'].describe()"
   ]
  },
  {
   "cell_type": "code",
   "execution_count": 234,
   "id": "3701008b",
   "metadata": {},
   "outputs": [
    {
     "data": {
      "text/plain": [
       "array(['LW', 'N', 'HS', 'FS'], dtype=object)"
      ]
     },
     "execution_count": 234,
     "metadata": {},
     "output_type": "execute_result"
    }
   ],
   "source": [
    "data['ReleaseTime'].unique()"
   ]
  },
  {
   "cell_type": "code",
   "execution_count": 236,
   "id": "43edcca7",
   "metadata": {},
   "outputs": [
    {
     "data": {
      "text/plain": [
       "N     99\n",
       "HS    18\n",
       "FS    17\n",
       "LW    15\n",
       "Name: ReleaseTime, dtype: int64"
      ]
     },
     "execution_count": 236,
     "metadata": {},
     "output_type": "execute_result"
    }
   ],
   "source": [
    "data['ReleaseTime'].value_counts()"
   ]
  },
  {
   "cell_type": "code",
   "execution_count": 237,
   "id": "b063b7a4",
   "metadata": {},
   "outputs": [
    {
     "name": "stderr",
     "output_type": "stream",
     "text": [
      "C:\\ProgramData\\Anaconda3\\lib\\site-packages\\seaborn\\_decorators.py:36: FutureWarning: Pass the following variable as a keyword arg: x. From version 0.12, the only valid positional argument will be `data`, and passing other arguments without an explicit keyword will result in an error or misinterpretation.\n",
      "  warnings.warn(\n"
     ]
    },
    {
     "data": {
      "text/plain": [
       "<AxesSubplot:xlabel='ReleaseTime', ylabel='count'>"
      ]
     },
     "execution_count": 237,
     "metadata": {},
     "output_type": "execute_result"
    },
    {
     "data": {
      "image/png": "[encoded data removed]",
      "text/plain": [
       "<Figure size 640x480 with 1 Axes>"
      ]
     },
     "metadata": {},
     "output_type": "display_data"
    }
   ],
   "source": [
    "sb.countplot(data['ReleaseTime'])"
   ]
  },
  {
   "cell_type": "code",
   "execution_count": 238,
   "id": "af78c369",
   "metadata": {},
   "outputs": [
    {
     "name": "stderr",
     "output_type": "stream",
     "text": [
      "C:\\ProgramData\\Anaconda3\\lib\\site-packages\\seaborn\\_decorators.py:36: FutureWarning: Pass the following variables as keyword args: x, y. From version 0.12, the only valid positional argument will be `data`, and passing other arguments without an explicit keyword will result in an error or misinterpretation.\n",
      "  warnings.warn(\n"
     ]
    },
    {
     "data": {
      "text/plain": [
       "<AxesSubplot:xlabel='ReleaseTime', ylabel='BoxOfficeCollection'>"
      ]
     },
     "execution_count": 238,
     "metadata": {},
     "output_type": "execute_result"
    },
    {
     "data": {
      "image/png": "[encoded data removed]",
      "text/plain": [
       "<Figure size 640x480 with 1 Axes>"
      ]
     },
     "metadata": {},
     "output_type": "display_data"
    }
   ],
   "source": [
    "sb.barplot(data['ReleaseTime'],y)"
   ]
  },
  {
   "cell_type": "code",
   "execution_count": 241,
   "id": "156d0e69",
   "metadata": {},
   "outputs": [
    {
     "data": {
      "text/plain": [
       "<AxesSubplot:xlabel='ReleaseTime', ylabel='Count'>"
      ]
     },
     "execution_count": 241,
     "metadata": {},
     "output_type": "execute_result"
    },
    {
     "data": {
      "image/png": "[encoded data removed]",
      "text/plain": [
       "<Figure size 640x480 with 1 Axes>"
      ]
     },
     "metadata": {},
     "output_type": "display_data"
    }
   ],
   "source": [
    "sb.histplot(data['ReleaseTime'])"
   ]
  },
  {
   "cell_type": "code",
   "execution_count": 243,
   "id": "48b02f1e",
   "metadata": {},
   "outputs": [],
   "source": [
    "one_hot_rt = pd.get_dummies(data['ReleaseTime'])"
   ]
  },
  {
   "cell_type": "code",
   "execution_count": 244,
   "id": "7c13e027",
   "metadata": {},
   "outputs": [
    {
     "data": {
      "text/html": [
       "<div>\n",
       "<style scoped>\n",
       "    .dataframe tbody tr th:only-of-type {\n",
       "        vertical-align: middle;\n",
       "    }\n",
       "\n",
       "    .dataframe tbody tr th {\n",
       "        vertical-align: top;\n",
       "    }\n",
       "\n",
       "    .dataframe thead th {\n",
       "        text-align: right;\n",
       "    }\n",
       "</style>\n",
       "<table border=\"1\" class=\"dataframe\">\n",
       "  <thead>\n",
       "    <tr style=\"text-align: right;\">\n",
       "      <th></th>\n",
       "      <th>FS</th>\n",
       "      <th>HS</th>\n",
       "      <th>LW</th>\n",
       "      <th>N</th>\n",
       "    </tr>\n",
       "  </thead>\n",
       "  <tbody>\n",
       "    <tr>\n",
       "      <th>0</th>\n",
       "      <td>0</td>\n",
       "      <td>0</td>\n",
       "      <td>1</td>\n",
       "      <td>0</td>\n",
       "    </tr>\n",
       "    <tr>\n",
       "      <th>1</th>\n",
       "      <td>0</td>\n",
       "      <td>0</td>\n",
       "      <td>0</td>\n",
       "      <td>1</td>\n",
       "    </tr>\n",
       "    <tr>\n",
       "      <th>2</th>\n",
       "      <td>0</td>\n",
       "      <td>0</td>\n",
       "      <td>0</td>\n",
       "      <td>1</td>\n",
       "    </tr>\n",
       "    <tr>\n",
       "      <th>3</th>\n",
       "      <td>0</td>\n",
       "      <td>0</td>\n",
       "      <td>0</td>\n",
       "      <td>1</td>\n",
       "    </tr>\n",
       "    <tr>\n",
       "      <th>4</th>\n",
       "      <td>0</td>\n",
       "      <td>0</td>\n",
       "      <td>0</td>\n",
       "      <td>1</td>\n",
       "    </tr>\n",
       "  </tbody>\n",
       "</table>\n",
       "</div>"
      ],
      "text/plain": [
       "   FS  HS  LW  N\n",
       "0   0   0   1  0\n",
       "1   0   0   0  1\n",
       "2   0   0   0  1\n",
       "3   0   0   0  1\n",
       "4   0   0   0  1"
      ]
     },
     "execution_count": 244,
     "metadata": {},
     "output_type": "execute_result"
    }
   ],
   "source": [
    "one_hot_rt.head()"
   ]
  },
  {
   "cell_type": "code",
   "execution_count": 245,
   "id": "2ad876c6",
   "metadata": {},
   "outputs": [],
   "source": [
    "data= data.join(one_hot_rt).drop(['ReleaseTime'],axis=1)"
   ]
  },
  {
   "cell_type": "markdown",
   "id": "7a6facac",
   "metadata": {},
   "source": [
    "# Seperating dependent and independent variables"
   ]
  },
  {
   "cell_type": "code",
   "execution_count": 255,
   "id": "e0faf70b",
   "metadata": {},
   "outputs": [],
   "source": [
    "x = data.drop(['SlNo' , 'ReleaseDate' , 'MovieName' , 'BoxOfficeCollection'],axis=1)"
   ]
  },
  {
   "cell_type": "code",
   "execution_count": 256,
   "id": "410a6f74",
   "metadata": {},
   "outputs": [],
   "source": [
    "y = data['BoxOfficeCollection']"
   ]
  },
  {
   "cell_type": "code",
   "execution_count": 257,
   "id": "04949aae",
   "metadata": {},
   "outputs": [],
   "source": [
    "from sklearn.model_selection import train_test_split"
   ]
  },
  {
   "cell_type": "code",
   "execution_count": 258,
   "id": "11616e75",
   "metadata": {},
   "outputs": [],
   "source": [
    "x_train , x_test , y_train, y_test = train_test_split(x,y,test_size=0.2,random_state=5)"
   ]
  },
  {
   "cell_type": "code",
   "execution_count": 259,
   "id": "2dd5effd",
   "metadata": {},
   "outputs": [],
   "source": [
    "from sklearn.linear_model import LinearRegression"
   ]
  },
  {
   "cell_type": "code",
   "execution_count": 260,
   "id": "8f93de87",
   "metadata": {},
   "outputs": [],
   "source": [
    "model = LinearRegression()"
   ]
  },
  {
   "cell_type": "code",
   "execution_count": 261,
   "id": "5157c8e7",
   "metadata": {},
   "outputs": [
    {
     "data": {
      "text/plain": [
       "LinearRegression()"
      ]
     },
     "execution_count": 261,
     "metadata": {},
     "output_type": "execute_result"
    }
   ],
   "source": [
    "model.fit(x_train,y_train)"
   ]
  },
  {
   "cell_type": "code",
   "execution_count": 262,
   "id": "8d73ab1b",
   "metadata": {},
   "outputs": [],
   "source": [
    "pred = model.predict(x_test)"
   ]
  },
  {
   "cell_type": "code",
   "execution_count": 263,
   "id": "8672d986",
   "metadata": {},
   "outputs": [],
   "source": [
    "model_score = mean_squared_error(pred,y_test)"
   ]
  },
  {
   "cell_type": "code",
   "execution_count": 264,
   "id": "622f0ce4",
   "metadata": {},
   "outputs": [
    {
     "data": {
      "text/plain": [
       "3620.784120333748"
      ]
     },
     "execution_count": 264,
     "metadata": {},
     "output_type": "execute_result"
    }
   ],
   "source": [
    "model_score"
   ]
  },
  {
   "cell_type": "markdown",
   "id": "48d06073",
   "metadata": {},
   "source": [
    "MSE is too large and therefore the model will be trained by classification"
   ]
  },
  {
   "cell_type": "markdown",
   "id": "6d2660fc",
   "metadata": {},
   "source": [
    "# Conversion of target variable into three unique values"
   ]
  },
  {
   "cell_type": "code",
   "execution_count": 265,
   "id": "dac283e0",
   "metadata": {},
   "outputs": [],
   "source": [
    "bins= (1,35.5,700)"
   ]
  },
  {
   "cell_type": "code",
   "execution_count": 269,
   "id": "5130a381",
   "metadata": {},
   "outputs": [],
   "source": [
    "group = ['hit' ,'flop']"
   ]
  },
  {
   "cell_type": "code",
   "execution_count": 270,
   "id": "6dfb6b9f",
   "metadata": {},
   "outputs": [],
   "source": [
    "data['BoxOfficeCollection'] = pd.cut(data['BoxOfficeCollection'] , bins ,group)"
   ]
  },
  {
   "cell_type": "code",
   "execution_count": 271,
   "id": "7cfcf23a",
   "metadata": {},
   "outputs": [],
   "source": [
    "from sklearn.preprocessing import LabelEncoder"
   ]
  },
  {
   "cell_type": "code",
   "execution_count": 272,
   "id": "f617bd93",
   "metadata": {},
   "outputs": [],
   "source": [
    "label = LabelEncoder()"
   ]
  },
  {
   "cell_type": "code",
   "execution_count": 273,
   "id": "b585aa3b",
   "metadata": {},
   "outputs": [],
   "source": [
    "data['BoxOfficeCollection'] = label.fit_transform(data['BoxOfficeCollection'])"
   ]
  },
  {
   "cell_type": "code",
   "execution_count": 275,
   "id": "6b80e4bf",
   "metadata": {},
   "outputs": [
    {
     "data": {
      "text/plain": [
       "array([1, 0, 2])"
      ]
     },
     "execution_count": 275,
     "metadata": {},
     "output_type": "execute_result"
    }
   ],
   "source": [
    "data['BoxOfficeCollection'].unique()"
   ]
  },
  {
   "cell_type": "code",
   "execution_count": 276,
   "id": "ddb0a0f3",
   "metadata": {},
   "outputs": [
    {
     "data": {
      "text/html": [
       "<div>\n",
       "<style scoped>\n",
       "    .dataframe tbody tr th:only-of-type {\n",
       "        vertical-align: middle;\n",
       "    }\n",
       "\n",
       "    .dataframe tbody tr th {\n",
       "        vertical-align: top;\n",
       "    }\n",
       "\n",
       "    .dataframe thead th {\n",
       "        text-align: right;\n",
       "    }\n",
       "</style>\n",
       "<table border=\"1\" class=\"dataframe\">\n",
       "  <thead>\n",
       "    <tr style=\"text-align: right;\">\n",
       "      <th></th>\n",
       "      <th>SlNo</th>\n",
       "      <th>ReleaseDate</th>\n",
       "      <th>MovieName</th>\n",
       "      <th>Budget</th>\n",
       "      <th>BoxOfficeCollection</th>\n",
       "      <th>YoutubeViews</th>\n",
       "      <th>YoutubeLikes</th>\n",
       "      <th>YoutubeDislikes</th>\n",
       "      <th>Action</th>\n",
       "      <th>Comedy</th>\n",
       "      <th>Drama</th>\n",
       "      <th>Romance</th>\n",
       "      <th>Thriller</th>\n",
       "      <th>FS</th>\n",
       "      <th>HS</th>\n",
       "      <th>LW</th>\n",
       "      <th>N</th>\n",
       "    </tr>\n",
       "  </thead>\n",
       "  <tbody>\n",
       "    <tr>\n",
       "      <th>0</th>\n",
       "      <td>1</td>\n",
       "      <td>18-Apr-14</td>\n",
       "      <td>2States</td>\n",
       "      <td>36</td>\n",
       "      <td>1</td>\n",
       "      <td>8576361</td>\n",
       "      <td>26622</td>\n",
       "      <td>2527</td>\n",
       "      <td>0</td>\n",
       "      <td>0</td>\n",
       "      <td>0</td>\n",
       "      <td>1</td>\n",
       "      <td>0</td>\n",
       "      <td>0</td>\n",
       "      <td>0</td>\n",
       "      <td>1</td>\n",
       "      <td>0</td>\n",
       "    </tr>\n",
       "    <tr>\n",
       "      <th>1</th>\n",
       "      <td>2</td>\n",
       "      <td>4-Jan-13</td>\n",
       "      <td>TableNo.21</td>\n",
       "      <td>10</td>\n",
       "      <td>0</td>\n",
       "      <td>1087320</td>\n",
       "      <td>1129</td>\n",
       "      <td>137</td>\n",
       "      <td>0</td>\n",
       "      <td>0</td>\n",
       "      <td>0</td>\n",
       "      <td>0</td>\n",
       "      <td>1</td>\n",
       "      <td>0</td>\n",
       "      <td>0</td>\n",
       "      <td>0</td>\n",
       "      <td>1</td>\n",
       "    </tr>\n",
       "    <tr>\n",
       "      <th>2</th>\n",
       "      <td>3</td>\n",
       "      <td>18-Jul-14</td>\n",
       "      <td>AmitSahniKiList</td>\n",
       "      <td>10</td>\n",
       "      <td>0</td>\n",
       "      <td>572336</td>\n",
       "      <td>586</td>\n",
       "      <td>54</td>\n",
       "      <td>0</td>\n",
       "      <td>1</td>\n",
       "      <td>0</td>\n",
       "      <td>0</td>\n",
       "      <td>0</td>\n",
       "      <td>0</td>\n",
       "      <td>0</td>\n",
       "      <td>0</td>\n",
       "      <td>1</td>\n",
       "    </tr>\n",
       "    <tr>\n",
       "      <th>3</th>\n",
       "      <td>4</td>\n",
       "      <td>4-Jan-13</td>\n",
       "      <td>RajdhaniExpress</td>\n",
       "      <td>7</td>\n",
       "      <td>2</td>\n",
       "      <td>42626</td>\n",
       "      <td>86</td>\n",
       "      <td>19</td>\n",
       "      <td>0</td>\n",
       "      <td>0</td>\n",
       "      <td>1</td>\n",
       "      <td>0</td>\n",
       "      <td>0</td>\n",
       "      <td>0</td>\n",
       "      <td>0</td>\n",
       "      <td>0</td>\n",
       "      <td>1</td>\n",
       "    </tr>\n",
       "    <tr>\n",
       "      <th>4</th>\n",
       "      <td>5</td>\n",
       "      <td>4-Jul-14</td>\n",
       "      <td>BobbyJasoos</td>\n",
       "      <td>18</td>\n",
       "      <td>0</td>\n",
       "      <td>3113427</td>\n",
       "      <td>4512</td>\n",
       "      <td>1224</td>\n",
       "      <td>0</td>\n",
       "      <td>1</td>\n",
       "      <td>0</td>\n",
       "      <td>0</td>\n",
       "      <td>0</td>\n",
       "      <td>0</td>\n",
       "      <td>0</td>\n",
       "      <td>0</td>\n",
       "      <td>1</td>\n",
       "    </tr>\n",
       "    <tr>\n",
       "      <th>...</th>\n",
       "      <td>...</td>\n",
       "      <td>...</td>\n",
       "      <td>...</td>\n",
       "      <td>...</td>\n",
       "      <td>...</td>\n",
       "      <td>...</td>\n",
       "      <td>...</td>\n",
       "      <td>...</td>\n",
       "      <td>...</td>\n",
       "      <td>...</td>\n",
       "      <td>...</td>\n",
       "      <td>...</td>\n",
       "      <td>...</td>\n",
       "      <td>...</td>\n",
       "      <td>...</td>\n",
       "      <td>...</td>\n",
       "      <td>...</td>\n",
       "    </tr>\n",
       "    <tr>\n",
       "      <th>144</th>\n",
       "      <td>145</td>\n",
       "      <td>27-Feb-15</td>\n",
       "      <td>DumLagaKeHaisha</td>\n",
       "      <td>15</td>\n",
       "      <td>0</td>\n",
       "      <td>3250917</td>\n",
       "      <td>8185</td>\n",
       "      <td>615</td>\n",
       "      <td>0</td>\n",
       "      <td>1</td>\n",
       "      <td>0</td>\n",
       "      <td>0</td>\n",
       "      <td>0</td>\n",
       "      <td>0</td>\n",
       "      <td>0</td>\n",
       "      <td>0</td>\n",
       "      <td>1</td>\n",
       "    </tr>\n",
       "    <tr>\n",
       "      <th>145</th>\n",
       "      <td>146</td>\n",
       "      <td>13-Mar-15</td>\n",
       "      <td>NH10</td>\n",
       "      <td>13</td>\n",
       "      <td>0</td>\n",
       "      <td>5592977</td>\n",
       "      <td>15464</td>\n",
       "      <td>1513</td>\n",
       "      <td>0</td>\n",
       "      <td>0</td>\n",
       "      <td>0</td>\n",
       "      <td>0</td>\n",
       "      <td>1</td>\n",
       "      <td>0</td>\n",
       "      <td>0</td>\n",
       "      <td>0</td>\n",
       "      <td>1</td>\n",
       "    </tr>\n",
       "    <tr>\n",
       "      <th>146</th>\n",
       "      <td>147</td>\n",
       "      <td>20-Mar-15</td>\n",
       "      <td>DilliwaliZaalimGirlfriend</td>\n",
       "      <td>32</td>\n",
       "      <td>0</td>\n",
       "      <td>2316047</td>\n",
       "      <td>4289</td>\n",
       "      <td>807</td>\n",
       "      <td>0</td>\n",
       "      <td>1</td>\n",
       "      <td>0</td>\n",
       "      <td>0</td>\n",
       "      <td>0</td>\n",
       "      <td>0</td>\n",
       "      <td>0</td>\n",
       "      <td>0</td>\n",
       "      <td>1</td>\n",
       "    </tr>\n",
       "    <tr>\n",
       "      <th>147</th>\n",
       "      <td>148</td>\n",
       "      <td>20-Mar-15</td>\n",
       "      <td>Hunterrr</td>\n",
       "      <td>5</td>\n",
       "      <td>0</td>\n",
       "      <td>4674795</td>\n",
       "      <td>3706</td>\n",
       "      <td>762</td>\n",
       "      <td>0</td>\n",
       "      <td>1</td>\n",
       "      <td>0</td>\n",
       "      <td>0</td>\n",
       "      <td>0</td>\n",
       "      <td>0</td>\n",
       "      <td>0</td>\n",
       "      <td>0</td>\n",
       "      <td>1</td>\n",
       "    </tr>\n",
       "    <tr>\n",
       "      <th>148</th>\n",
       "      <td>149</td>\n",
       "      <td>23-May-14</td>\n",
       "      <td>Kochadaiiyaan</td>\n",
       "      <td>150</td>\n",
       "      <td>1</td>\n",
       "      <td>4740727</td>\n",
       "      <td>13466</td>\n",
       "      <td>2649</td>\n",
       "      <td>1</td>\n",
       "      <td>0</td>\n",
       "      <td>0</td>\n",
       "      <td>0</td>\n",
       "      <td>0</td>\n",
       "      <td>0</td>\n",
       "      <td>1</td>\n",
       "      <td>0</td>\n",
       "      <td>0</td>\n",
       "    </tr>\n",
       "  </tbody>\n",
       "</table>\n",
       "<p>149 rows × 17 columns</p>\n",
       "</div>"
      ],
      "text/plain": [
       "     SlNo ReleaseDate                  MovieName  Budget  BoxOfficeCollection  \\\n",
       "0       1   18-Apr-14                    2States      36                    1   \n",
       "1       2    4-Jan-13                 TableNo.21      10                    0   \n",
       "2       3   18-Jul-14            AmitSahniKiList      10                    0   \n",
       "3       4    4-Jan-13            RajdhaniExpress       7                    2   \n",
       "4       5    4-Jul-14                BobbyJasoos      18                    0   \n",
       "..    ...         ...                        ...     ...                  ...   \n",
       "144   145   27-Feb-15            DumLagaKeHaisha      15                    0   \n",
       "145   146   13-Mar-15                       NH10      13                    0   \n",
       "146   147   20-Mar-15  DilliwaliZaalimGirlfriend      32                    0   \n",
       "147   148   20-Mar-15                   Hunterrr       5                    0   \n",
       "148   149   23-May-14              Kochadaiiyaan     150                    1   \n",
       "\n",
       "     YoutubeViews  YoutubeLikes  YoutubeDislikes  Action  Comedy  Drama  \\\n",
       "0         8576361         26622             2527       0       0      0   \n",
       "1         1087320          1129              137       0       0      0   \n",
       "2          572336           586               54       0       1      0   \n",
       "3           42626            86               19       0       0      1   \n",
       "4         3113427          4512             1224       0       1      0   \n",
       "..            ...           ...              ...     ...     ...    ...   \n",
       "144       3250917          8185              615       0       1      0   \n",
       "145       5592977         15464             1513       0       0      0   \n",
       "146       2316047          4289              807       0       1      0   \n",
       "147       4674795          3706              762       0       1      0   \n",
       "148       4740727         13466             2649       1       0      0   \n",
       "\n",
       "     Romance  Thriller  FS  HS  LW  N  \n",
       "0          1         0   0   0   1  0  \n",
       "1          0         1   0   0   0  1  \n",
       "2          0         0   0   0   0  1  \n",
       "3          0         0   0   0   0  1  \n",
       "4          0         0   0   0   0  1  \n",
       "..       ...       ...  ..  ..  .. ..  \n",
       "144        0         0   0   0   0  1  \n",
       "145        0         1   0   0   0  1  \n",
       "146        0         0   0   0   0  1  \n",
       "147        0         0   0   0   0  1  \n",
       "148        0         0   0   1   0  0  \n",
       "\n",
       "[149 rows x 17 columns]"
      ]
     },
     "execution_count": 276,
     "metadata": {},
     "output_type": "execute_result"
    }
   ],
   "source": [
    "data"
   ]
  },
  {
   "cell_type": "code",
   "execution_count": 278,
   "id": "b92ac6f9",
   "metadata": {},
   "outputs": [
    {
     "name": "stdout",
     "output_type": "stream",
     "text": [
      "<class 'pandas.core.series.Series'>\n",
      "RangeIndex: 149 entries, 0 to 148\n",
      "Series name: BoxOfficeCollection\n",
      "Non-Null Count  Dtype\n",
      "--------------  -----\n",
      "149 non-null    int32\n",
      "dtypes: int32(1)\n",
      "memory usage: 724.0 bytes\n"
     ]
    }
   ],
   "source": [
    "data['BoxOfficeCollection'].info()"
   ]
  },
  {
   "cell_type": "code",
   "execution_count": 279,
   "id": "cefd8596",
   "metadata": {},
   "outputs": [
    {
     "data": {
      "text/plain": [
       "count    149.000000\n",
       "mean       0.489933\n",
       "std        0.588372\n",
       "min        0.000000\n",
       "25%        0.000000\n",
       "50%        0.000000\n",
       "75%        1.000000\n",
       "max        2.000000\n",
       "Name: BoxOfficeCollection, dtype: float64"
      ]
     },
     "execution_count": 279,
     "metadata": {},
     "output_type": "execute_result"
    }
   ],
   "source": [
    "data['BoxOfficeCollection'].describe()"
   ]
  },
  {
   "cell_type": "code",
   "execution_count": 280,
   "id": "cd71787b",
   "metadata": {},
   "outputs": [
    {
     "data": {
      "text/plain": [
       "0    83\n",
       "1    59\n",
       "2     7\n",
       "Name: BoxOfficeCollection, dtype: int64"
      ]
     },
     "execution_count": 280,
     "metadata": {},
     "output_type": "execute_result"
    }
   ],
   "source": [
    "data['BoxOfficeCollection'].value_counts()"
   ]
  },
  {
   "cell_type": "code",
   "execution_count": 282,
   "id": "e3fe904a",
   "metadata": {},
   "outputs": [
    {
     "name": "stderr",
     "output_type": "stream",
     "text": [
      "C:\\ProgramData\\Anaconda3\\lib\\site-packages\\seaborn\\_decorators.py:36: FutureWarning: Pass the following variable as a keyword arg: x. From version 0.12, the only valid positional argument will be `data`, and passing other arguments without an explicit keyword will result in an error or misinterpretation.\n",
      "  warnings.warn(\n"
     ]
    },
    {
     "data": {
      "text/plain": [
       "<AxesSubplot:xlabel='BoxOfficeCollection', ylabel='count'>"
      ]
     },
     "execution_count": 282,
     "metadata": {},
     "output_type": "execute_result"
    },
    {
     "data": {
      "image/png": "[encoded data removed]",
      "text/plain": [
       "<Figure size 640x480 with 1 Axes>"
      ]
     },
     "metadata": {},
     "output_type": "display_data"
    }
   ],
   "source": [
    "sb.countplot(data['BoxOfficeCollection'])"
   ]
  },
  {
   "cell_type": "markdown",
   "id": "7f85ca62",
   "metadata": {},
   "source": [
    "# Logistic Regression"
   ]
  },
  {
   "cell_type": "code",
   "execution_count": 614,
   "id": "a4a30993",
   "metadata": {},
   "outputs": [],
   "source": [
    "x = data.drop(['SlNo' , 'ReleaseDate' , 'MovieName' , 'BoxOfficeCollection'],axis=1)"
   ]
  },
  {
   "cell_type": "code",
   "execution_count": 615,
   "id": "6443a31c",
   "metadata": {},
   "outputs": [],
   "source": [
    "y = data['BoxOfficeCollection']"
   ]
  },
  {
   "cell_type": "code",
   "execution_count": 616,
   "id": "fd8d221e",
   "metadata": {},
   "outputs": [],
   "source": [
    "x_train1, x_test1, y_train1, y_test1 = train_test_split(x,y,test_size=0.1,random_state=2)"
   ]
  },
  {
   "cell_type": "code",
   "execution_count": 617,
   "id": "8b7dadd4",
   "metadata": {},
   "outputs": [],
   "source": [
    "from sklearn.linear_model import LogisticRegression"
   ]
  },
  {
   "cell_type": "code",
   "execution_count": 618,
   "id": "61aa6bfa",
   "metadata": {},
   "outputs": [],
   "source": [
    "lr = LogisticRegression()"
   ]
  },
  {
   "cell_type": "code",
   "execution_count": 619,
   "id": "de9f26d7",
   "metadata": {},
   "outputs": [
    {
     "data": {
      "text/plain": [
       "LogisticRegression()"
      ]
     },
     "execution_count": 619,
     "metadata": {},
     "output_type": "execute_result"
    }
   ],
   "source": [
    "lr.fit(x_train1,y_train1)"
   ]
  },
  {
   "cell_type": "code",
   "execution_count": 620,
   "id": "daba2b68",
   "metadata": {},
   "outputs": [],
   "source": [
    "pred = lr.predict(x_test1)"
   ]
  },
  {
   "cell_type": "code",
   "execution_count": 621,
   "id": "bec1080f",
   "metadata": {},
   "outputs": [],
   "source": [
    "score_lr = round(accuracy_score(pred,y_test1)*100,2)"
   ]
  },
  {
   "cell_type": "code",
   "execution_count": 622,
   "id": "3a8aa84b",
   "metadata": {},
   "outputs": [
    {
     "data": {
      "text/plain": [
       "80.0"
      ]
     },
     "execution_count": 622,
     "metadata": {},
     "output_type": "execute_result"
    }
   ],
   "source": [
    "score_lr"
   ]
  },
  {
   "cell_type": "markdown",
   "id": "219c8dbd",
   "metadata": {},
   "source": [
    "# Naive Bayes"
   ]
  },
  {
   "cell_type": "code",
   "execution_count": 623,
   "id": "c5022850",
   "metadata": {},
   "outputs": [],
   "source": [
    "x_train2 , x_test2, y_train2, y_test2 = train_test_split(x,y,test_size=0.2,random_state=4)"
   ]
  },
  {
   "cell_type": "code",
   "execution_count": 624,
   "id": "35f51166",
   "metadata": {},
   "outputs": [],
   "source": [
    "from sklearn.naive_bayes import GaussianNB"
   ]
  },
  {
   "cell_type": "code",
   "execution_count": 625,
   "id": "aebc8437",
   "metadata": {},
   "outputs": [],
   "source": [
    "nb= GaussianNB()"
   ]
  },
  {
   "cell_type": "code",
   "execution_count": 626,
   "id": "d3d4bffd",
   "metadata": {},
   "outputs": [
    {
     "data": {
      "text/plain": [
       "GaussianNB()"
      ]
     },
     "execution_count": 626,
     "metadata": {},
     "output_type": "execute_result"
    }
   ],
   "source": [
    "nb.fit(x_train2,y_train2)"
   ]
  },
  {
   "cell_type": "code",
   "execution_count": 627,
   "id": "6cd78173",
   "metadata": {},
   "outputs": [],
   "source": [
    "pred = nb.predict(x_test2)"
   ]
  },
  {
   "cell_type": "code",
   "execution_count": 628,
   "id": "21b008fe",
   "metadata": {},
   "outputs": [],
   "source": [
    "score_nb = round(accuracy_score(pred,y_test2)*100,2)"
   ]
  },
  {
   "cell_type": "code",
   "execution_count": 629,
   "id": "4ed97e94",
   "metadata": {},
   "outputs": [
    {
     "data": {
      "text/plain": [
       "80.0"
      ]
     },
     "execution_count": 629,
     "metadata": {},
     "output_type": "execute_result"
    }
   ],
   "source": [
    "score_nb"
   ]
  },
  {
   "cell_type": "markdown",
   "id": "a06ec4a2",
   "metadata": {},
   "source": [
    "# KNeighbors Classifier "
   ]
  },
  {
   "cell_type": "code",
   "execution_count": 793,
   "id": "16a19cc4",
   "metadata": {},
   "outputs": [],
   "source": [
    "x_train3 , x_test3 , y_train3 , y_test3 = train_test_split(x,y,test_size=0.2,random_state=1)"
   ]
  },
  {
   "cell_type": "code",
   "execution_count": 794,
   "id": "a7c5bb0a",
   "metadata": {},
   "outputs": [],
   "source": [
    "from sklearn.neighbors import KNeighborsClassifier"
   ]
  },
  {
   "cell_type": "code",
   "execution_count": 795,
   "id": "232ac76d",
   "metadata": {},
   "outputs": [],
   "source": [
    "kn = KNeighborsClassifier()"
   ]
  },
  {
   "cell_type": "code",
   "execution_count": 796,
   "id": "c4cbf9dd",
   "metadata": {},
   "outputs": [
    {
     "data": {
      "text/plain": [
       "KNeighborsClassifier()"
      ]
     },
     "execution_count": 796,
     "metadata": {},
     "output_type": "execute_result"
    }
   ],
   "source": [
    "kn.fit(x_train3,y_train3)"
   ]
  },
  {
   "cell_type": "code",
   "execution_count": 797,
   "id": "50d78f38",
   "metadata": {},
   "outputs": [
    {
     "name": "stderr",
     "output_type": "stream",
     "text": [
      "C:\\ProgramData\\Anaconda3\\lib\\site-packages\\sklearn\\neighbors\\_classification.py:228: FutureWarning: Unlike other reduction functions (e.g. `skew`, `kurtosis`), the default behavior of `mode` typically preserves the axis it acts along. In SciPy 1.11.0, this behavior will change: the default value of `keepdims` will become False, the `axis` over which the statistic is taken will be eliminated, and the value None will no longer be accepted. Set `keepdims` to True or False to avoid this warning.\n",
      "  mode, _ = stats.mode(_y[neigh_ind, k], axis=1)\n"
     ]
    }
   ],
   "source": [
    "pred = kn.predict(x_test3)"
   ]
  },
  {
   "cell_type": "code",
   "execution_count": 798,
   "id": "f872ef48",
   "metadata": {},
   "outputs": [],
   "source": [
    "score_kn = round(accuracy_score(pred,y_test3)*100,2)"
   ]
  },
  {
   "cell_type": "code",
   "execution_count": 799,
   "id": "2a9de6d5",
   "metadata": {},
   "outputs": [
    {
     "data": {
      "text/plain": [
       "80.0"
      ]
     },
     "execution_count": 799,
     "metadata": {},
     "output_type": "execute_result"
    }
   ],
   "source": [
    "score_kn"
   ]
  },
  {
   "cell_type": "markdown",
   "id": "01ed3477",
   "metadata": {},
   "source": [
    "# Decision Tree"
   ]
  },
  {
   "cell_type": "code",
   "execution_count": 836,
   "id": "342b8874",
   "metadata": {},
   "outputs": [],
   "source": [
    "x_train4 , x_test4 ,y_train4, y_test4  = train_test_split(x,y,test_size=0.2)"
   ]
  },
  {
   "cell_type": "code",
   "execution_count": 837,
   "id": "7ad895fb",
   "metadata": {},
   "outputs": [],
   "source": [
    "from sklearn.tree import DecisionTreeClassifier"
   ]
  },
  {
   "cell_type": "code",
   "execution_count": 838,
   "id": "a8f1bd0b",
   "metadata": {},
   "outputs": [],
   "source": [
    "score_dt =0\n",
    "for i in range(150):\n",
    "    dt = DecisionTreeClassifier(random_state=i)\n",
    "    dt.fit(x_train4,y_train4)\n",
    "    pred = dt.predict(x_test4)\n",
    "    score = round(accuracy_score(pred,y_test4)*100,2)\n",
    "    if score_dt < score:\n",
    "        score_dt = score"
   ]
  },
  {
   "cell_type": "code",
   "execution_count": 839,
   "id": "058621b6",
   "metadata": {},
   "outputs": [
    {
     "data": {
      "text/plain": [
       "80.0"
      ]
     },
     "execution_count": 839,
     "metadata": {},
     "output_type": "execute_result"
    }
   ],
   "source": [
    "score_dt"
   ]
  },
  {
   "cell_type": "markdown",
   "id": "69bd9f35",
   "metadata": {},
   "source": [
    "# Random Forest Classifier"
   ]
  },
  {
   "cell_type": "code",
   "execution_count": 857,
   "id": "3368760b",
   "metadata": {},
   "outputs": [],
   "source": [
    "x_train5, x_test5 ,y_train5, y_test5 = train_test_split(x,y,test_size=0.2)"
   ]
  },
  {
   "cell_type": "code",
   "execution_count": 860,
   "id": "c695891f",
   "metadata": {},
   "outputs": [
    {
     "name": "stdout",
     "output_type": "stream",
     "text": [
      "(119, 13)\n",
      "(119, 13)\n",
      "(30, 13) (30,)\n"
     ]
    }
   ],
   "source": [
    "print(x_train5.shape)\n",
    "print(x_train5.shape)\n",
    "print(x_test5.shape , y_test5.shape)"
   ]
  },
  {
   "cell_type": "code",
   "execution_count": 861,
   "id": "c222fc7b",
   "metadata": {},
   "outputs": [],
   "source": [
    "from sklearn.ensemble import RandomForestClassifier\n",
    "score_rd = 0\n",
    "for i in range(150):\n",
    "    rd = RandomForestClassifier(random_state=i)\n",
    "    rd.fit(x_train5,y_train5)\n",
    "    pred = rd.predict(x_test5)\n",
    "    score = round(accuracy_score(pred,y_test5)*100,2)\n",
    "    if score_rd<score:\n",
    "        score_rd = score"
   ]
  },
  {
   "cell_type": "code",
   "execution_count": 862,
   "id": "7491bd63",
   "metadata": {},
   "outputs": [
    {
     "data": {
      "text/plain": [
       "86.67"
      ]
     },
     "execution_count": 862,
     "metadata": {},
     "output_type": "execute_result"
    }
   ],
   "source": [
    "score_rd"
   ]
  },
  {
   "cell_type": "markdown",
   "id": "00ea6531",
   "metadata": {},
   "source": [
    "# AdaBoost Classifier "
   ]
  },
  {
   "cell_type": "code",
   "execution_count": 864,
   "id": "10725f7e",
   "metadata": {},
   "outputs": [],
   "source": [
    "from sklearn.ensemble import AdaBoostClassifier"
   ]
  },
  {
   "cell_type": "code",
   "execution_count": 865,
   "id": "28d38d41",
   "metadata": {},
   "outputs": [],
   "source": [
    "ad= AdaBoostClassifier()"
   ]
  },
  {
   "cell_type": "code",
   "execution_count": 967,
   "id": "0a7ca029",
   "metadata": {},
   "outputs": [],
   "source": [
    "x_train6 , x_test6 ,y_train6, y_test6 = train_test_split(x,y,test_size=0.3,random_state=1)"
   ]
  },
  {
   "cell_type": "code",
   "execution_count": 968,
   "id": "082bea13",
   "metadata": {},
   "outputs": [
    {
     "data": {
      "text/plain": [
       "AdaBoostClassifier()"
      ]
     },
     "execution_count": 968,
     "metadata": {},
     "output_type": "execute_result"
    }
   ],
   "source": [
    "ad.fit(x_train6,y_train6)"
   ]
  },
  {
   "cell_type": "code",
   "execution_count": 969,
   "id": "b4289f80",
   "metadata": {},
   "outputs": [],
   "source": [
    "pred = ad.predict(x_test6)"
   ]
  },
  {
   "cell_type": "code",
   "execution_count": 970,
   "id": "f835a2a3",
   "metadata": {},
   "outputs": [],
   "source": [
    "score_ad = round(accuracy_score(pred,y_test6)*100,2)"
   ]
  },
  {
   "cell_type": "code",
   "execution_count": 971,
   "id": "c7372880",
   "metadata": {},
   "outputs": [
    {
     "data": {
      "text/plain": [
       "73.33"
      ]
     },
     "execution_count": 971,
     "metadata": {},
     "output_type": "execute_result"
    }
   ],
   "source": [
    "score_ad"
   ]
  },
  {
   "cell_type": "markdown",
   "id": "499e03ba",
   "metadata": {},
   "source": [
    "# Conclusion"
   ]
  },
  {
   "cell_type": "code",
   "execution_count": 972,
   "id": "ecde6bd7",
   "metadata": {},
   "outputs": [],
   "source": [
    "scores = [score_lr,score_nb,score_kn,score_dt,score_rd,score_ad]\n",
    "classifier = ['Logistic' ,'NaiveBayes' ,'KNeighbors' ,'DecisionTree' ,'RandomForest' ,'AdaBoost']"
   ]
  },
  {
   "cell_type": "code",
   "execution_count": 976,
   "id": "4942641c",
   "metadata": {},
   "outputs": [
    {
     "name": "stderr",
     "output_type": "stream",
     "text": [
      "C:\\ProgramData\\Anaconda3\\lib\\site-packages\\seaborn\\_decorators.py:36: FutureWarning: Pass the following variables as keyword args: x, y. From version 0.12, the only valid positional argument will be `data`, and passing other arguments without an explicit keyword will result in an error or misinterpretation.\n",
      "  warnings.warn(\n"
     ]
    },
    {
     "data": {
      "text/plain": [
       "<AxesSubplot:>"
      ]
     },
     "execution_count": 976,
     "metadata": {},
     "output_type": "execute_result"
    },
    {
     "data": {
      "image/png": "[encoded data removed]",
      "text/plain": [
       "<Figure size 640x480 with 1 Axes>"
      ]
     },
     "metadata": {},
     "output_type": "display_data"
    }
   ],
   "source": [
    "sb.barplot(classifier,scores)"
   ]
  }
 ],
 "metadata": {
  "kernelspec": {
   "display_name": "Python 3 (ipykernel)",
   "language": "python",
   "name": "python3"
  },
  "language_info": {
   "codemirror_mode": {
    "name": "ipython",
    "version": 3
   },
   "file_extension": ".py",
   "mimetype": "text/x-python",
   "name": "python",
   "nbconvert_exporter": "python",
   "pygments_lexer": "ipython3",
   "version": "3.9.13"
  }
 },
 "nbformat": 4,
 "nbformat_minor": 5
}
