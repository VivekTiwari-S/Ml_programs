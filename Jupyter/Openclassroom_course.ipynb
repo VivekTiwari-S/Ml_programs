{
 "cells": [
  {
   "cell_type": "markdown",
   "id": "3acbb1b6",
   "metadata": {},
   "source": [
    "## First program from the course of openclassroom\n",
    "# # makes the code bold\n",
    "*This will be in italics*\n",
    "\n",
    "**This** is bold"
   ]
  },
  {
   "cell_type": "markdown",
   "id": "6d85fc03",
   "metadata": {},
   "source": [
    "## 1. Banking system"
   ]
  },
  {
   "cell_type": "code",
   "execution_count": 3,
   "id": "a619d208",
   "metadata": {},
   "outputs": [
    {
     "name": "stdout",
     "output_type": "stream",
     "text": [
      "Enter your account type : savings\n",
      "Add money or deposit money : add\n",
      "Enter the amount to add : 2300\n",
      "Added ! Current balance is : 7300\n"
     ]
    }
   ],
   "source": [
    "def options(currentBalance):\n",
    "    accountType = input('Enter your account type : ')\n",
    "    needType = input('Add money or deposit money : ')\n",
    "    if needType == 'add':\n",
    "        addMoney = int(input('Enter the amount to add : '))\n",
    "        currentBalance += addMoney\n",
    "        print('Added ! Current balance is :', currentBalance)\n",
    "    if needType == 'withdraw':\n",
    "        getMoney = int(input('Enter the amount to withdraw : '))\n",
    "        currentBalance -= getMoney\n",
    "        print('Remaining balance is :', currentBalance)\n",
    "    if needType == 'checkbal':\n",
    "        print('Current balance is :', currentBalance)\n",
    "\n",
    "currentBalance = 5000\n",
    "options(currentBalance)\n"
   ]
  },
  {
   "cell_type": "markdown",
   "id": "5bd0f8c7",
   "metadata": {},
   "source": [
    "## if we have to iterate on collection then for loop should be used but if the iteration requires a condition to follow then while loop must be used"
   ]
  },
  {
   "cell_type": "code",
   "execution_count": null,
   "id": "021a96ea",
   "metadata": {},
   "outputs": [],
   "source": []
  }
 ],
 "metadata": {
  "kernelspec": {
   "display_name": "Python 3 (ipykernel)",
   "language": "python",
   "name": "python3"
  },
  "language_info": {
   "codemirror_mode": {
    "name": "ipython",
    "version": 3
   },
   "file_extension": ".py",
   "mimetype": "text/x-python",
   "name": "python",
   "nbconvert_exporter": "python",
   "pygments_lexer": "ipython3",
   "version": "3.9.7"
  }
 },
 "nbformat": 4,
 "nbformat_minor": 5
}
