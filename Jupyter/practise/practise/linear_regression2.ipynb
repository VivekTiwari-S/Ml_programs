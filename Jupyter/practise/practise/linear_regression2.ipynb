{
 "cells": [
  {
   "cell_type": "code",
   "execution_count": 1,
   "metadata": {},
   "outputs": [],
   "source": [
    "import numpy as np\n",
    "import pandas as pd"
   ]
  },
  {
   "cell_type": "code",
   "execution_count": 2,
   "metadata": {},
   "outputs": [
    {
     "data": {
      "text/html": [
       "<div>\n",
       "<style scoped>\n",
       "    .dataframe tbody tr th:only-of-type {\n",
       "        vertical-align: middle;\n",
       "    }\n",
       "\n",
       "    .dataframe tbody tr th {\n",
       "        vertical-align: top;\n",
       "    }\n",
       "\n",
       "    .dataframe thead th {\n",
       "        text-align: right;\n",
       "    }\n",
       "</style>\n",
       "<table border=\"1\" class=\"dataframe\">\n",
       "  <thead>\n",
       "    <tr style=\"text-align: right;\">\n",
       "      <th></th>\n",
       "      <th>TV</th>\n",
       "      <th>Radio</th>\n",
       "      <th>Newspaper</th>\n",
       "      <th>Sales</th>\n",
       "    </tr>\n",
       "  </thead>\n",
       "  <tbody>\n",
       "    <tr>\n",
       "      <th>0</th>\n",
       "      <td>230.1</td>\n",
       "      <td>37.8</td>\n",
       "      <td>69.2</td>\n",
       "      <td>22.1</td>\n",
       "    </tr>\n",
       "    <tr>\n",
       "      <th>1</th>\n",
       "      <td>44.5</td>\n",
       "      <td>39.3</td>\n",
       "      <td>45.1</td>\n",
       "      <td>10.4</td>\n",
       "    </tr>\n",
       "    <tr>\n",
       "      <th>2</th>\n",
       "      <td>17.2</td>\n",
       "      <td>45.9</td>\n",
       "      <td>69.3</td>\n",
       "      <td>12.0</td>\n",
       "    </tr>\n",
       "    <tr>\n",
       "      <th>3</th>\n",
       "      <td>151.5</td>\n",
       "      <td>41.3</td>\n",
       "      <td>58.5</td>\n",
       "      <td>16.5</td>\n",
       "    </tr>\n",
       "    <tr>\n",
       "      <th>4</th>\n",
       "      <td>180.8</td>\n",
       "      <td>10.8</td>\n",
       "      <td>58.4</td>\n",
       "      <td>17.9</td>\n",
       "    </tr>\n",
       "    <tr>\n",
       "      <th>...</th>\n",
       "      <td>...</td>\n",
       "      <td>...</td>\n",
       "      <td>...</td>\n",
       "      <td>...</td>\n",
       "    </tr>\n",
       "    <tr>\n",
       "      <th>195</th>\n",
       "      <td>38.2</td>\n",
       "      <td>3.7</td>\n",
       "      <td>13.8</td>\n",
       "      <td>7.6</td>\n",
       "    </tr>\n",
       "    <tr>\n",
       "      <th>196</th>\n",
       "      <td>94.2</td>\n",
       "      <td>4.9</td>\n",
       "      <td>8.1</td>\n",
       "      <td>14.0</td>\n",
       "    </tr>\n",
       "    <tr>\n",
       "      <th>197</th>\n",
       "      <td>177.0</td>\n",
       "      <td>9.3</td>\n",
       "      <td>6.4</td>\n",
       "      <td>14.8</td>\n",
       "    </tr>\n",
       "    <tr>\n",
       "      <th>198</th>\n",
       "      <td>283.6</td>\n",
       "      <td>42.0</td>\n",
       "      <td>66.2</td>\n",
       "      <td>25.5</td>\n",
       "    </tr>\n",
       "    <tr>\n",
       "      <th>199</th>\n",
       "      <td>232.1</td>\n",
       "      <td>8.6</td>\n",
       "      <td>8.7</td>\n",
       "      <td>18.4</td>\n",
       "    </tr>\n",
       "  </tbody>\n",
       "</table>\n",
       "<p>200 rows × 4 columns</p>\n",
       "</div>"
      ],
      "text/plain": [
       "        TV  Radio  Newspaper  Sales\n",
       "0    230.1   37.8       69.2   22.1\n",
       "1     44.5   39.3       45.1   10.4\n",
       "2     17.2   45.9       69.3   12.0\n",
       "3    151.5   41.3       58.5   16.5\n",
       "4    180.8   10.8       58.4   17.9\n",
       "..     ...    ...        ...    ...\n",
       "195   38.2    3.7       13.8    7.6\n",
       "196   94.2    4.9        8.1   14.0\n",
       "197  177.0    9.3        6.4   14.8\n",
       "198  283.6   42.0       66.2   25.5\n",
       "199  232.1    8.6        8.7   18.4\n",
       "\n",
       "[200 rows x 4 columns]"
      ]
     },
     "execution_count": 2,
     "metadata": {},
     "output_type": "execute_result"
    }
   ],
   "source": [
    "advertising = pd.read_csv(\"Company_data.csv\")\n",
    "advertising"
   ]
  },
  {
   "cell_type": "code",
   "execution_count": 3,
   "metadata": {},
   "outputs": [
    {
     "data": {
      "text/plain": [
       "(200, 4)"
      ]
     },
     "execution_count": 3,
     "metadata": {},
     "output_type": "execute_result"
    }
   ],
   "source": [
    "advertising.shape"
   ]
  },
  {
   "cell_type": "code",
   "execution_count": 4,
   "metadata": {},
   "outputs": [
    {
     "name": "stdout",
     "output_type": "stream",
     "text": [
      "<class 'pandas.core.frame.DataFrame'>\n",
      "RangeIndex: 200 entries, 0 to 199\n",
      "Data columns (total 4 columns):\n",
      " #   Column     Non-Null Count  Dtype  \n",
      "---  ------     --------------  -----  \n",
      " 0   TV         200 non-null    float64\n",
      " 1   Radio      200 non-null    float64\n",
      " 2   Newspaper  200 non-null    float64\n",
      " 3   Sales      200 non-null    float64\n",
      "dtypes: float64(4)\n",
      "memory usage: 6.4 KB\n"
     ]
    }
   ],
   "source": [
    "advertising.info()"
   ]
  },
  {
   "cell_type": "code",
   "execution_count": 5,
   "metadata": {},
   "outputs": [
    {
     "data": {
      "text/html": [
       "<div>\n",
       "<style scoped>\n",
       "    .dataframe tbody tr th:only-of-type {\n",
       "        vertical-align: middle;\n",
       "    }\n",
       "\n",
       "    .dataframe tbody tr th {\n",
       "        vertical-align: top;\n",
       "    }\n",
       "\n",
       "    .dataframe thead th {\n",
       "        text-align: right;\n",
       "    }\n",
       "</style>\n",
       "<table border=\"1\" class=\"dataframe\">\n",
       "  <thead>\n",
       "    <tr style=\"text-align: right;\">\n",
       "      <th></th>\n",
       "      <th>TV</th>\n",
       "      <th>Radio</th>\n",
       "      <th>Newspaper</th>\n",
       "      <th>Sales</th>\n",
       "    </tr>\n",
       "  </thead>\n",
       "  <tbody>\n",
       "    <tr>\n",
       "      <th>count</th>\n",
       "      <td>200.000000</td>\n",
       "      <td>200.000000</td>\n",
       "      <td>200.000000</td>\n",
       "      <td>200.000000</td>\n",
       "    </tr>\n",
       "    <tr>\n",
       "      <th>mean</th>\n",
       "      <td>147.042500</td>\n",
       "      <td>23.264000</td>\n",
       "      <td>30.554000</td>\n",
       "      <td>15.130500</td>\n",
       "    </tr>\n",
       "    <tr>\n",
       "      <th>std</th>\n",
       "      <td>85.854236</td>\n",
       "      <td>14.846809</td>\n",
       "      <td>21.778621</td>\n",
       "      <td>5.283892</td>\n",
       "    </tr>\n",
       "    <tr>\n",
       "      <th>min</th>\n",
       "      <td>0.700000</td>\n",
       "      <td>0.000000</td>\n",
       "      <td>0.300000</td>\n",
       "      <td>1.600000</td>\n",
       "    </tr>\n",
       "    <tr>\n",
       "      <th>25%</th>\n",
       "      <td>74.375000</td>\n",
       "      <td>9.975000</td>\n",
       "      <td>12.750000</td>\n",
       "      <td>11.000000</td>\n",
       "    </tr>\n",
       "    <tr>\n",
       "      <th>50%</th>\n",
       "      <td>149.750000</td>\n",
       "      <td>22.900000</td>\n",
       "      <td>25.750000</td>\n",
       "      <td>16.000000</td>\n",
       "    </tr>\n",
       "    <tr>\n",
       "      <th>75%</th>\n",
       "      <td>218.825000</td>\n",
       "      <td>36.525000</td>\n",
       "      <td>45.100000</td>\n",
       "      <td>19.050000</td>\n",
       "    </tr>\n",
       "    <tr>\n",
       "      <th>max</th>\n",
       "      <td>296.400000</td>\n",
       "      <td>49.600000</td>\n",
       "      <td>114.000000</td>\n",
       "      <td>27.000000</td>\n",
       "    </tr>\n",
       "  </tbody>\n",
       "</table>\n",
       "</div>"
      ],
      "text/plain": [
       "               TV       Radio   Newspaper       Sales\n",
       "count  200.000000  200.000000  200.000000  200.000000\n",
       "mean   147.042500   23.264000   30.554000   15.130500\n",
       "std     85.854236   14.846809   21.778621    5.283892\n",
       "min      0.700000    0.000000    0.300000    1.600000\n",
       "25%     74.375000    9.975000   12.750000   11.000000\n",
       "50%    149.750000   22.900000   25.750000   16.000000\n",
       "75%    218.825000   36.525000   45.100000   19.050000\n",
       "max    296.400000   49.600000  114.000000   27.000000"
      ]
     },
     "execution_count": 5,
     "metadata": {},
     "output_type": "execute_result"
    }
   ],
   "source": [
    "advertising.describe()"
   ]
  },
  {
   "cell_type": "code",
   "execution_count": 6,
   "metadata": {},
   "outputs": [
    {
     "data": {
      "image/png": "[encoded data removed]",
      "text/plain": [
       "<Figure size 864x288 with 3 Axes>"
      ]
     },
     "metadata": {
      "needs_background": "light"
     },
     "output_type": "display_data"
    }
   ],
   "source": [
    "import matplotlib.pyplot as plt \n",
    "import seaborn as sns\n",
    "\n",
    "# Using pairplot we'll visualize the data for correlation\n",
    "sns.pairplot(advertising, x_vars=['TV', 'Radio','Newspaper'], \n",
    "             y_vars='Sales', height=4, aspect=1, kind='scatter')\n",
    "plt.show()"
   ]
  },
  {
   "cell_type": "code",
   "execution_count": 7,
   "metadata": {},
   "outputs": [
    {
     "data": {
      "image/png": "[encoded data removed]",
      "text/plain": [
       "<Figure size 432x288 with 2 Axes>"
      ]
     },
     "metadata": {
      "needs_background": "light"
     },
     "output_type": "display_data"
    }
   ],
   "source": [
    "sns.heatmap(advertising.corr(), cmap=\"YlGnBu\", annot = True)\n",
    "plt.show()"
   ]
  },
  {
   "cell_type": "code",
   "execution_count": 8,
   "metadata": {},
   "outputs": [],
   "source": [
    "X = advertising['TV']\n",
    "y = advertising['Sales']"
   ]
  },
  {
   "cell_type": "code",
   "execution_count": 10,
   "metadata": {},
   "outputs": [],
   "source": [
    "from sklearn.model_selection import train_test_split\n",
    "X_train_lm, X_test_lm, y_train_lm, y_test_lm = train_test_split(X, y, train_size = 0.7, \n",
    "                                                                test_size = 0.3, random_state = 100)\n"
   ]
  },
  {
   "cell_type": "code",
   "execution_count": 11,
   "metadata": {},
   "outputs": [
    {
     "name": "stdout",
     "output_type": "stream",
     "text": [
      "(140, 1)\n",
      "(60, 1)\n"
     ]
    }
   ],
   "source": [
    "\n",
    "# Shape of the train set without adding column\n",
    "X_train_lm.shape\n",
    "\n",
    "# Adding additional column to the train and test data\n",
    "X_train_lm = X_train_lm.values.reshape(-1,1)\n",
    "X_test_lm = X_test_lm.values.reshape(-1,1)\n",
    "\n",
    "print(X_train_lm.shape)\n",
    "print(X_test_lm.shape)"
   ]
  },
  {
   "cell_type": "code",
   "execution_count": 27,
   "metadata": {},
   "outputs": [
    {
     "name": "stdout",
     "output_type": "stream",
     "text": [
      "[[213.4]\n",
      " [151.5]\n",
      " [205. ]\n",
      " [142.9]\n",
      " [134.3]\n",
      " [ 80.2]\n",
      " [239.8]\n",
      " [ 88.3]\n",
      " [ 19.4]\n",
      " [225.8]\n",
      " [136.2]\n",
      " [ 25.1]\n",
      " [ 38. ]\n",
      " [172.5]\n",
      " [109.8]\n",
      " [240.1]\n",
      " [232.1]\n",
      " [ 66.1]\n",
      " [218.4]\n",
      " [234.5]\n",
      " [ 23.8]\n",
      " [ 67.8]\n",
      " [296.4]\n",
      " [141.3]\n",
      " [175.1]\n",
      " [220.5]\n",
      " [ 76.4]\n",
      " [253.8]\n",
      " [191.1]\n",
      " [287.6]\n",
      " [100.4]\n",
      " [228. ]\n",
      " [125.7]\n",
      " [ 74.7]\n",
      " [ 57.5]\n",
      " [262.7]\n",
      " [262.9]\n",
      " [237.4]\n",
      " [227.2]\n",
      " [199.8]\n",
      " [228.3]\n",
      " [290.7]\n",
      " [276.9]\n",
      " [199.8]\n",
      " [239.3]\n",
      " [ 73.4]\n",
      " [284.3]\n",
      " [147.3]\n",
      " [224. ]\n",
      " [198.9]\n",
      " [276.7]\n",
      " [ 13.2]\n",
      " [ 11.7]\n",
      " [280.2]\n",
      " [ 39.5]\n",
      " [265.6]\n",
      " [ 27.5]\n",
      " [280.7]\n",
      " [ 78.2]\n",
      " [163.3]\n",
      " [213.5]\n",
      " [293.6]\n",
      " [ 18.7]\n",
      " [ 75.5]\n",
      " [166.8]\n",
      " [ 44.7]\n",
      " [109.8]\n",
      " [  8.7]\n",
      " [266.9]\n",
      " [206.9]\n",
      " [149.8]\n",
      " [ 19.6]\n",
      " [ 36.9]\n",
      " [199.1]\n",
      " [265.2]\n",
      " [165.6]\n",
      " [140.3]\n",
      " [230.1]\n",
      " [  5.4]\n",
      " [ 17.9]\n",
      " [237.4]\n",
      " [286. ]\n",
      " [ 93.9]\n",
      " [292.9]\n",
      " [ 25. ]\n",
      " [ 97.5]\n",
      " [ 26.8]\n",
      " [281.4]\n",
      " [ 69.2]\n",
      " [ 43.1]\n",
      " [255.4]\n",
      " [239.9]\n",
      " [209.6]\n",
      " [  7.3]\n",
      " [240.1]\n",
      " [102.7]\n",
      " [243.2]\n",
      " [137.9]\n",
      " [ 18.8]\n",
      " [ 17.2]\n",
      " [ 76.4]\n",
      " [139.5]\n",
      " [261.3]\n",
      " [ 66.9]\n",
      " [ 48.3]\n",
      " [177. ]\n",
      " [ 28.6]\n",
      " [180.8]\n",
      " [222.4]\n",
      " [193.7]\n",
      " [ 59.6]\n",
      " [131.7]\n",
      " [  8.4]\n",
      " [ 13.1]\n",
      " [  4.1]\n",
      " [  0.7]\n",
      " [ 76.3]\n",
      " [250.9]\n",
      " [273.7]\n",
      " [ 96.2]\n",
      " [210.8]\n",
      " [ 53.5]\n",
      " [ 90.4]\n",
      " [104.6]\n",
      " [283.6]\n",
      " [ 95.7]\n",
      " [204.1]\n",
      " [ 31.5]\n",
      " [182.6]\n",
      " [289.7]\n",
      " [156.6]\n",
      " [107.4]\n",
      " [ 43. ]\n",
      " [248.4]\n",
      " [116. ]\n",
      " [110.7]\n",
      " [187.9]\n",
      " [139.3]\n",
      " [ 62.3]\n",
      " [  8.6]]\n"
     ]
    }
   ],
   "source": [
    "print(X_train_lm)"
   ]
  },
  {
   "cell_type": "code",
   "execution_count": 12,
   "metadata": {},
   "outputs": [
    {
     "data": {
      "text/plain": [
       "LinearRegression()"
      ]
     },
     "execution_count": 12,
     "metadata": {},
     "output_type": "execute_result"
    }
   ],
   "source": [
    "from sklearn.linear_model import LinearRegression\n",
    "\n",
    "# Creating an object of Linear Regression\n",
    "lm = LinearRegression()\n",
    "\n",
    "# Fit the model using .fit() method\n",
    "lm.fit(X_train_lm, y_train_lm)"
   ]
  },
  {
   "cell_type": "code",
   "execution_count": 13,
   "metadata": {},
   "outputs": [
    {
     "name": "stdout",
     "output_type": "stream",
     "text": [
      "Intercept : 6.948683200001357\n",
      "Slope : [0.05454575]\n"
     ]
    }
   ],
   "source": [
    "# Intercept value\n",
    "print(\"Intercept :\",lm.intercept_)\n",
    "\n",
    "# Slope value\n",
    "print('Slope :',lm.coef_)"
   ]
  },
  {
   "cell_type": "code",
   "execution_count": 15,
   "metadata": {},
   "outputs": [],
   "source": [
    "# Making Predictions of y_value\n",
    "y_train_pred = lm.predict(X_train_lm)\n",
    "y_test_pred = lm.predict(X_test_lm)\n"
   ]
  },
  {
   "cell_type": "code",
   "execution_count": 16,
   "metadata": {},
   "outputs": [
    {
     "name": "stdout",
     "output_type": "stream",
     "text": [
      "[18.58874687 15.21236477 18.13056255 14.74327129 14.27417782 11.32325258\n",
      " 20.02875475 11.76507318  8.00687081 19.26511421 14.37781475  8.3177816\n",
      "  9.02142181 16.35782558 12.93780687 20.04511848 19.60875245 10.55415747\n",
      " 18.86147564 19.73966226  8.24687212 10.64688525 23.11604436 14.65599809\n",
      " 16.49964454 18.97602172 11.11597872 20.79239529 17.37237658 22.63604174\n",
      " 12.42507679 19.38511486 13.80508434 11.02325094 10.08506399 21.27785249\n",
      " 21.28876164 19.89784494 19.34147826 17.84692463 19.40147859 22.80513357\n",
      " 22.05240218 17.84692463 20.00148187 10.95234146 22.45604075 14.9832726\n",
      " 19.16693185 17.79783345 22.04149303  7.66868714  7.58686851 22.23240317\n",
      "  9.10324044 21.43603517  8.44869141 22.25967604 11.21416108 15.85600465\n",
      " 18.59420145 22.96331626  7.96868878 11.06688755 16.04691479  9.38687836\n",
      " 12.93780687  7.42323125 21.50694465 18.23419948 15.11963699  8.01777996\n",
      "  8.96142148 17.80874261 21.41421687 15.98145988 14.60145233 19.49966095\n",
      "  7.24323027  7.92505218 19.89784494 22.54876853 12.0705294  22.92513423\n",
      "  8.31232702 12.26689411  8.41050938 22.29785807 10.7232493   9.29960515\n",
      " 20.87966849 20.03420932 18.38147301  7.3468672  20.04511848 12.55053202\n",
      " 20.21421031 14.47054253  7.97414335  7.88687015 11.11597872 14.55781573\n",
      " 21.20148844 10.59779407  9.58324307 16.60328147  8.50869173 16.81055533\n",
      " 19.07965865 17.51419554 10.19961007 14.13235886  7.40686752  7.66323256\n",
      "  7.17232079  6.98686523 11.11052415 20.63421261 21.87785577 12.19598463\n",
      " 18.44692791  9.86688098 11.87961926 12.65416896 22.41785873 12.16871175\n",
      " 18.08147137  8.66687442 16.90873768 22.75058782 15.49054811 12.80689706\n",
      "  9.29415058 20.49784822 13.27599054 12.98689805 17.19783017 14.54690658\n",
      " 10.34688361  7.41777668]\n"
     ]
    }
   ],
   "source": [
    "print(y_train_pred)"
   ]
  },
  {
   "cell_type": "code",
   "execution_count": 17,
   "metadata": {},
   "outputs": [
    {
     "name": "stdout",
     "output_type": "stream",
     "text": [
      "[ 7.37414007 19.94148154 14.32326899 18.82329361 20.13239168 18.2287449\n",
      " 14.54145201 17.72692398 18.75238413 18.77420243 13.34144544 19.46693349\n",
      " 10.01415451 17.1923756  11.70507285 12.08689312 15.11418241 16.23237035\n",
      " 15.8669138  13.1068987  18.65965635 14.00690363 17.60692332 16.60328147\n",
      " 17.03419291 18.96511257 18.93783969 11.05597839 17.03419291 13.66326538\n",
      " 10.6796127  10.71234015 13.5487193  17.22510305  9.67597085 13.52144643\n",
      " 12.25053038 16.13418799 19.07965865 17.48692266 18.69783838 16.53237199\n",
      " 15.92145955 18.86693021 13.5050827  11.84143724  7.87050642 20.51966653\n",
      " 10.79961336  9.03233096 17.99419817 16.29237067 11.04506924 14.09963141\n",
      " 18.44147334  9.3759692   7.88687015  8.34505447 17.72692398 11.62325422]\n"
     ]
    }
   ],
   "source": [
    "print(y_test_pred)"
   ]
  },
  {
   "cell_type": "code",
   "execution_count": 20,
   "metadata": {},
   "outputs": [
    {
     "data": {
      "image/png": "[encoded data removed]",
      "text/plain": [
       "<Figure size 432x288 with 1 Axes>"
      ]
     },
     "metadata": {
      "needs_background": "light"
     },
     "output_type": "display_data"
    }
   ],
   "source": [
    "import matplotlib.pyplot as plt \n",
    "import seaborn as sns\n",
    "\n",
    "plt.scatter(X_train_lm, y_train_lm)\n",
    "plt.plot(X_train_lm, 6.948 + 0.054*X_train_lm, 'r')\n",
    "plt.show()"
   ]
  },
  {
   "cell_type": "code",
   "execution_count": 23,
   "metadata": {},
   "outputs": [
    {
     "data": {
      "image/png": "[encoded data removed]",
      "text/plain": [
       "<Figure size 432x288 with 1 Axes>"
      ]
     },
     "metadata": {
      "needs_background": "light"
     },
     "output_type": "display_data"
    }
   ],
   "source": [
    "plt.scatter(X_test_lm, y_test_lm)\n",
    "plt.plot(X_test_lm, y_test_pred, 'r')\n",
    "plt.show()"
   ]
  },
  {
   "cell_type": "code",
   "execution_count": 29,
   "metadata": {},
   "outputs": [
    {
     "name": "stdout",
     "output_type": "stream",
     "text": [
      "[17.85783378]\n"
     ]
    }
   ],
   "source": [
    "y_f = lm.predict([[200]])\n",
    "print(y_f)"
   ]
  }
 ],
 "metadata": {
  "kernelspec": {
   "display_name": "Python 3",
   "language": "python",
   "name": "python3"
  },
  "language_info": {
   "codemirror_mode": {
    "name": "ipython",
    "version": 3
   },
   "file_extension": ".py",
   "mimetype": "text/x-python",
   "name": "python",
   "nbconvert_exporter": "python",
   "pygments_lexer": "ipython3",
   "version": "3.8.3"
  }
 },
 "nbformat": 4,
 "nbformat_minor": 4
}
