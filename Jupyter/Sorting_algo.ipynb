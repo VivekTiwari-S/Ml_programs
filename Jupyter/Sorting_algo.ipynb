{
 "cells": [
  {
   "cell_type": "markdown",
   "id": "6343feb8",
   "metadata": {},
   "source": [
    "## To find maximum number out of three numbers"
   ]
  },
  {
   "cell_type": "code",
   "execution_count": 5,
   "id": "60e34904",
   "metadata": {},
   "outputs": [
    {
     "name": "stdout",
     "output_type": "stream",
     "text": [
      "Enter first number : 12\n",
      "Enter second number : 25\n",
      "Enter third number : 36\n",
      "36 is maximum\n",
      "Wall time: 4.04 s\n"
     ]
    }
   ],
   "source": [
    "%%time\n",
    "a = int(input(\"Enter first number : \"))\n",
    "b = int(input(\"Enter second number : \"))\n",
    "c = int(input(\"Enter third number : \"))\n",
    "\n",
    "if a>b>c:\n",
    "    print(a,\"is maximum\")\n",
    "    \n",
    "elif b>c>a:\n",
    "    print(b,\"is maximum\")\n",
    "    \n",
    "elif c>b>a:\n",
    "    print(c,\"is maximum\")\n",
    "else:\n",
    "    print(\"all are equal !!\")"
   ]
  },
  {
   "cell_type": "markdown",
   "id": "326d87e2",
   "metadata": {},
   "source": [
    "## To print in ascending order"
   ]
  },
  {
   "cell_type": "code",
   "execution_count": 6,
   "id": "d689caba",
   "metadata": {},
   "outputs": [
    {
     "name": "stdout",
     "output_type": "stream",
     "text": [
      "Enter elements of list : 1 5 9 2 6 3 4 8 7\n",
      "['1', '2', '3', '4', '5', '6', '7', '8', '9']\n",
      "\n",
      "['1', '2', '3', '4', '5', '6', '7', '8', '9']\n",
      "Wall time: 6.3 s\n"
     ]
    }
   ],
   "source": [
    "%%time\n",
    "list1 = list(input(\"Enter elements of list : \").split())\n",
    "for i in range(0,len(list1)):\n",
    "    for j in range(0,(len(list1)-1)):\n",
    "        if list1[j]>list1[j+1]:\n",
    "            list1[j],list1[j+1]=list1[j+1],list1[j]\n",
    "print(list1)\n",
    "print()\n",
    "print(sorted(list1))"
   ]
  },
  {
   "cell_type": "markdown",
   "id": "c2cdf4cb",
   "metadata": {},
   "source": [
    "## To find and replace a repeating word"
   ]
  },
  {
   "cell_type": "code",
   "execution_count": 13,
   "id": "58c599a7",
   "metadata": {},
   "outputs": [
    {
     "name": "stdout",
     "output_type": "stream",
     "text": [
      "Enter the word to find : the \n",
      "Enter the word to replace : th\n",
      "Based on the teachings of the Eightfold Path, the Following Buddha series offers ancient wisdom to help you thrive in the modern world. Designed for both the avid Buddhist and the casual reader alike, these fun and accessible books provide thousands of teachings and affirmations to help you navigate all aspects of life—from building meaningful relationships, to balancing work and home life, to simply choosing one’s words wisely.\n"
     ]
    }
   ],
   "source": [
    "#code having some problem\n",
    "\n",
    "para = \"Based on the teachings of the Eightfold Path, the Following Buddha series offers ancient wisdom to help you thrive in the modern world. Designed for both the avid Buddhist and the casual reader alike, these fun and accessible books provide thousands of teachings and affirmations to help you navigate all aspects of life—from building meaningful relationships, to balancing work and home life, to simply choosing one’s words wisely.\"\n",
    "x = input(\"Enter the word to find : \")\n",
    "if x in para:\n",
    "    y = input(\"Enter the word to replace : \")\n",
    "    x,y = y,x\n",
    "    print(para)\n",
    "else:\n",
    "    print(\"Sorry !\\nThe word is not found !!\")\n",
    "\n"
   ]
  },
  {
   "cell_type": "code",
   "execution_count": 19,
   "id": "d74e91d9",
   "metadata": {},
   "outputs": [
    {
     "name": "stdout",
     "output_type": "stream",
     "text": [
      "Enter the word to find : replace\n",
      "Word not found !!\n"
     ]
    }
   ],
   "source": [
    "# using replace inbuilt function\n",
    "para = \"Based on the teachings of the Eightfold Path, the Following Buddha series offers ancient wisdom to help you thrive in the modern world. Designed for both the avid Buddhist and the casual reader alike, these fun and accessible books provide thousands of teachings and affirmations to help you navigate all aspects of life—from building meaningful relationships, to balancing work and home life, to simply choosing one’s words wisely.\"\n",
    "x = input(\"Enter the word to find : \")\n",
    "if x in para:\n",
    "    y = input(\"Enter the word to replace : \")\n",
    "    para = para.replace(x,y)\n",
    "    print(para)\n",
    "else:\n",
    "    print(\"Word not found !!\")"
   ]
  },
  {
   "cell_type": "code",
   "execution_count": null,
   "id": "ff079ead",
   "metadata": {},
   "outputs": [],
   "source": []
  }
 ],
 "metadata": {
  "kernelspec": {
   "display_name": "Python 3 (ipykernel)",
   "language": "python",
   "name": "python3"
  },
  "language_info": {
   "codemirror_mode": {
    "name": "ipython",
    "version": 3
   },
   "file_extension": ".py",
   "mimetype": "text/x-python",
   "name": "python",
   "nbconvert_exporter": "python",
   "pygments_lexer": "ipython3",
   "version": "3.9.7"
  }
 },
 "nbformat": 4,
 "nbformat_minor": 5
}
