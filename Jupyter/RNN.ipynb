{
 "cells": [
  {
   "cell_type": "code",
   "execution_count": 1,
   "metadata": {},
   "outputs": [],
   "source": [
    "# importing libraries\n",
    "import numpy as np\n",
    "import pandas as pd\n",
    "from sklearn.preprocessing import MinMaxScaler\n",
    "import matplotlib.pyplot as plt\n",
    "\n",
    "from keras.models import Sequential\n",
    "from keras.layers import Dense\n",
    "from keras.layers import LSTM\n",
    "from keras.layers import Dropout\n",
    "import tensorflow as tf"
   ]
  },
  {
   "cell_type": "code",
   "execution_count": 19,
   "metadata": {},
   "outputs": [
    {
     "name": "stdout",
     "output_type": "stream",
     "text": [
      "[[ 743.      ]\n",
      " [ 746.450012]\n",
      " [ 730.      ]\n",
      " ...\n",
      " [1787.790039]\n",
      " [1762.01001 ]\n",
      " [1735.420044]]\n",
      "(1259, 7)\n"
     ]
    },
    {
     "data": {
      "text/html": [
       "<div>\n",
       "<style scoped>\n",
       "    .dataframe tbody tr th:only-of-type {\n",
       "        vertical-align: middle;\n",
       "    }\n",
       "\n",
       "    .dataframe tbody tr th {\n",
       "        vertical-align: top;\n",
       "    }\n",
       "\n",
       "    .dataframe thead th {\n",
       "        text-align: right;\n",
       "    }\n",
       "</style>\n",
       "<table border=\"1\" class=\"dataframe\">\n",
       "  <thead>\n",
       "    <tr style=\"text-align: right;\">\n",
       "      <th></th>\n",
       "      <th>Date</th>\n",
       "      <th>Open</th>\n",
       "      <th>High</th>\n",
       "      <th>Low</th>\n",
       "      <th>Close</th>\n",
       "      <th>Adj Close</th>\n",
       "      <th>Volume</th>\n",
       "    </tr>\n",
       "  </thead>\n",
       "  <tbody>\n",
       "    <tr>\n",
       "      <th>0</th>\n",
       "      <td>1/4/16</td>\n",
       "      <td>743.000000</td>\n",
       "      <td>744.059998</td>\n",
       "      <td>731.257996</td>\n",
       "      <td>741.840027</td>\n",
       "      <td>741.840027</td>\n",
       "      <td>3272800</td>\n",
       "    </tr>\n",
       "    <tr>\n",
       "      <th>1</th>\n",
       "      <td>1/5/16</td>\n",
       "      <td>746.450012</td>\n",
       "      <td>752.000000</td>\n",
       "      <td>738.640015</td>\n",
       "      <td>742.580017</td>\n",
       "      <td>742.580017</td>\n",
       "      <td>1950700</td>\n",
       "    </tr>\n",
       "    <tr>\n",
       "      <th>2</th>\n",
       "      <td>1/6/16</td>\n",
       "      <td>730.000000</td>\n",
       "      <td>747.179993</td>\n",
       "      <td>728.919983</td>\n",
       "      <td>743.619995</td>\n",
       "      <td>743.619995</td>\n",
       "      <td>1947000</td>\n",
       "    </tr>\n",
       "    <tr>\n",
       "      <th>3</th>\n",
       "      <td>1/7/16</td>\n",
       "      <td>730.309998</td>\n",
       "      <td>738.500000</td>\n",
       "      <td>719.059998</td>\n",
       "      <td>726.390015</td>\n",
       "      <td>726.390015</td>\n",
       "      <td>2963700</td>\n",
       "    </tr>\n",
       "    <tr>\n",
       "      <th>4</th>\n",
       "      <td>1/8/16</td>\n",
       "      <td>731.450012</td>\n",
       "      <td>733.229980</td>\n",
       "      <td>713.000000</td>\n",
       "      <td>714.469971</td>\n",
       "      <td>714.469971</td>\n",
       "      <td>2450900</td>\n",
       "    </tr>\n",
       "  </tbody>\n",
       "</table>\n",
       "</div>"
      ],
      "text/plain": [
       "     Date        Open        High         Low       Close   Adj Close   Volume\n",
       "0  1/4/16  743.000000  744.059998  731.257996  741.840027  741.840027  3272800\n",
       "1  1/5/16  746.450012  752.000000  738.640015  742.580017  742.580017  1950700\n",
       "2  1/6/16  730.000000  747.179993  728.919983  743.619995  743.619995  1947000\n",
       "3  1/7/16  730.309998  738.500000  719.059998  726.390015  726.390015  2963700\n",
       "4  1/8/16  731.450012  733.229980  713.000000  714.469971  714.469971  2450900"
      ]
     },
     "execution_count": 19,
     "metadata": {},
     "output_type": "execute_result"
    }
   ],
   "source": [
    "#--------------------- Data Preprocessing --------------------#\n",
    "# Importing and scaling the data\n",
    "dataset_train = pd.read_csv(\"Google_Stock_Price_Trainset.csv\")\n",
    "#selecting the right column (we need all rows and column 1) : numpy array\n",
    "training_set = dataset_train.iloc[:,1:2].values\n",
    "print(training_set)\n",
    "print(dataset_train.shape)\n",
    "dataset_train.head()"
   ]
  },
  {
   "cell_type": "code",
   "execution_count": 16,
   "metadata": {},
   "outputs": [
    {
     "name": "stdout",
     "output_type": "stream",
     "text": [
      "1259\n"
     ]
    }
   ],
   "source": [
    "# Feature scaling\n",
    "sc = MinMaxScaler(feature_range=(0,1))\n",
    "training_set_scaled = sc.fit_transform(training_set)\n",
    "print(training_set_scaled.size)\n",
    "#print(training_set_scaled[0,:])"
   ]
  },
  {
   "cell_type": "code",
   "execution_count": 20,
   "metadata": {},
   "outputs": [],
   "source": [
    "#creating a data structure with 60 timesteps and 1 output\n",
    "X_train = []\n",
    "y_train = []\n",
    "\n",
    "for i in range(90,training_set_scaled.size):\n",
    "    # appending the 60 previous stock prices to the list for i\n",
    "    # we need to specify the rows and simply pick the first and only column\n",
    "    X_train.append(training_set_scaled[i-90:i, 0])\n",
    "    # appending the 60th stock price to the list for i\n",
    "    y_train.append(training_set_scaled[i, 0])\n",
    "# transforming pandas lists to numpy arrays required for the RNN\n",
    "X_train, y_train = np.array(X_train), np.array(y_train)\n",
    "#print(X_train)\n",
    "\n",
    "\n",
    "# Shaping/adding new dimensions to allow adding more indicators: from 2D to 3D\n",
    "# 3 input arguments\n",
    "# batch_size: number of observations\n",
    "# timesteps: number of columns\n",
    "# input_dim: number of predictors\n",
    "X_train = np.reshape(X_train, [X_train.shape[0], X_train.shape[1], 1])\n",
    "#print(X_train)"
   ]
  },
  {
   "cell_type": "code",
   "execution_count": 6,
   "metadata": {},
   "outputs": [
    {
     "name": "stdout",
     "output_type": "stream",
     "text": [
      "90\n"
     ]
    }
   ],
   "source": [
    "#--------------------- Building RNN/LSTM model --------------------#\n",
    "#Initializing the RNN\n",
    "\n",
    "# independent variable is a sequence of layers: regression and no classification given the continuous output value\n",
    "regressor = Sequential()\n",
    "#------------------------------------------------------------------#\n",
    "# Adding the first LSTM layer\n",
    "#------------------------------------------------------------------#\n",
    "\n",
    "# 3 inputs\n",
    "# number of memory/LSTM units or neurons in each LSTM\n",
    "# binary vb to indicate whether there will be further layers of LSTM added to teh model\n",
    "# input shape (automatically takes teh first dimension so the reamining only needs to be specified)\n",
    "print(X_train.shape[1])\n",
    "regressor.add(LSTM(units = 50, return_sequences=True, input_shape = (X_train.shape[1], 1)))\n",
    "\n",
    "# adding Dropout regularization layers\n",
    "# 1 input: amount of neurons to ignore in the layers\n",
    "regressor.add(Dropout(0.2))\n",
    "\n",
    "#------------------------------------------------------------------#\n",
    "# Adding the second LSTM layer\n",
    "#------------------------------------------------------------------#\n",
    "# no input shape needed given that that is specified in the previous layer\n",
    "regressor.add(LSTM(units = 50, return_sequences=True))\n",
    "regressor.add(Dropout(0.2))\n",
    "\n",
    "#------------------------------------------------------------------#\n",
    "# Adding the third LSTM layer\n",
    "#------------------------------------------------------------------#\n",
    "regressor.add(LSTM(units = 50, return_sequences=True))\n",
    "regressor.add(Dropout(0.2))\n",
    "\n",
    "#------------------------------------------------------------------#\n",
    "# Adding the forth LSTM layer\n",
    "#------------------------------------------------------------------#\n",
    "regressor.add(LSTM(units = 50, return_sequences=True))\n",
    "regressor.add(Dropout(0.2))\n",
    "\n",
    "#------------------------------------------------------------------#\n",
    "# Adding the fifth LSTM layer\n",
    "#------------------------------------------------------------------#\n",
    "# note that this is the final LSTM layer, hence we change the binary argument to False\n",
    "regressor.add(LSTM(units = 50))\n",
    "regressor.add(Dropout(0.2))\n",
    "\n",
    "#------------------------------------------------------------------#\n",
    "# Adding output layer to the RNN to make a fully connected NN\n",
    "#------------------------------------------------------------------#\n",
    "# one dimensional real output\n",
    "regressor.add(Dense(units = 1))"
   ]
  },
  {
   "cell_type": "code",
   "execution_count": null,
   "metadata": {},
   "outputs": [],
   "source": [
    "#--------------------- Compiling the RNN model --------------------#\n",
    "regressor.compile(optimizer = 'adam', loss = 'mean_squared_error')\n",
    "\n",
    "#--------------------- Training RNN model --------------------#\n",
    "#connecting the built regressor to the training model\n",
    "regressor.fit(X_train, y_train, epochs = 120, batch_size = 32)"
   ]
  },
  {
   "cell_type": "code",
   "execution_count": 8,
   "metadata": {},
   "outputs": [
    {
     "name": "stdout",
     "output_type": "stream",
     "text": [
      "[[1757.540039]\n",
      " [1725.      ]\n",
      " [1702.630005]\n",
      " [1740.060059]\n",
      " [1787.97998 ]\n",
      " [1786.069946]\n",
      " [1753.920044]\n",
      " [1738.579956]\n",
      " [1753.619995]\n",
      " [1738.189941]\n",
      " [1752.25    ]\n",
      " [1831.459961]\n",
      " [1898.      ]\n",
      " [1895.680054]\n",
      " [1920.670044]\n",
      " [1888.839966]\n",
      " [1882.530029]\n",
      " [1843.939941]\n",
      " [1846.170044]\n",
      " [1853.569946]]\n"
     ]
    }
   ],
   "source": [
    "#--------------------- Testing RNN model --------------------#\n",
    "dataset_test = pd.read_csv(\"Google_Stock_Price_Testset.csv\")\n",
    "# actual stock prices\n",
    "real_stock_price = dataset_test.iloc[:,1:2].values\n",
    "# predicting the stock prices using X_test\n",
    "# we need the original training data (vertical concatination 0, horizontal 1)\n",
    "dataset_total = pd.concat((dataset_train['Open'], dataset_test['Open']), axis = 0)\n",
    "print(real_stock_price)"
   ]
  },
  {
   "cell_type": "code",
   "execution_count": 9,
   "metadata": {},
   "outputs": [
    {
     "name": "stdout",
     "output_type": "stream",
     "text": [
      "First Financial day in 2021, when testing period begins 1259\n",
      "First Financial day in 2021 minus 60 days 1169\n"
     ]
    }
   ],
   "source": [
    "# for the consistence of the model we need to have the same scaling on the test as on the training\n",
    "# for the first test day we need the previous 60 days data from train\n",
    "print(\"First Financial day in 2021, when testing period begins\",len(dataset_total)- len(dataset_test))\n",
    "print(\"First Financial day in 2021 minus 60 days\",len(dataset_total)- len(dataset_test) - 90)\n",
    "inputs = dataset_total[len(dataset_total) - len(dataset_test) - 90:].values\n",
    "\n",
    "# reshaping,normalizing the inputs\n",
    "inputs = inputs.reshape(-1,1)\n",
    "# no longer fitting but just transforming\n",
    "inputs = sc.transform(inputs)"
   ]
  },
  {
   "cell_type": "code",
   "execution_count": 10,
   "metadata": {},
   "outputs": [],
   "source": [
    "#storing test data as we did in teh training\n",
    "X_test = []\n",
    "for i in range(90,inputs.size):\n",
    "    X_test.append(inputs[i-90:i, 0])\n",
    "X_test = np.array(X_test)\n",
    "#adding extra dimension\n",
    "X_test = np.reshape(X_test, [X_test.shape[0], X_test.shape[1], 1])\n",
    "\n",
    "#obtaining predicted values\n",
    "predicted_stock_price = regressor.predict(X_test)\n",
    "predicted_stock_price = sc.inverse_transform(predicted_stock_price)"
   ]
  },
  {
   "cell_type": "code",
   "execution_count": 11,
   "metadata": {},
   "outputs": [
    {
     "data": {
      "image/png": "[encoded data removed]",
      "text/plain": [
       "<Figure size 432x288 with 1 Axes>"
      ]
     },
     "metadata": {
      "needs_background": "light"
     },
     "output_type": "display_data"
    }
   ],
   "source": [
    "#--------------------- Visualizing the RNN model results--------------------#\n",
    "plt.plot(real_stock_price, color = '#ffd700', label = \"Real Price January - March 2021\")\n",
    "plt.plot(predicted_stock_price, color = '#4782B4', label = \"Predicted Price January - March 2021\")\n",
    "plt.title(\"Bitcoin Price Prediction\")\n",
    "plt.xlabel(\"Time\")\n",
    "plt.ylabel(\"Bitcoin Price\")\n",
    "plt.legend()\n",
    "plt.show()"
   ]
  },
  {
   "cell_type": "code",
   "execution_count": null,
   "metadata": {},
   "outputs": [],
   "source": []
  }
 ],
 "metadata": {
  "kernelspec": {
   "display_name": "Python 3",
   "language": "python",
   "name": "python3"
  },
  "language_info": {
   "codemirror_mode": {
    "name": "ipython",
    "version": 3
   },
   "file_extension": ".py",
   "mimetype": "text/x-python",
   "name": "python",
   "nbconvert_exporter": "python",
   "pygments_lexer": "ipython3",
   "version": "3.8.3"
  }
 },
 "nbformat": 4,
 "nbformat_minor": 4
}
