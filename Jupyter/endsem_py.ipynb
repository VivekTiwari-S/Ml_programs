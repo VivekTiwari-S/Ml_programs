{
 "cells": [
  {
   "cell_type": "markdown",
   "id": "8e823c31",
   "metadata": {},
   "source": [
    "## 1. Write a Python program to multiply all the items in a list. "
   ]
  },
  {
   "cell_type": "code",
   "execution_count": 55,
   "id": "8148b8d7",
   "metadata": {},
   "outputs": [
    {
     "name": "stdout",
     "output_type": "stream",
     "text": [
      "Enter list element with space in between : 1 5 4 7 3 6 4 6 9\n",
      "Enter the num you want to mul list with : 5\n",
      "List entered : [1, 5, 4, 7, 3, 6, 4, 6, 9]\n",
      "After multiplication : [5, 25, 20, 35, 15, 30, 20, 30, 45]\n"
     ]
    }
   ],
   "source": [
    "# take list and the num as input\n",
    "l1 = list(map(int, input('Enter list element with space in between : ').split()))\n",
    "mul = int(input('Enter the num you want to mul list with : '))\n",
    "\n",
    "print('List entered :', l1)\n",
    "for i in range(len(l1)):\n",
    "    l1[i] *= mul\n",
    "    \n",
    "print('After multiplication :', l1)"
   ]
  },
  {
   "cell_type": "markdown",
   "id": "a761a620",
   "metadata": {},
   "source": [
    "## 2. Write a Python program to count the number of strings from a given list of strings.\n",
    "## Sample List : ['abc', 'xyz', 'aba', '1221']\n",
    "## Expected Result : 3"
   ]
  },
  {
   "cell_type": "code",
   "execution_count": 56,
   "id": "f4d9dd24",
   "metadata": {},
   "outputs": [
    {
     "name": "stdout",
     "output_type": "stream",
     "text": [
      "No. of strings : 3\n"
     ]
    }
   ],
   "source": [
    "l2 = ['abc', 'xyz', 'aba', '1221'] # list containing strings\n",
    "count = 0 \n",
    "for i in l2:\n",
    "    for j in i:\n",
    "        if j.isdigit(): # if string is of digit type then update count variable\n",
    "            count = 1\n",
    "    if count == 1:  # if any number string found then remove that from the list\n",
    "        l2.remove(i)\n",
    "print('No. of strings :', len(l2)) # print the length of remaining list"
   ]
  },
  {
   "cell_type": "markdown",
   "id": "7cb9ba89",
   "metadata": {},
   "source": [
    "## 3. Write a Python program to move all zero digits to the end of a given list of numbers.\n",
    "## Original list:\n",
    "## [3, 4, 0, 0, 0, 6, 2, 0, 6, 7, 6, 0, 0, 0, 9, 10, 7, 4, 4, 5, 3, 0, 0, 2, 9, 7, 1]\n",
    "## Move all zero digits to end of the said list of numbers:\n",
    "## Expected output\n",
    "## [3, 4, 6, 2, 6, 7, 6, 9, 10, 7, 4, 4, 5, 3, 2, 9, 7, 1, 0, 0, 0, 0, 0, 0, 0, 0, 0]"
   ]
  },
  {
   "cell_type": "code",
   "execution_count": 1,
   "id": "c12fecbc",
   "metadata": {},
   "outputs": [
    {
     "name": "stdout",
     "output_type": "stream",
     "text": [
      "[3, 4, 6, 2, 6, 7, 6, 9, 10, 7, 4, 4, 5, 3, 2, 9, 7, 1, 0, 0, 0, 0, 0, 0, 0, 0, 0]\n"
     ]
    }
   ],
   "source": [
    "# declaring required variables \n",
    "l3 = [3, 4, 0, 0, 0, 6, 2, 0, 6, 7, 6, 0, 0, 0, 9, 10, 7, 4, 4, 5, 3, 0, 0, 2, 9, 7, 1]\n",
    "output = []\n",
    "count = l3.count(0)\n",
    "# to store non zero values in the output in the same order\n",
    "for i in l3:\n",
    "    if i != 0:\n",
    "        output.append(i)\n",
    "# to append the same number of zeroes present in the l3 in the output  \n",
    "for j in range(count):\n",
    "    output.append(0)\n",
    "print(output) # result\n"
   ]
  },
  {
   "cell_type": "code",
   "execution_count": 5,
   "id": "fb3f141c",
   "metadata": {},
   "outputs": [
    {
     "name": "stdout",
     "output_type": "stream",
     "text": [
      "Enter 1st string : vivek\n",
      "Enter 2nd string : tiwari\n",
      "vivektiwari\n"
     ]
    }
   ],
   "source": [
    "str1 = input('Enter 1st string : ')\n",
    "str2 = input('Enter 2nd string : ')\n",
    "print(str1 + str2)"
   ]
  },
  {
   "cell_type": "code",
   "execution_count": 8,
   "id": "36f7f6e5",
   "metadata": {},
   "outputs": [
    {
     "name": "stdout",
     "output_type": "stream",
     "text": [
      "Enter no of rows : 5\n",
      "1 \n",
      "2 3 \n",
      "4 5 6 \n",
      "7 8 9 10 \n",
      "11 12 13 14 15 \n"
     ]
    }
   ],
   "source": [
    "n = int(input('Enter no of rows : '))\n",
    "count = 1\n",
    "for i in range(1,n+1):\n",
    "    for j in range(i):\n",
    "        print(count, end = ' ')\n",
    "        count += 1\n",
    "    print()"
   ]
  },
  {
   "cell_type": "code",
   "execution_count": 1,
   "id": "e959ea64",
   "metadata": {},
   "outputs": [
    {
     "name": "stdout",
     "output_type": "stream",
     "text": [
      "aba\n",
      "1221\n",
      "Result =  2\n"
     ]
    }
   ],
   "source": [
    "Sample_list = ['abc','xyz','aba','1221']\n",
    "count = 0\n",
    "\n",
    "for string in Sample_list:\n",
    "    if len(string) > 1 and string[0] == string[-1]:\n",
    "        count += 1\n",
    "        print(string)\n",
    "print(\"Result = \",count)\n"
   ]
  },
  {
   "cell_type": "code",
   "execution_count": 1,
   "id": "7cf5010c",
   "metadata": {},
   "outputs": [
    {
     "name": "stdout",
     "output_type": "stream",
     "text": [
      "240\n"
     ]
    }
   ],
   "source": [
    "x = [2,4,5,6]\n",
    "result = 1\n",
    "for i in x:\n",
    "    result *= i\n",
    "print(result)"
   ]
  },
  {
   "cell_type": "code",
   "execution_count": 3,
   "id": "773f8a67",
   "metadata": {},
   "outputs": [
    {
     "name": "stdout",
     "output_type": "stream",
     "text": [
      "Enter the list : 2 5 3 6 \n",
      "Multiplication : 180\n"
     ]
    }
   ],
   "source": [
    "# with function\n",
    "def mul(x):\n",
    "    res = 1\n",
    "    for i in x:\n",
    "        res *= i\n",
    "    return res\n",
    "x = list(map(int,input('Enter the list : ').split()))\n",
    "print('Multiplication :', mul(x))"
   ]
  },
  {
   "cell_type": "code",
   "execution_count": 4,
   "id": "f73cf69f",
   "metadata": {},
   "outputs": [
    {
     "name": "stdout",
     "output_type": "stream",
     "text": [
      "Enter list : 5 4 7 2 6\n",
      "Enter num : 4\n",
      "Entered list : [5, 4, 7, 2, 6]\n",
      "New list is : [20, 16, 28, 8, 24]\n"
     ]
    }
   ],
   "source": [
    "def mul1(l, num):\n",
    "    for i in range(len(l)):\n",
    "        l[i] *= num\n",
    "    return l\n",
    "l = list(map(int, input('Enter list : ').split()))\n",
    "num = int(input('Enter num : '))\n",
    "print('Entered list :', l)\n",
    "print('New list is :', mul1(l,num))"
   ]
  },
  {
   "cell_type": "code",
   "execution_count": 12,
   "id": "6813635c",
   "metadata": {},
   "outputs": [
    {
     "name": "stdout",
     "output_type": "stream",
     "text": [
      "No of strings : 3\n"
     ]
    }
   ],
   "source": [
    "l2 = ['abc', 'xyz', 'aba', '1221'] # list containing strings\n",
    "def occ(l2):\n",
    "    count = 0 \n",
    "    for i in l2:\n",
    "        for j in i:\n",
    "            if j.isdigit(): # if string is of digit type then update count variable\n",
    "                count = 1\n",
    "        if count == 1:  # if any number string found then remove that from the list\n",
    "            l2.remove(i)\n",
    "    print('No of strings :', len(l2))\n",
    "occ(l2)"
   ]
  },
  {
   "cell_type": "code",
   "execution_count": 13,
   "id": "3366536d",
   "metadata": {},
   "outputs": [
    {
     "name": "stdout",
     "output_type": "stream",
     "text": [
      "Enter list elements : 1 0 5 4 0 2 4 0 5 8 0 0 4 0 5 0 6 0\n",
      "After shifting zeroes : [1, 5, 4, 2, 4, 5, 8, 4, 5, 6, 0, 0, 0, 0, 0, 0, 0, 0]\n"
     ]
    }
   ],
   "source": [
    "def shift_zero(l3):\n",
    "    count = l3.count(0)\n",
    "    output = []\n",
    "    for i in l3:\n",
    "        if i != 0:\n",
    "            output.append(i)\n",
    "    for j in range(count):\n",
    "        output.append(0)\n",
    "    return output\n",
    "\n",
    "inp = list(map(int, input('Enter list elements : ').split()))\n",
    "print('After shifting zeroes :', shift_zero(inp))"
   ]
  },
  {
   "cell_type": "markdown",
   "id": "40583470",
   "metadata": {},
   "source": [
    "## Turtle"
   ]
  },
  {
   "cell_type": "code",
   "execution_count": 21,
   "id": "8029ddfb",
   "metadata": {},
   "outputs": [],
   "source": [
    "# house\n",
    "import turtle\n",
    "t = turtle.Turtle()\n",
    "t.right(90)\n",
    "t.forward(70)\n",
    "t.left(90)\n",
    "t.forward(100)\n",
    "t.left(90)\n",
    "t.forward(70)\n",
    "t.left(60)\n",
    "t.forward(60)\n",
    "t.left(61)\n",
    "t.forward(56)\n",
    "t.right(85)\n",
    "t.forward(20)\n",
    "t.left(264)\n",
    "t.forward(69)\n",
    "t.left(300)\n",
    "t.forward(71)\n",
    "t.right(88)\n",
    "t.forward(20)\n",
    "t.penup()\n",
    "t.left(28)\n",
    "t.forward(70)\n",
    "t.pendown()\n",
    "t.right(90)\n",
    "t.forward(40)\n",
    "t.right(90)\n",
    "t.forward(60)\n",
    "t.left(90)\n",
    "t.forward(20)\n",
    "t.left(90)\n",
    "t.forward(60)\n",
    "t.right(90)\n",
    "t.forward(40)\n",
    "t.hideturtle()\n",
    "turtle.exitonclick()"
   ]
  },
  {
   "cell_type": "code",
   "execution_count": 23,
   "id": "cc9f2bac",
   "metadata": {},
   "outputs": [],
   "source": [
    "# envelope\n",
    "import turtle\n",
    "   \n",
    "t = turtle.Turtle() \n",
    "t.backward(100)\n",
    "t.left(60)\n",
    "t.forward(100)\n",
    "t.right(120)\n",
    "t.forward(100)\n",
    "t.left(100)\n",
    "t.forward(200)\n",
    "t.left(90)\n",
    "t.forward(100)\n",
    "t.left(90)\n",
    "t.forward(184)\n",
    "\n",
    "\n",
    "\n",
    "\n",
    "t.hideturtle()\n",
    "turtle.exitonclick()"
   ]
  },
  {
   "cell_type": "code",
   "execution_count": 31,
   "id": "a9da54eb",
   "metadata": {},
   "outputs": [],
   "source": [
    "# triangle inside a hexagon\n",
    "import turtle as t\n",
    "x = t.Turtle()\n",
    "for i in range(6):\n",
    "    x.forward(100)\n",
    "    x.left(60)\n",
    "    \n",
    "x.forward(100)\n",
    "x.left(150)\n",
    "\n",
    "for i in range(2):\n",
    "    x.forward(173)\n",
    "    x.right(120)\n",
    "\n",
    "x.forward(173)\n",
    "x.hideturtle()\n",
    "t.done()"
   ]
  },
  {
   "cell_type": "code",
   "execution_count": 33,
   "id": "2029893e",
   "metadata": {},
   "outputs": [],
   "source": [
    "# rectangle inside a hexagon\n",
    "import turtle as t\n",
    "x = t.Turtle()\n",
    "for i in range(6):\n",
    "    x.forward(100)\n",
    "    x.left(60)\n",
    "    \n",
    "x.left(30)\n",
    "x.forward(173)\n",
    "x.left(90)\n",
    "x.forward(100)\n",
    "x.left(90)\n",
    "x.forward(173)\n",
    "x.left(90)\n",
    "\n",
    "x.hideturtle()\n",
    "t.done()"
   ]
  },
  {
   "cell_type": "code",
   "execution_count": 35,
   "id": "5f77474d",
   "metadata": {},
   "outputs": [],
   "source": [
    "# square inside a hexagon\n",
    "import turtle as t\n",
    "x = t.Turtle()\n",
    "for i in range(6):\n",
    "    x.forward(100)\n",
    "    x.left(60)\n",
    "x.left(90)\n",
    "for i in range(3):\n",
    "    x.forward(100)\n",
    "    x.right(90)\n",
    "    \n",
    "x.hideturtle()\n",
    "t.done()"
   ]
  },
  {
   "cell_type": "code",
   "execution_count": 23,
   "id": "e85e63da",
   "metadata": {},
   "outputs": [],
   "source": [
    "# home from the front\n",
    "import turtle as t\n",
    "y = t.Turtle()\n",
    "y.forward(98)\n",
    "y.left(90)\n",
    "y.forward(100)\n",
    "y.left(45)\n",
    "y.forward(70)\n",
    "y.left(90)\n",
    "y.forward(70)\n",
    "y.right(90)\n",
    "y.forward(20)\n",
    "y.right(90)\n",
    "y.forward(90)\n",
    "y.right(90)\n",
    "y.forward(90)\n",
    "y.right(90)\n",
    "y.forward(20)\n",
    "y.left(45)\n",
    "y.forward(100)\n",
    "y.right(90)\n",
    "y.forward(39)\n",
    "y.right(90)\n",
    "y.forward(50)\n",
    "y.left(90)\n",
    "y.forward(20)\n",
    "y.left(90)\n",
    "y.forward(50)\n",
    "y.right(90)\n",
    "y.forward(39)\n",
    "y.right(90)\n",
    "y.forward(100)\n",
    "y.hideturtle()\n",
    "t.done()"
   ]
  },
  {
   "cell_type": "code",
   "execution_count": null,
   "id": "8016c872",
   "metadata": {},
   "outputs": [],
   "source": []
  }
 ],
 "metadata": {
  "kernelspec": {
   "display_name": "Python 3 (ipykernel)",
   "language": "python",
   "name": "python3"
  },
  "language_info": {
   "codemirror_mode": {
    "name": "ipython",
    "version": 3
   },
   "file_extension": ".py",
   "mimetype": "text/x-python",
   "name": "python",
   "nbconvert_exporter": "python",
   "pygments_lexer": "ipython3",
   "version": "3.9.7"
  }
 },
 "nbformat": 4,
 "nbformat_minor": 5
}
