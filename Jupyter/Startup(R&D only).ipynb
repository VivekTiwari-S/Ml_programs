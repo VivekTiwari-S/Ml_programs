{
 "cells": [
  {
   "cell_type": "code",
   "execution_count": 12,
   "id": "fbb166fe",
   "metadata": {},
   "outputs": [],
   "source": [
    "import numpy as np\n",
    "import seaborn as sns\n",
    "import matplotlib.pyplot as mat\n",
    "import pandas as pd"
   ]
  },
  {
   "cell_type": "code",
   "execution_count": 13,
   "id": "d095304c",
   "metadata": {},
   "outputs": [],
   "source": [
    "pr = pd.read_csv('50_Startups.csv')"
   ]
  },
  {
   "cell_type": "code",
   "execution_count": 14,
   "id": "086232dc",
   "metadata": {},
   "outputs": [
    {
     "data": {
      "text/plain": [
       "(50, 4)"
      ]
     },
     "execution_count": 14,
     "metadata": {},
     "output_type": "execute_result"
    }
   ],
   "source": [
    "pr.shape"
   ]
  },
  {
   "cell_type": "code",
   "execution_count": 15,
   "id": "1524ef7a",
   "metadata": {},
   "outputs": [
    {
     "name": "stdout",
     "output_type": "stream",
     "text": [
      "<class 'pandas.core.frame.DataFrame'>\n",
      "RangeIndex: 50 entries, 0 to 49\n",
      "Data columns (total 4 columns):\n",
      " #   Column           Non-Null Count  Dtype  \n",
      "---  ------           --------------  -----  \n",
      " 0   R&D Spend        50 non-null     float64\n",
      " 1   Administration   50 non-null     float64\n",
      " 2   Marketing Spend  50 non-null     float64\n",
      " 3   Profit           50 non-null     float64\n",
      "dtypes: float64(4)\n",
      "memory usage: 1.7 KB\n"
     ]
    }
   ],
   "source": [
    "pr.info()"
   ]
  },
  {
   "cell_type": "code",
   "execution_count": 16,
   "id": "77ca2969",
   "metadata": {},
   "outputs": [
    {
     "data": {
      "text/html": [
       "<div>\n",
       "<style scoped>\n",
       "    .dataframe tbody tr th:only-of-type {\n",
       "        vertical-align: middle;\n",
       "    }\n",
       "\n",
       "    .dataframe tbody tr th {\n",
       "        vertical-align: top;\n",
       "    }\n",
       "\n",
       "    .dataframe thead th {\n",
       "        text-align: right;\n",
       "    }\n",
       "</style>\n",
       "<table border=\"1\" class=\"dataframe\">\n",
       "  <thead>\n",
       "    <tr style=\"text-align: right;\">\n",
       "      <th></th>\n",
       "      <th>R&amp;D Spend</th>\n",
       "      <th>Administration</th>\n",
       "      <th>Marketing Spend</th>\n",
       "      <th>Profit</th>\n",
       "    </tr>\n",
       "  </thead>\n",
       "  <tbody>\n",
       "    <tr>\n",
       "      <th>count</th>\n",
       "      <td>50.000000</td>\n",
       "      <td>50.000000</td>\n",
       "      <td>50.000000</td>\n",
       "      <td>50.000000</td>\n",
       "    </tr>\n",
       "    <tr>\n",
       "      <th>mean</th>\n",
       "      <td>73721.615600</td>\n",
       "      <td>121344.639600</td>\n",
       "      <td>211025.097800</td>\n",
       "      <td>112012.639200</td>\n",
       "    </tr>\n",
       "    <tr>\n",
       "      <th>std</th>\n",
       "      <td>45902.256482</td>\n",
       "      <td>28017.802755</td>\n",
       "      <td>122290.310726</td>\n",
       "      <td>40306.180338</td>\n",
       "    </tr>\n",
       "    <tr>\n",
       "      <th>min</th>\n",
       "      <td>0.000000</td>\n",
       "      <td>51283.140000</td>\n",
       "      <td>0.000000</td>\n",
       "      <td>14681.400000</td>\n",
       "    </tr>\n",
       "    <tr>\n",
       "      <th>25%</th>\n",
       "      <td>39936.370000</td>\n",
       "      <td>103730.875000</td>\n",
       "      <td>129300.132500</td>\n",
       "      <td>90138.902500</td>\n",
       "    </tr>\n",
       "    <tr>\n",
       "      <th>50%</th>\n",
       "      <td>73051.080000</td>\n",
       "      <td>122699.795000</td>\n",
       "      <td>212716.240000</td>\n",
       "      <td>107978.190000</td>\n",
       "    </tr>\n",
       "    <tr>\n",
       "      <th>75%</th>\n",
       "      <td>101602.800000</td>\n",
       "      <td>144842.180000</td>\n",
       "      <td>299469.085000</td>\n",
       "      <td>139765.977500</td>\n",
       "    </tr>\n",
       "    <tr>\n",
       "      <th>max</th>\n",
       "      <td>165349.200000</td>\n",
       "      <td>182645.560000</td>\n",
       "      <td>471784.100000</td>\n",
       "      <td>192261.830000</td>\n",
       "    </tr>\n",
       "  </tbody>\n",
       "</table>\n",
       "</div>"
      ],
      "text/plain": [
       "           R&D Spend  Administration  Marketing Spend         Profit\n",
       "count      50.000000       50.000000        50.000000      50.000000\n",
       "mean    73721.615600   121344.639600    211025.097800  112012.639200\n",
       "std     45902.256482    28017.802755    122290.310726   40306.180338\n",
       "min         0.000000    51283.140000         0.000000   14681.400000\n",
       "25%     39936.370000   103730.875000    129300.132500   90138.902500\n",
       "50%     73051.080000   122699.795000    212716.240000  107978.190000\n",
       "75%    101602.800000   144842.180000    299469.085000  139765.977500\n",
       "max    165349.200000   182645.560000    471784.100000  192261.830000"
      ]
     },
     "execution_count": 16,
     "metadata": {},
     "output_type": "execute_result"
    }
   ],
   "source": [
    "pr.describe()"
   ]
  },
  {
   "cell_type": "code",
   "execution_count": 17,
   "id": "ad4e44d1",
   "metadata": {},
   "outputs": [
    {
     "data": {
      "image/png": "[encoded data removed]",
      "text/plain": [
       "<Figure size 1123.2x288 with 3 Axes>"
      ]
     },
     "metadata": {
      "needs_background": "light"
     },
     "output_type": "display_data"
    }
   ],
   "source": [
    "sns.pairplot(pr,x_vars = ['R&D Spend','Administration','Marketing Spend'],\n",
    "             y_vars = 'Profit', height = 4, aspect = 1.3, kind = 'scatter')\n",
    "mat.show()"
   ]
  },
  {
   "cell_type": "code",
   "execution_count": 18,
   "id": "ab84a7c6",
   "metadata": {},
   "outputs": [
    {
     "data": {
      "image/png": "[encoded data removed]",
      "text/plain": [
       "<Figure size 432x288 with 2 Axes>"
      ]
     },
     "metadata": {
      "needs_background": "light"
     },
     "output_type": "display_data"
    }
   ],
   "source": [
    "sns.heatmap(pr.corr(), cmap = 'YlGnBu', annot = True, annot_kws={'size': 15})\n",
    "mat.show()"
   ]
  },
  {
   "cell_type": "code",
   "execution_count": 19,
   "id": "0f2dad21",
   "metadata": {},
   "outputs": [],
   "source": [
    "x = pr['R&D Spend']\n",
    "y = pr['Profit']"
   ]
  },
  {
   "cell_type": "code",
   "execution_count": 20,
   "id": "4bc000f7",
   "metadata": {},
   "outputs": [],
   "source": [
    "from sklearn.model_selection import train_test_split\n",
    "x_tr,x_ts,y_tr,y_ts = train_test_split(x, y, train_size = 0.7, \n",
    "                                             test_size = 0.3,\n",
    "                                             random_state = 100)"
   ]
  },
  {
   "cell_type": "code",
   "execution_count": 22,
   "id": "8d8260b6",
   "metadata": {},
   "outputs": [
    {
     "name": "stdout",
     "output_type": "stream",
     "text": [
      "(35, 1)\n",
      "(15, 1)\n"
     ]
    }
   ],
   "source": [
    "x_tr.shape\n",
    "x_tr = x_tr.values.reshape(-1,1)\n",
    "x_ts = x_ts.values.reshape(-1,1) # Array\n",
    "print(x_tr.shape)\n",
    "print(x_ts.shape)"
   ]
  },
  {
   "cell_type": "code",
   "execution_count": 23,
   "id": "e18bf5e4",
   "metadata": {},
   "outputs": [
    {
     "name": "stdout",
     "output_type": "stream",
     "text": [
      "[[ 64664.71]\n",
      " [ 75328.87]\n",
      " [ 46014.02]\n",
      " [ 94657.16]\n",
      " [130298.13]\n",
      " [     0.  ]\n",
      " [ 61136.38]\n",
      " [ 63408.86]\n",
      " [ 86419.7 ]\n",
      " [ 78389.47]\n",
      " [ 91992.39]\n",
      " [162597.7 ]\n",
      " [142107.34]\n",
      " [ 93863.75]\n",
      " [ 72107.6 ]\n",
      " [ 28754.33]\n",
      " [ 73994.56]\n",
      " [ 65605.48]\n",
      " [123334.88]\n",
      " [ 78013.11]\n",
      " [ 22177.74]\n",
      " [   542.05]\n",
      " [  1315.46]\n",
      " [119943.24]\n",
      " [ 27892.92]\n",
      " [153441.51]\n",
      " [ 46426.07]\n",
      " [ 61994.48]\n",
      " [101913.08]\n",
      " [114523.61]\n",
      " [ 67532.53]\n",
      " [ 38558.51]\n",
      " [144372.41]\n",
      " [ 77044.01]\n",
      " [120542.52]]\n"
     ]
    }
   ],
   "source": [
    "print(x_tr)"
   ]
  },
  {
   "cell_type": "code",
   "execution_count": 24,
   "id": "fefa494a",
   "metadata": {},
   "outputs": [
    {
     "data": {
      "text/plain": [
       "LinearRegression()"
      ]
     },
     "execution_count": 24,
     "metadata": {},
     "output_type": "execute_result"
    }
   ],
   "source": [
    "from sklearn.linear_model import LinearRegression\n",
    "lr = LinearRegression()\n",
    "lr.fit(x_tr, y_tr)"
   ]
  },
  {
   "cell_type": "code",
   "execution_count": 25,
   "id": "e96a6442",
   "metadata": {},
   "outputs": [
    {
     "name": "stdout",
     "output_type": "stream",
     "text": [
      "Bias :  46823.27683169804\n",
      "Weight :  [0.87393216]\n"
     ]
    }
   ],
   "source": [
    "bias = lr.intercept_\n",
    "weight = lr.coef_\n",
    "print('Bias : ',bias)\n",
    "print('Weight : ',weight)"
   ]
  },
  {
   "cell_type": "code",
   "execution_count": 26,
   "id": "eeffe9ee",
   "metadata": {},
   "outputs": [],
   "source": [
    "y_tr_pred = lr.predict(x_tr)\n",
    "y_ts_pred = lr.predict(x_ts)"
   ]
  },
  {
   "cell_type": "code",
   "execution_count": 27,
   "id": "d865d158",
   "metadata": {},
   "outputs": [
    {
     "name": "stdout",
     "output_type": "stream",
     "text": [
      "[103335.84667899 112655.59908897  87036.4088353  129547.21336596\n",
      " 160695.00335142  46823.2768317  100252.3256121  102238.31897273\n",
      " 122348.23213471 115330.35586549 127218.38515731 188922.63640911\n",
      " 171015.45178405 128853.82684892 109840.42763189  71952.61062964\n",
      " 111489.50266523 104158.0158395  154609.59522093 115001.44275682\n",
      "  66205.11710911  47296.99176038  47972.89963417 151645.53194134\n",
      "  71199.79672555 180920.74748222  87396.51258286 101002.24680074\n",
      " 135888.39522244 146909.14297552 105842.12681323  80520.79885851\n",
      " 172994.96930735 114154.51509814 152169.26200767]\n"
     ]
    }
   ],
   "source": [
    "print(y_tr_pred)"
   ]
  },
  {
   "cell_type": "code",
   "execution_count": 28,
   "id": "546d9fb1",
   "metadata": {},
   "outputs": [
    {
     "name": "stdout",
     "output_type": "stream",
     "text": [
      "[164468.05689451  71873.45859368  85337.42353616 104547.82454126\n",
      "  60374.23298163  46823.2768317  162074.74123159  95321.22456049\n",
      " 113463.97759995  67483.84590995 191327.26075421 134803.74053692\n",
      " 127005.81863743  47697.40999859  64502.56616675]\n"
     ]
    }
   ],
   "source": [
    "print(y_ts_pred)"
   ]
  },
  {
   "cell_type": "code",
   "execution_count": 29,
   "id": "f3de9ee2",
   "metadata": {},
   "outputs": [
    {
     "data": {
      "image/png": "[encoded data removed]",
      "text/plain": [
       "<Figure size 432x288 with 1 Axes>"
      ]
     },
     "metadata": {
      "needs_background": "light"
     },
     "output_type": "display_data"
    }
   ],
   "source": [
    "mat.scatter(x_tr, y_tr)\n",
    "mat.plot(x_tr,bias + weight * x_tr, 'r')\n",
    "mat.show()"
   ]
  },
  {
   "cell_type": "code",
   "execution_count": 30,
   "id": "ce23a55c",
   "metadata": {},
   "outputs": [
    {
     "data": {
      "image/png": "[encoded data removed]",
      "text/plain": [
       "<Figure size 432x288 with 1 Axes>"
      ]
     },
     "metadata": {
      "needs_background": "light"
     },
     "output_type": "display_data"
    }
   ],
   "source": [
    "mat.scatter(x_ts, y_ts)\n",
    "mat.plot(x_ts, y_ts_pred, 'r')\n",
    "mat.show()"
   ]
  },
  {
   "cell_type": "code",
   "execution_count": 35,
   "id": "9e6fbdf1",
   "metadata": {},
   "outputs": [
    {
     "name": "stdout",
     "output_type": "stream",
     "text": [
      "Enter the R & D Spend : 73721\n",
      "[111250.42978286]\n"
     ]
    }
   ],
   "source": [
    "x = int(input(\"Enter the R & D Spend : \"))\n",
    "ans = lr.predict([[x]])\n",
    "print(ans)"
   ]
  },
  {
   "cell_type": "code",
   "execution_count": null,
   "id": "15e213a0",
   "metadata": {},
   "outputs": [],
   "source": []
  }
 ],
 "metadata": {
  "kernelspec": {
   "display_name": "Python 3 (ipykernel)",
   "language": "python",
   "name": "python3"
  },
  "language_info": {
   "codemirror_mode": {
    "name": "ipython",
    "version": 3
   },
   "file_extension": ".py",
   "mimetype": "text/x-python",
   "name": "python",
   "nbconvert_exporter": "python",
   "pygments_lexer": "ipython3",
   "version": "3.9.7"
  }
 },
 "nbformat": 4,
 "nbformat_minor": 5
}
