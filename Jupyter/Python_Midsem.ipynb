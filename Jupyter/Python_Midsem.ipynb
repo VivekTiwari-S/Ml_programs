{
 "cells": [
  {
   "cell_type": "markdown",
   "id": "a1dd3d90",
   "metadata": {},
   "source": [
    "## String "
   ]
  },
  {
   "cell_type": "code",
   "execution_count": 7,
   "id": "7e95cd17",
   "metadata": {},
   "outputs": [
    {
     "name": "stdout",
     "output_type": "stream",
     "text": [
      "Enter a string : Institute of Advanced research\n",
      "Institute of advanced research\n",
      "institute of advanced research\n",
      "INSTITUTE OF ADVANCED RESEARCH\n",
      "3\n",
      "3\n",
      "False\n",
      "Insaiauae of Advanced research\n",
      "iNSTITUTE OF aDVANCED RESEARCH\n",
      "Institute Of Advanced Research\n"
     ]
    }
   ],
   "source": [
    "import string\n",
    "# string is a array of characters \n",
    "# string is accessed using index which starts from 0 \n",
    "\n",
    "text = input('Enter a string : ')\n",
    "\n",
    "# by default the input takes the input in string format\n",
    "\n",
    "# Functions for modification and accessing of string \n",
    "\n",
    "print(text.capitalize()) # returns first character capital\n",
    "\n",
    "print(text.lower()) # returns all characters in lowercase (casefold() can also be used)\n",
    "\n",
    "print(text.upper()) # return all characters in uppercase\n",
    "\n",
    "print(text.count('t')) # return the frequency of 't' in string\n",
    "\n",
    "print(text.find('t')) # returns the index of 't' in string (index() can also be used)\n",
    "\n",
    "print(text.isalnum()) # returns true or false if characters are alphabet or num (space will be considered special char)\n",
    "\n",
    "# isdigit(), isascii(), isalpha(), islower(), isupper() are functions \n",
    "# which returns true or false only based on function names\n",
    "\n",
    "print(text.replace('t','a')) # replace func requires 2 arguments 't' will be replaced by 'a'\n",
    "\n",
    "print(text.swapcase()) # swaps lowercase char to uppercase char\n",
    "\n",
    "print(text.title()) # returns first char of each word in string in uppercase\n",
    "\n",
    "# Above are the functions for strings 👍👍"
   ]
  },
  {
   "cell_type": "markdown",
   "id": "6b57c7d1",
   "metadata": {},
   "source": [
    "## Lists"
   ]
  },
  {
   "cell_type": "code",
   "execution_count": 9,
   "id": "270e11a4",
   "metadata": {},
   "outputs": [
    {
     "name": "stdout",
     "output_type": "stream",
     "text": [
      "9\n",
      "[1, 2, 3, 'vivek', 'virat', 1.2, True, 1, 2, 4]\n",
      "[1, 2, 3, 'vivek', 'virat', 1.2, True, 1, 2, 4]\n",
      "2\n",
      "4\n",
      "[1, 2, 3, 'vivek', 'dhoni', 'virat', 1.2, True, 1, 2, 4]\n",
      "[2, 3, 'vivek', 'dhoni', 'virat', 1.2, True, 1, 2, 4]\n",
      "[]\n"
     ]
    }
   ],
   "source": [
    "# Lists are built-in datatype of python\n",
    "# List items are ordered by index and mutable\n",
    "# It is created using [] brackets\n",
    "\n",
    "list1 = [1, 2, 3, 'vivek', 'virat', 1.2, True, 1, 2]\n",
    "\n",
    "# Lists can store every datatype \n",
    "\n",
    "# Functions to modify and access the list\n",
    "\n",
    "print(len(list1)) # returns no. of list items\n",
    "\n",
    "list1.append(4) # will add 4 at the end of list\n",
    "print(list1)\n",
    "\n",
    "list2 = list1.copy() # list2 will get all elements of list1\n",
    "print(list2)\n",
    "\n",
    "print(list1.count(2)) # returns frequency of 1 in list1\n",
    "\n",
    "print(list1.index('virat')) # returns index of 'virat' in the list\n",
    "\n",
    "list1.insert(4,'dhoni') # 'dhoni' will be added to index 4\n",
    "print(list1)\n",
    "\n",
    "list1.remove(1) # removes the first 1 \n",
    "print(list1)\n",
    "\n",
    "list2.clear() # remove all list items\n",
    "print(list2)"
   ]
  },
  {
   "cell_type": "markdown",
   "id": "f1c84ace",
   "metadata": {},
   "source": [
    "## Loops in Python"
   ]
  },
  {
   "cell_type": "code",
   "execution_count": 1,
   "id": "51a9351b",
   "metadata": {},
   "outputs": [
    {
     "name": "stdout",
     "output_type": "stream",
     "text": [
      "Enter a num : 25\n",
      "1 2 3 4 5 6 7 8 9 10 11 12 13 14 15 16 17 18 19 20 21 22 23 24 \n",
      "2 4 6 8 10 12 14 16 18 20 22 24 \n",
      "1 3 5 7 9 11 13 15 17 19 21 23 \n",
      "25 24 23 22 21 20 19 18 17 16 15 14 13 12 11 10 9 8 7 6 5 4 3 2 1 \n"
     ]
    }
   ],
   "source": [
    "# for loop\n",
    "\n",
    "# to print num from 1 to n\n",
    "n = int(input('Enter a num : '))\n",
    "for i in range(1,n): # n will not be printed\n",
    "    print(i, end = ' ')\n",
    "print()    \n",
    "# to print even num from 1 to n\n",
    "for i in range(2,n,2): # loop will jump by 2 instead of 1 after every iteration\n",
    "    print(i, end = ' ')\n",
    "print()\n",
    "    \n",
    "# to print odd num from 1 to n\n",
    "for i in range(1,n,2):\n",
    "    print(i, end = ' ')\n",
    "print()\n",
    "    \n",
    "# to print num from n to 1 in reverse\n",
    "for i in range(n,0,-1):\n",
    "    print(i, end = ' ')\n",
    "print()"
   ]
  },
  {
   "cell_type": "code",
   "execution_count": 4,
   "id": "c782c423",
   "metadata": {},
   "outputs": [
    {
     "name": "stdout",
     "output_type": "stream",
     "text": [
      "Enter the num : 25\n",
      "1 2 3 4 5 6 7 8 9 10 11 12 13 14 15 16 17 18 19 20 21 22 23 24 \n",
      "2 4 6 8 10 12 14 16 18 20 22 24 \n",
      "1 3 5 7 9 11 13 15 17 19 21 23 \n",
      "25 24 23 22 21 20 19 18 17 16 15 14 13 12 11 10 9 8 7 6 5 4 3 2 1 \n"
     ]
    }
   ],
   "source": [
    "# while loop\n",
    "\n",
    "# to print num from 1 to n\n",
    "i = 1  # declaring iterating variable\n",
    "n = int(input('Enter the num : '))\n",
    "while i < n:\n",
    "    print(i,end = ' ')\n",
    "    i += 1\n",
    "print()\n",
    "\n",
    "# to print the even num from 1 to n\n",
    "i = 2  # declaring iterating variable\n",
    "while i < n:\n",
    "    print(i, end = ' ')\n",
    "    i += 2\n",
    "print()\n",
    "\n",
    "# to print the odd num from 1 to n\n",
    "i = 1  # declaring iterating variable\n",
    "while i < n:\n",
    "    print(i, end = ' ')\n",
    "    i += 2\n",
    "print()\n",
    "\n",
    "# to print num from n to 1 in reverse\n",
    "i = n # declaring iterating variable\n",
    "while i > 0:\n",
    "    print(i, end = ' ')\n",
    "    i -= 1\n",
    "print()\n",
    "\n",
    "# Iterating variable should be declared with each loop "
   ]
  },
  {
   "cell_type": "markdown",
   "id": "0a3f4d8f",
   "metadata": {},
   "source": [
    "##                     Hope this might help you in your practical exams 😊😊"
   ]
  }
 ],
 "metadata": {
  "kernelspec": {
   "display_name": "Python 3 (ipykernel)",
   "language": "python",
   "name": "python3"
  },
  "language_info": {
   "codemirror_mode": {
    "name": "ipython",
    "version": 3
   },
   "file_extension": ".py",
   "mimetype": "text/x-python",
   "name": "python",
   "nbconvert_exporter": "python",
   "pygments_lexer": "ipython3",
   "version": "3.9.7"
  }
 },
 "nbformat": 4,
 "nbformat_minor": 5
}
