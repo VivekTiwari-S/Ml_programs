{
 "cells": [
  {
   "cell_type": "markdown",
   "id": "aff9fc8b",
   "metadata": {},
   "source": [
    "## List methods\n"
   ]
  },
  {
   "cell_type": "code",
   "execution_count": 7,
   "id": "313f6ae5",
   "metadata": {},
   "outputs": [
    {
     "name": "stdout",
     "output_type": "stream",
     "text": [
      "Extend result : [1, 2, 3, 4, 7, 8, 9, 10]\n",
      "After insertion : ['Vivek', 'Krupesh', 'Ram']\n",
      "After appending : ['Virat', 'Rohit', 'Dhawan', 'Jadeja']\n",
      "After pop: [3, 4, 5, 9, 45]\n",
      "Before clearing : ['Summer', 'Winter', 'Monsoon']\n",
      "After clearing : []\n"
     ]
    }
   ],
   "source": [
    "# extend : It is used to add to lists in one.This method requires one parameter for the list to be added\n",
    "l1 = [1,2,3,4]\n",
    "l2 = [7,8,9,10]\n",
    "l1.extend(l2)\n",
    "print('Extend result :', l1)\n",
    "\n",
    "# insert : It is used to add element at the desired location.This method requires two parameters position & value\n",
    "l3 = ['Vivek','Ram']\n",
    "l3.insert(1,'Krupesh') # index 1 will get the value\n",
    "print('After insertion :', l3)\n",
    "\n",
    "# append : It is used to add an element at the end of the list.This method requires one parameter for the element\n",
    "l4 = ['Virat','Rohit','Dhawan']\n",
    "l4.append('Jadeja')\n",
    "print('After appending :', l4)\n",
    "\n",
    "# pop : It is used to remove a list element from a specific position.This method requires one parameter for position only \n",
    "l5 = [3,4,5,8,9,45]\n",
    "l5.pop(3) # element at index 3 will be removed (here : 8)\n",
    "print('After pop:', l5)\n",
    "\n",
    "# clear : It remove all the values from the list.This method do not need any parameter\n",
    "l6 = ['Summer','Winter','Monsoon']\n",
    "print('Before clearing :', l6)\n",
    "l6.clear()\n",
    "print('After clearing :',l6)"
   ]
  },
  {
   "cell_type": "markdown",
   "id": "b994bc7e",
   "metadata": {},
   "source": [
    "## Dictionary methods"
   ]
  },
  {
   "cell_type": "code",
   "execution_count": 14,
   "id": "2bfcc048",
   "metadata": {},
   "outputs": [
    {
     "name": "stdout",
     "output_type": "stream",
     "text": [
      "Getting age : 19\n",
      "Key present : dict_keys(['name', 'age', 'DOB'])\n",
      "Dictionary declared : {'season': 'Summer', 'fruit': 'Mango', 'clothes': 'cotton', 'month': 'march'}\n",
      "Dictionary remained : {'season': 'Summer', 'fruit': 'Mango', 'clothes': 'cotton'}\n",
      "After changing the month : {'season': 'Summer', 'fruit': 'Mango', 'month': 'june'}\n",
      "After adding a key-value pair: {'season': 'Summer', 'fruit': 'Mango', 'month': 'june', 'clothes': 'cotton'}\n",
      "Values present : dict_values(['Sujal', 19, 'IT'])\n"
     ]
    }
   ],
   "source": [
    "# get : It is used to get the value from the dictionary.This method requires key as the parameter.\n",
    "d1 = {\n",
    "    'name' : 'Vivek',\n",
    "    'age' : 19\n",
    "}\n",
    "print('Getting age :', d1.get('age'))\n",
    "\n",
    "# keys : It is used to get all the keys present in the dictionary.This method do not requires any parameter\n",
    "d2 = {\n",
    "    'name' : 'Ram',\n",
    "    'age' : 19,\n",
    "    'DOB' : '15/01/2004'\n",
    "}\n",
    "print('Key present :', d2.keys())\n",
    "\n",
    "# popitem : It removes the last key-value pair from the dictionary.This method do not require any parameter\n",
    "d3 = {\n",
    "    'season' : 'Summer',\n",
    "    'fruit' : 'Mango',\n",
    "    'clothes' : 'cotton',\n",
    "    'month' : 'march'\n",
    "}\n",
    "print('Dictionary declared :', d3)\n",
    "d3.popitem()\n",
    "print('Dictionary remained :', d3)\n",
    "\n",
    "# update : It is used to change the value or add the key-value pair in the dictionary\n",
    "# This method requires a key-value pair as a single parameter\n",
    "d4 = {\n",
    "    'season' : 'Summer',\n",
    "    'fruit' : 'Mango',\n",
    "    'month' : 'march'\n",
    "}\n",
    "d4.update({'month' : 'june'})\n",
    "print('After changing the month :', d4)\n",
    "d4.update({'clothes' : 'cotton'})\n",
    "print('After adding a key-value pair:', d4)\n",
    "\n",
    "# values : It is used get all the values present in the dictionary.This method do not requires any parameter\n",
    "d5 = {\n",
    "    'name' : 'Sujal',\n",
    "    'age' : 19,\n",
    "    'branch' : 'IT'\n",
    "}\n",
    "print('Values present :', d5.values())"
   ]
  },
  {
   "cell_type": "markdown",
   "id": "05ec0f6e",
   "metadata": {},
   "source": [
    "## Set methods"
   ]
  },
  {
   "cell_type": "code",
   "execution_count": 21,
   "id": "3e3375ba",
   "metadata": {},
   "outputs": [
    {
     "name": "stdout",
     "output_type": "stream",
     "text": [
      "Set after removing babar : {'Dhoni', 'Sachin', 'Virat'}\n",
      "The set copied : {1, 3, 5, 7, 9}\n",
      "Union is : {1, 2, 3, 4, 5, 6, 7, 8}\n",
      "Adding both : {1, 2, 3, 5, 6, 7}\n"
     ]
    }
   ],
   "source": [
    "# remove : It is used to remove an element from the set.This method requires an element to be removed as parameter\n",
    "s1 = {'Virat','Dhoni','Sachin','Babar'}\n",
    "s1.remove('Babar')\n",
    "print('Set after removing babar :', s1)\n",
    "\n",
    "# copy : It is used to copy a set.This method do not require any parameter\n",
    "s2 = {1,3,5,7,9}\n",
    "s3 = s2.copy()\n",
    "print('The set copied :',s3)\n",
    "\n",
    "# union : It is used to get the union of two sets.This method requires one set as a parameter\n",
    "s4 = {1,2,3,4,5}\n",
    "s5 = {2,6,7,3,8}\n",
    "print('Union is :', s4.union(s5))\n",
    "\n",
    "# discard : Same as remove\n",
    "\n",
    "# update : It is used to add two sets.This method requires one set as a parameter\n",
    "s6 = {1,2,3}\n",
    "s7 = {5,6,7}\n",
    "s6.update(s7)\n",
    "print('Adding both :', s6)"
   ]
  },
  {
   "cell_type": "code",
   "execution_count": null,
   "id": "0bc60c8c",
   "metadata": {},
   "outputs": [],
   "source": []
  }
 ],
 "metadata": {
  "kernelspec": {
   "display_name": "Python 3 (ipykernel)",
   "language": "python",
   "name": "python3"
  },
  "language_info": {
   "codemirror_mode": {
    "name": "ipython",
    "version": 3
   },
   "file_extension": ".py",
   "mimetype": "text/x-python",
   "name": "python",
   "nbconvert_exporter": "python",
   "pygments_lexer": "ipython3",
   "version": "3.9.7"
  }
 },
 "nbformat": 4,
 "nbformat_minor": 5
}
